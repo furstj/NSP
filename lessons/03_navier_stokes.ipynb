{
 "cells": [
  {
   "cell_type": "markdown",
   "metadata": {},
   "source": [
    "# Algoritmus SIMPLE pro Navierovy-Stokesovy rovnice"
   ]
  },
  {
   "cell_type": "code",
   "execution_count": 1,
   "metadata": {
    "collapsed": false
   },
   "outputs": [],
   "source": [
    "import Base.+, Base.-, Base.*\n",
    "using PyPlot"
   ]
  },
  {
   "cell_type": "code",
   "execution_count": 2,
   "metadata": {
    "collapsed": false
   },
   "outputs": [],
   "source": [
    "include(\"cartesianmesh.jl\");"
   ]
  },
  {
   "cell_type": "code",
   "execution_count": 3,
   "metadata": {
    "collapsed": true
   },
   "outputs": [],
   "source": [
    "type Field{T}\n",
    "    value \n",
    "    mesh\n",
    "    boundarycondition\n",
    "end"
   ]
  },
  {
   "cell_type": "code",
   "execution_count": 26,
   "metadata": {
    "collapsed": false
   },
   "outputs": [
    {
     "name": "stderr",
     "output_type": "stream",
     "text": [
      "WARNING: Method definition ScalarField(Main.CartesianMesh, Any) in module Main at In[4]:1 overwritten at In[26]:1.\n",
      "WARNING: Method definition VectorField(Main.CartesianMesh, Any) in module Main at In[4]:2 overwritten at In[26]:2.\n"
     ]
    }
   ],
   "source": [
    "ScalarField(m :: CartesianMesh, bc) = Field{Float64}(zeros(m.nx*m.ny), m, bc);\n",
    "VectorField(m :: CartesianMesh, bc) = Field{Vec2d}(zeros(Vec2d, m.nx*m.ny,2), m, bc);"
   ]
  },
  {
   "cell_type": "code",
   "execution_count": 27,
   "metadata": {
    "collapsed": false
   },
   "outputs": [
    {
     "name": "stderr",
     "output_type": "stream",
     "text": [
      "WARNING: Method definition asmatrix(Main.Field{Float64}) in module Main at In[5]:1 overwritten at In[27]:1.\n",
      "WARNING: Method definition asmatrix(Main.Field{StaticArrays.SVector{2, Float64}}) in module Main at In[5]:4 overwritten at In[27]:4.\n"
     ]
    }
   ],
   "source": [
    "asmatrix(f::Field{Float64}) = reshape(f.value, (f.mesh.nx,f.mesh.ny) );\n",
    "\n",
    "function asmatrix(f::Field{Vec2d})\n",
    "    m = zeros(f.mesh.nx, f.mesh.ny, 2)\n",
    "    for j=1:f.mesh.ny, i=1:f.mesh.nx\n",
    "        m[i,j,:] = f.value[i+(j-1)*f.mesh.nx]\n",
    "    end\n",
    "    return m\n",
    "end;"
   ]
  },
  {
   "cell_type": "code",
   "execution_count": 28,
   "metadata": {
    "collapsed": false
   },
   "outputs": [
    {
     "ename": "LoadError",
     "evalue": "invalid redefinition of constant Equation",
     "output_type": "error",
     "traceback": [
      "invalid redefinition of constant Equation",
      ""
     ]
    }
   ],
   "source": [
    "type Equation{T}\n",
    "    A\n",
    "    x\n",
    "    b\n",
    "end"
   ]
  },
  {
   "cell_type": "code",
   "execution_count": 29,
   "metadata": {
    "collapsed": false
   },
   "outputs": [
    {
     "name": "stderr",
     "output_type": "stream",
     "text": [
      "WARNING: Method definition -(Main.Equation) in module Main at In[23]:1 overwritten at In[29]:1.\n",
      "WARNING: Method definition -(Main.Equation{#T<:Any}, Array{#T<:Any, 1}) in module Main at In[23]:3 overwritten at In[29]:3.\n",
      "WARNING: Method definition +(Main.Equation{#T<:Any}, Array{#T<:Any, 1}) in module Main at In[23]:5 overwritten at In[29]:5.\n",
      "WARNING: Method definition *(Float64, Main.Equation{#T<:Any}) in module Main at In[23]:7 overwritten at In[29]:7.\n"
     ]
    }
   ],
   "source": [
    "-(eq::Equation) = Equation(-eq.A, eq.x, -eq.b);\n",
    "\n",
    "-{T}(eq::Equation{T}, b::Array{T,1}) = Equation(eq.A, eq.x, eq.b + b);\n",
    "\n",
    "+{T}(eq::Equation{T}, b::Array{T,1}) = Equation{T}(eq.A, eq.x, eq.b - b);\n",
    "\n",
    "*{T}(a::Float64, eq::Equation{T}) = Equation{T}(a*eq.A, eq.x, a*eq.b);"
   ]
  },
  {
   "cell_type": "code",
   "execution_count": 30,
   "metadata": {
    "collapsed": false
   },
   "outputs": [
    {
     "name": "stderr",
     "output_type": "stream",
     "text": [
      "WARNING: Method definition Ac(Main.Equation) in module Main at In[8]:1 overwritten at In[30]:1.\n",
      "WARNING: Method definition H(Main.Equation) in module Main at In[8]:6 overwritten at In[30]:4.\n"
     ]
    },
    {
     "data": {
      "text/plain": [
       "H (generic function with 1 method)"
      ]
     },
     "execution_count": 30,
     "metadata": {},
     "output_type": "execute_result"
    }
   ],
   "source": [
    "Ac(eq::Equation) = diag(eq.A);\n",
    "\n",
    "function H(eq::Equation)\n",
    "    res = copy(eq.b)\n",
    "    I,J,V = findnz(eq.A)\n",
    "    for ijv in zip(I,J,V)\n",
    "        i,j,v = ijv\n",
    "        if i!=j\n",
    "            eq.b[i] -= v * eq.x[i]\n",
    "        end\n",
    "    end\n",
    "    return res\n",
    "end"
   ]
  },
  {
   "cell_type": "code",
   "execution_count": 31,
   "metadata": {
    "collapsed": false
   },
   "outputs": [
    {
     "name": "stderr",
     "output_type": "stream",
     "text": [
      "WARNING: Method definition relax!(Main.Equation, Any) in module Main at In[9]:2 overwritten at In[31]:2.\n"
     ]
    }
   ],
   "source": [
    "function relax!(eqn::Equation, α)\n",
    "    D = diag(eqn.A)\n",
    "    for i=1:length(D) \n",
    "        eqn.A[i,i] /= α\n",
    "    end\n",
    "    eqn.b += (1-α)/α * D .* eqn.x\n",
    "end;"
   ]
  },
  {
   "cell_type": "code",
   "execution_count": 32,
   "metadata": {
    "collapsed": false
   },
   "outputs": [
    {
     "name": "stderr",
     "output_type": "stream",
     "text": [
      "WARNING: Method definition solve!(Main.Equation{Float64}) in module Main at In[10]:2 overwritten at In[32]:2.\n"
     ]
    }
   ],
   "source": [
    "function solve!(eqn::Equation{Float64})\n",
    "    x = eqn.A \\ eqn.b\n",
    "    for i in eachindex(eqn.x)\n",
    "        eqn.x[i] = x[i]\n",
    "    end\n",
    "end;"
   ]
  },
  {
   "cell_type": "code",
   "execution_count": 51,
   "metadata": {
    "collapsed": false
   },
   "outputs": [
    {
     "name": "stderr",
     "output_type": "stream",
     "text": [
      "WARNING: Method definition solve!(Main.Equation{StaticArrays.SVector{2, Float64}}) in module Main at In[45]:2 overwritten at In[51]:2.\n"
     ]
    }
   ],
   "source": [
    "function solve!(eqn::Equation{Vec2d})\n",
    "    b = zeros(length(eqn.b),2)\n",
    "    for i=1:length(eqn.b)\n",
    "        b[i,:] = eqn.b[i]\n",
    "    end\n",
    "    println(eqn.b)\n",
    "    println(size(eqn.b))\n",
    "    println(size(b))\n",
    "    \n",
    "    x = eqn.A \\ b\n",
    "\n",
    "    for i in eachindex(eqn.x)\n",
    "        eqn.x[i] = x[i,:]\n",
    "    end\n",
    "\n",
    "end;"
   ]
  },
  {
   "cell_type": "code",
   "execution_count": 52,
   "metadata": {
    "collapsed": false
   },
   "outputs": [
    {
     "name": "stderr",
     "output_type": "stream",
     "text": [
      "WARNING: Method definition (::Type{Main.Dirichlet})(Any) in module Main at In[46]:2 overwritten at In[52]:2.\n",
      "WARNING: Method definition (::Type{Main.Neumann})(Any) in module Main at In[46]:6 overwritten at In[52]:6.\n",
      "WARNING: Method definition bndvalue(Any, Any, Main.Dirichlet) in module Main at In[46]:9 overwritten at In[52]:9.\n",
      "WARNING: Method definition bndvalue(Any, Any, Main.Neumann) in module Main at In[46]:10 overwritten at In[52]:10.\n",
      "WARNING: Method definition ddncoeffs(Any, Main.Dirichlet) in module Main at In[46]:12 overwritten at In[52]:12.\n",
      "WARNING: Method definition ddncoeffs(Any, Main.Neumann) in module Main at In[46]:13 overwritten at In[52]:13.\n"
     ]
    }
   ],
   "source": [
    "type Dirichlet\n",
    "    value\n",
    "end\n",
    "\n",
    "type Neumann\n",
    "    value\n",
    "end\n",
    "\n",
    "bndvalue(uin, Δ, bc::Dirichlet) = bc.value;\n",
    "bndvalue(uin, Δ, bc::Neumann) = uin + Δ * bc.value;\n",
    "\n",
    "ddncoeffs(Δ, bc::Dirichlet) = (-1/Δ, bc.value/Δ);\n",
    "ddncoeffs(Δ, bc::Neumann) = (0, bc.value);"
   ]
  },
  {
   "cell_type": "code",
   "execution_count": 53,
   "metadata": {
    "collapsed": false
   },
   "outputs": [
    {
     "name": "stderr",
     "output_type": "stream",
     "text": [
      "WARNING: Method definition createfields(Any) in module Main at In[47]:2 overwritten at In[53]:2.\n"
     ]
    },
    {
     "data": {
      "text/plain": [
       "createfields (generic function with 1 method)"
      ]
     },
     "execution_count": 53,
     "metadata": {},
     "output_type": "execute_result"
    }
   ],
   "source": [
    "function createfields(msh)\n",
    "    U = VectorField(msh, Dict( \n",
    "            \"top\"=>Dirichlet(Vec2d(1,0)), \n",
    "            \"left\"=>Dirichlet(Vec2d(0,0)), \n",
    "            \"right\"=>Dirichlet(Vec2d(0,0)), \n",
    "            \"bottom\"=>Dirichlet(Vec2d(0,0)) \n",
    "            ));\n",
    "        \n",
    "    p = ScalarField(msh, Dict( \n",
    "            \"top\"=>Neumann(0), \n",
    "            \"left\"=>Neumann(0), \n",
    "            \"right\"=>Neumann(0), \n",
    "            \"bottom\"=>Neumann(0)\n",
    "            ));\n",
    "    return (U,p)\n",
    "end"
   ]
  },
  {
   "cell_type": "code",
   "execution_count": 54,
   "metadata": {
    "collapsed": false
   },
   "outputs": [
    {
     "name": "stderr",
     "output_type": "stream",
     "text": [
      "WARNING: Method definition laplace(Any, Main.Field{#T<:Any}) in module Main at In[48]:2 overwritten at In[54]:2.\n",
      "WARNING: Method definition laplace(Any) in module Main at In[48]:45 overwritten at In[54]:45.\n"
     ]
    },
    {
     "data": {
      "text/plain": [
       "laplace (generic function with 2 methods)"
      ]
     },
     "execution_count": 54,
     "metadata": {},
     "output_type": "execute_result"
    }
   ],
   "source": [
    "function laplace{T}(ν, u::Field{T})\n",
    "    mesh = u.mesh\n",
    "    dims = (mesh.nx, mesh.ny)\n",
    "    n  = prod(dims)\n",
    "    A = spzeros(n,n)\n",
    "    b = zeros(u.value)\n",
    "\n",
    "    \n",
    "    for f in internalfaces(mesh)\n",
    "        owner, neigh = f.owner, f.neigh\n",
    "        \n",
    "        νf = (ν[owner]+ν[neigh]) / 2.0\n",
    "        \n",
    "        co = cell(mesh, owner)\n",
    "        cn = cell(mesh, neigh)\n",
    "        \n",
    "        g = νf * norm(f.s) / norm(cn.x-co.x)\n",
    "\n",
    "        A[owner, owner] -= g / co.vol\n",
    "        A[owner, neigh] += g / co.vol\n",
    "            \n",
    "        A[neigh, owner] += g / cn.vol\n",
    "        A[neigh, neigh] -= g / cn.vol\n",
    "    end\n",
    "    \n",
    "    for patch in patches(mesh)\n",
    "\n",
    "        bc = u.boundarycondition[ name(patch) ]\n",
    "        for f in boundaryfaces(patch)\n",
    "            owner = f.owner\n",
    "            co = cell(mesh, owner)\n",
    "            \n",
    "            Δ = norm(f.x - co.x)\n",
    "            νf = ν[owner]\n",
    "            \n",
    "            a,val = ddncoeffs(Δ, bc)\n",
    "            A[owner,owner] += νf * a * norm(f.s) / co.vol\n",
    "            b[owner] -= νf * val * norm(f.s) / co.vol\n",
    "        end\n",
    "    end\n",
    "    \n",
    "    Equation{T}(A, u.value, b)\n",
    "end\n",
    "\n",
    "laplace(u) = laplace(ones(u.mesh.nx*u.mesh.ny), u)"
   ]
  },
  {
   "cell_type": "code",
   "execution_count": 55,
   "metadata": {
    "collapsed": true
   },
   "outputs": [],
   "source": [
    "m3 = CartesianMesh(3,3);\n",
    "U,p = createfields(m3);"
   ]
  },
  {
   "cell_type": "code",
   "execution_count": 56,
   "metadata": {
    "collapsed": false
   },
   "outputs": [
    {
     "name": "stdout",
     "output_type": "stream",
     "text": [
      "StaticArrays.SVector{2,Float64}[[0.0,0.0] [0.0,0.0]; [0.0,0.0] [0.0,0.0]; [0.0,0.0] [0.0,0.0]; [0.0,0.0] [0.0,0.0]; [0.0,0.0] [0.0,0.0]; [0.0,0.0] [0.0,0.0]; [-18.0,0.0] [0.0,0.0]; [-18.0,0.0] [0.0,0.0]; [-18.0,0.0] [0.0,0.0]]\n",
      "(9,2)\n",
      "(18,2)\n"
     ]
    },
    {
     "ename": "LoadError",
     "evalue": "DimensionMismatch(\"LHS and RHS should have the same number of rows. LHS has 9 rows, but RHS has 18 rows.\")",
     "output_type": "error",
     "traceback": [
      "DimensionMismatch(\"LHS and RHS should have the same number of rows. LHS has 9 rows, but RHS has 18 rows.\")",
      "",
      " in solve(::Int32, ::Base.SparseArrays.CHOLMOD.Factor{Float64}, ::Base.SparseArrays.CHOLMOD.Dense{Float64}) at ./sparse/cholmod.jl:758",
      " in \\ at ./sparse/cholmod.jl:1516 [inlined]",
      " in \\(::Hermitian{Float64,SparseMatrixCSC{Float64,Int64}}, ::Array{Float64,2}) at ./sparse/cholmod.jl:1534",
      " in \\(::SparseMatrixCSC{Float64,Int64}, ::Array{Float64,2}) at ./sparse/linalg.jl:867",
      " in solve!(::Equation{StaticArrays.SVector{2,Float64}}) at ./In[51]:10"
     ]
    }
   ],
   "source": [
    "uEqn = laplace(U);\n",
    "solve!(uEqn)"
   ]
  },
  {
   "cell_type": "code",
   "execution_count": 17,
   "metadata": {
    "collapsed": false
   },
   "outputs": [
    {
     "ename": "LoadError",
     "evalue": "DimensionMismatch(\"new dimensions (3,3) must be consistent with array size 18\")",
     "output_type": "error",
     "traceback": [
      "DimensionMismatch(\"new dimensions (3,3) must be consistent with array size 18\")",
      "",
      " in reshape(::Array{StaticArrays.SVector{2,Float64},2}, ::Tuple{Int64,Int64}) at ./array.jl:102",
      " in asmatrix(::Field{Float64}) at ./In[5]:1"
     ]
    }
   ],
   "source": [
    "asmatrix(U)[:,:,1]"
   ]
  },
  {
   "cell_type": "code",
   "execution_count": 18,
   "metadata": {
    "collapsed": true
   },
   "outputs": [],
   "source": [
    "function grad(p::Field{Float64})\n",
    "    mesh = p.mesh\n",
    "    dp = zeros(Vec2d,length(p.value))\n",
    "    \n",
    "    for f in internalfaces(mesh)\n",
    "        owner = f.owner\n",
    "        neigh = f.neigh\n",
    "        \n",
    "        pf = (p.value[owner] + p.value[neigh]) / 2.0\n",
    "        \n",
    "        dp[owner] += pf * f.s\n",
    "        dp[neigh] -= pf * f.s\n",
    "    end\n",
    "\n",
    "    for patch in patches(mesh)\n",
    "        bc = p.boundarycondition[ name(patch) ]\n",
    "        for f in boundaryfaces(patch)\n",
    "            owner = f.owner\n",
    "            co = cell(mesh, owner)\n",
    "            Δ = norm(f.x - co.x)\n",
    "            pf = bndvalue(p.value[owner], Δ, bc)\n",
    "            dp[owner] += pf * f.s\n",
    "        end\n",
    "    end\n",
    "    \n",
    "    for c in cells(mesh)\n",
    "        dp[c.id] /= c.vol\n",
    "    end\n",
    "    \n",
    "    return dp\n",
    "end;"
   ]
  },
  {
   "cell_type": "markdown",
   "metadata": {},
   "source": [
    "## Stokesuv problem (test)"
   ]
  },
  {
   "cell_type": "code",
   "execution_count": 19,
   "metadata": {
    "collapsed": true
   },
   "outputs": [],
   "source": [
    "ν = 0.01;\n",
    "msh25 = CartesianMesh(25,25);"
   ]
  },
  {
   "cell_type": "code",
   "execution_count": 25,
   "metadata": {
    "collapsed": false
   },
   "outputs": [
    {
     "ename": "LoadError",
     "evalue": "MethodError: Cannot `convert` an object of type StaticArrays.SVector{2,Float64} to an object of type Float64\nThis may have arisen from a call to the constructor Float64(...),\nsince type constructors fall back to convert methods.",
     "output_type": "error",
     "traceback": [
      "MethodError: Cannot `convert` an object of type StaticArrays.SVector{2,Float64} to an object of type Float64\nThis may have arisen from a call to the constructor Float64(...),\nsince type constructors fall back to convert methods.",
      "",
      " in convert(::Type{Base.SparseArrays.CHOLMOD.Dense{Float64}}, ::Array{StaticArrays.SVector{2,Float64},2}) at ./sparse/cholmod.jl:816",
      " in \\ at ./sparse/cholmod.jl:1516 [inlined]",
      " in \\(::Hermitian{Float64,SparseMatrixCSC{Float64,Int64}}, ::Array{StaticArrays.SVector{2,Float64},2}) at ./sparse/cholmod.jl:1531",
      " in \\(::SparseMatrixCSC{Float64,Int64}, ::Array{StaticArrays.SVector{2,Float64},2}) at ./sparse/linalg.jl:867",
      " in solve!(::Equation{Float64}) at ./In[10]:2",
      " in macro expansion; at ./In[25]:14 [inlined]",
      " in anonymous at ./<missing>:?"
     ]
    }
   ],
   "source": [
    "U,p = createfields(msh25);\n",
    "\n",
    "α = 0.7\n",
    "β = 0.3\n",
    "\n",
    "for iter = 0:0\n",
    "    \n",
    "    UOld, pOld = copy(U.value), copy(p.value)\n",
    "    \n",
    "    UEqn = (-ν)*laplace(U)\n",
    "\n",
    "    relax!(UEqn, α)\n",
    "    \n",
    "    solve!(UEqn + grad(p))\n",
    "    \n",
    "    #ra = 1 ./ Ac(UEqn);\n",
    "    \n",
    "    #UBar = Field{Vec2d}( ra .* H(UEqn), U.mesh, U.boundarycondition);\n",
    "    \n",
    "    #pEqn = laplace(ra, p) - (ddx(uBar) + ddy(vBar));\n",
    "    #pEqn.A[1,1] -= 1/(p.mesh.Δx*p.mesh.Δy)\n",
    "    #pEqn.A[1,1] *= 2\n",
    "    #solve!(pEqn)\n",
    "    \n",
    "    #p.value = (1-β) * pOld + β * p.value\n",
    "    #U.value = UBar.value - ra .* grad(p)\n",
    "    \n",
    "    #if rem(iter,5)==0\n",
    "    #    nxny = u.mesh.nx*u.mesh.ny\n",
    "    #    pRez = norm(pOld - p.value) / nxny\n",
    "    #    println(iter, \"\\t\", pRez)\n",
    "    #end\n",
    "end"
   ]
  },
  {
   "cell_type": "code",
   "execution_count": null,
   "metadata": {
    "collapsed": true
   },
   "outputs": [],
   "source": []
  }
 ],
 "metadata": {
  "kernelspec": {
   "display_name": "Julia 0.5.0",
   "language": "julia",
   "name": "julia-0.5"
  },
  "language_info": {
   "file_extension": ".jl",
   "mimetype": "application/julia",
   "name": "julia",
   "version": "0.5.1"
  }
 },
 "nbformat": 4,
 "nbformat_minor": 2
}
