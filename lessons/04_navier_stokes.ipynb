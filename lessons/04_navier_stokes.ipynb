{
 "cells": [
  {
   "cell_type": "markdown",
   "metadata": {},
   "source": [
    "# Algoritmus SIMPLE pro Navierovy-Stokesovy rovnice"
   ]
  },
  {
   "cell_type": "code",
   "execution_count": 1,
   "metadata": {},
   "outputs": [],
   "source": [
    "using PyPlot;"
   ]
  },
  {
   "cell_type": "code",
   "execution_count": 2,
   "metadata": {},
   "outputs": [],
   "source": [
    "include(\"mesh.jl\");\n",
    "include(\"fields.jl\");\n",
    "include(\"operators.jl\");"
   ]
  },
  {
   "cell_type": "code",
   "execution_count": 3,
   "metadata": {},
   "outputs": [
    {
     "data": {
      "text/plain": [
       "div (generic function with 1 method)"
      ]
     },
     "execution_count": 3,
     "metadata": {},
     "output_type": "execute_result"
    }
   ],
   "source": [
    "function div(ϕ::Array{Float64,1} , U::Field)\n",
    "    A = spzeros(length(U.values),length(U.values))\n",
    "    b = zeros(U.values)\n",
    "    \n",
    "    msh = U.mesh\n",
    "    \n",
    "    for f ∈ msh.faces\n",
    "        o = f.owner\n",
    "        n = f.neigh\n",
    "    \n",
    "        α = max(ϕ[f.id], 0.0)\n",
    "        β = min(ϕ[f.id], 0.0)\n",
    "        \n",
    "        A[o,o] += α / msh.cells[o].vol\n",
    "        A[o,n] += β / msh.cells[o].vol\n",
    "            \n",
    "        A[n,o] -= α / msh.cells[n].vol\n",
    "        A[n,n] -= β / msh.cells[n].vol\n",
    "    end\n",
    "\n",
    "    for (name,faces) ∈ msh.patches\n",
    "        bc = U.boundaries[name]\n",
    "        for (i,f) ∈ enumerate(bc.faces)\n",
    "            o = f.owner\n",
    "            coeff = boundary_coeffs(bc, i)  # tj. ub = coef[1] + coef[2]*uin\n",
    "            α = max(ϕ[f.id], 0.0)\n",
    "            β = min(ϕ[f.id], 0.0)\n",
    "\n",
    "            c = boundary_coeffs(bc, i)  # tj. ub = c[1] + c[2]*uin\n",
    "            A[o,o] += (α + β*c[2]) / msh.cells[o].vol\n",
    "            b[o]   += β*c[1] / msh.cells[o].vol\n",
    "        end\n",
    "    end\n",
    "\n",
    "    \n",
    "    return Equation(A, U.values, b)\n",
    "end     "
   ]
  },
  {
   "cell_type": "code",
   "execution_count": 4,
   "metadata": {},
   "outputs": [],
   "source": [
    "function create_fields(msh)\n",
    "    U = VectorField(msh)\n",
    "    set_dirichlet_patch!(U, \"left\", Vec2d(0,0));\n",
    "    set_dirichlet_patch!(U, \"right\", Vec2d(0,0));\n",
    "    set_dirichlet_patch!(U, \"bottom\", Vec2d(0,0));\n",
    "    set_dirichlet_patch!(U, \"top\", Vec2d(1,0));\n",
    "\n",
    "    p = ScalarField(msh);\n",
    "    for name ∈ [\"left\", \"right\", \"bottom\", \"top\"]\n",
    "        set_neumann_patch!(p, name, 0.0)\n",
    "    end\n",
    "\n",
    "    return (U,p)\n",
    "end;"
   ]
  },
  {
   "cell_type": "code",
   "execution_count": 5,
   "metadata": {},
   "outputs": [
    {
     "data": {
      "text/plain": [
       "interpolate_U_to_faces (generic function with 1 method)"
      ]
     },
     "execution_count": 5,
     "metadata": {},
     "output_type": "execute_result"
    }
   ],
   "source": [
    "function interpolate_U_to_faces(U::VectorField)\n",
    "    mesh = U.mesh\n",
    "    nfaces = length(mesh.faces) + reduce(+, [length(faces) for (_,faces) ∈ mesh.patches])\n",
    "    ϕ = zeros(nfaces)\n",
    "    for f ∈ mesh.faces\n",
    "        o = f.owner\n",
    "        n = f.neigh\n",
    "        ϕ[f.id] = dot(f.s, (U[o]+U[n])/2.)\n",
    "    end\n",
    "\n",
    "    for (name,faces) ∈ mesh.patches\n",
    "        bc = U.boundaries[name]\n",
    "        for (i,f) ∈ enumerate(bc.faces)\n",
    "            o = f.owner\n",
    "            Ub = boundary_value(bc, i)\n",
    "            ϕ[f.id] = dot(f.s, Ub)\n",
    "        end\n",
    "    end\n",
    "\n",
    "    return ϕ\n",
    "end"
   ]
  },
  {
   "cell_type": "code",
   "execution_count": 6,
   "metadata": {},
   "outputs": [
    {
     "data": {
      "text/plain": [
       "calculate_ϕ! (generic function with 1 method)"
      ]
     },
     "execution_count": 6,
     "metadata": {},
     "output_type": "execute_result"
    }
   ],
   "source": [
    "function calculate_ϕ!(ϕ::Array{Float64,1}, Ubar::VectorField, p::ScalarField, ra::Array{Float64,1})\n",
    "    mesh = Ubar.mesh\n",
    "    nfaces = length(mesh.faces) + reduce(+, [length(faces) for (_,faces) ∈ mesh.patches])\n",
    "    for f ∈ mesh.faces\n",
    "        o = f.owner\n",
    "        n = f.neigh\n",
    "        δ = norm(mesh.cells[n].x - mesh.cells[o].x)\n",
    "        pn = (p[n] - p[o]) / δ\n",
    "        ϕ[f.id] = dot(f.s, (Ubar[o]+Ubar[n])/2.) - (ra[o]+ra[n])/2 * pn * norm(f.s)\n",
    "    end\n",
    "\n",
    "    for (name,faces) ∈ mesh.patches\n",
    "        bc  = Ubar.boundaries[name]\n",
    "        pbc = p.boundaries[name]\n",
    "        for (i,f) ∈ enumerate(bc.faces)\n",
    "            o = f.owner\n",
    "            Ub = boundary_value(bc, i)\n",
    "            pb = boundary_value(pbc, i)\n",
    "            pn = (pb - p[o]) / norm(mesh.cells[o].x - f.x)\n",
    "            ϕ[f.id] = dot(f.s, Ub) - ra[o] * pn\n",
    "        end\n",
    "    end\n",
    "\n",
    "end"
   ]
  },
  {
   "cell_type": "code",
   "execution_count": 7,
   "metadata": {},
   "outputs": [
    {
     "data": {
      "text/plain": [
       "SIMPLE (generic function with 1 method)"
      ]
     },
     "execution_count": 7,
     "metadata": {},
     "output_type": "execute_result"
    }
   ],
   "source": [
    "function SIMPLE(U, p, ν; fix_pressure=true, iters=50)\n",
    "    mesh = U.mesh\n",
    "    α = 0.7\n",
    "    β = 0.3\n",
    "\n",
    "    ϕ = interpolate_U_to_faces(U)\n",
    "\n",
    "    for iter = 0:iters\n",
    "    \n",
    "        UOld, pOld = copy(U.values), copy(p.values)\n",
    "    \n",
    "        \n",
    "        UEqn = div(ϕ,U) - Δ(ν,U)\n",
    "\n",
    "        relax!(UEqn, α)\n",
    "    \n",
    "        solve!(UEqn + ∇(p))\n",
    "    \n",
    "        ra = 1 ./ Ac(UEqn);\n",
    "\n",
    "        Ubar = VectorField(ra .* H(UEqn), U.mesh, U.boundaries);\n",
    "    \n",
    "        pEqn = Δ(ra, p) - ∇(Ubar);\n",
    "        if fix_pressure\n",
    "            pEqn.A[1,1] -= length(mesh.cells)\n",
    "        end\n",
    "        solve!(pEqn)\n",
    "    \n",
    "        p ← β*p + (1-β)*pOld\n",
    "        U ← Ubar - ra .* ∇(p)\n",
    "    \n",
    "        calculate_ϕ!(ϕ, Ubar, p, ra)\n",
    "        \n",
    "        if rem(iter,5)==0\n",
    "            nxny = length(mesh.cells)\n",
    "            pRez = norm(pOld - p.values) / nxny\n",
    "            URez = norm(UOld - U.values) / nxny\n",
    "            println(iter, \"\\t\", pRez, \"\\t\", URez)\n",
    "        end\n",
    "\n",
    "    end\n",
    "    \n",
    "    return U,p\n",
    "end"
   ]
  },
  {
   "cell_type": "code",
   "execution_count": 8,
   "metadata": {},
   "outputs": [
    {
     "data": {
      "text/plain": [
       "cavity_ns (generic function with 1 method)"
      ]
     },
     "execution_count": 8,
     "metadata": {},
     "output_type": "execute_result"
    }
   ],
   "source": [
    "function cavity_ns(ν, mesh)\n",
    "\n",
    "    U,p = create_fields(mesh);\n",
    "    U,p = SIMPLE(U, p, ν)\n",
    "    return U,p\n",
    "end"
   ]
  },
  {
   "cell_type": "code",
   "execution_count": 9,
   "metadata": {},
   "outputs": [
    {
     "name": "stdout",
     "output_type": "stream",
     "text": [
      "0\t0.003954386650172494\t0.0031633014957489257\n",
      "5\t0.0009313427996707679\t0.0005820193295719034\n",
      "10\t0.00013548980578324083\t0.00025506876833372857\n",
      "15\t0.00017847248003570733\t0.00015129097069981434\n",
      "20\t0.00010612779116952029\t0.00010613746710153291\n",
      "25\t4.453713224425754e-5\t7.86657676718023e-5\n",
      "30\t1.7553394031891265e-5\t5.997548804401457e-5\n",
      "35\t9.89568527159458e-6\t4.658787470759559e-5\n",
      "40\t7.548678374520902e-6\t3.66352814513692e-5\n",
      "45\t6.3536038398324255e-6\t2.902663057372061e-5\n",
      "50\t5.382903568870426e-6\t2.3096888945097248e-5\n"
     ]
    }
   ],
   "source": [
    "ν = 0.01;\n",
    "msh25 = cartesian_mesh(25,25);\n",
    "U,p = cavity_ns(ν, msh25);"
   ]
  },
  {
   "cell_type": "code",
   "execution_count": 10,
   "metadata": {},
   "outputs": [
    {
     "data": {
      "image/png": "[encoded data removed]",
      "text/plain": [
       "PyPlot.Figure(PyObject <matplotlib.figure.Figure object at 0x7feb4845ff28>)"
      ]
     },
     "metadata": {},
     "output_type": "display_data"
    }
   ],
   "source": [
    "cmap = ColorMap(\"rainbow\")\n",
    "\n",
    "plot_contourf(p; cmap=cmap); colorbar();\n",
    "plot_arrows(U);"
   ]
  },
  {
   "cell_type": "markdown",
   "metadata": {},
   "source": [
    "## Jemnější síť a menší viskozita"
   ]
  },
  {
   "cell_type": "code",
   "execution_count": 11,
   "metadata": {},
   "outputs": [],
   "source": [
    "ν = 1.e-3;\n",
    "msh50 = cartesian_mesh(50,50);"
   ]
  },
  {
   "cell_type": "code",
   "execution_count": null,
   "metadata": {},
   "outputs": [
    {
     "name": "stdout",
     "output_type": "stream",
     "text": [
      "0\t0.00039379457172870056\t0.0011611564177153371\n",
      "5\t0.0001336644019491195\t0.00018143208796904636\n",
      "10\t2.229342553582052e-5\t0.0001059981922056072\n",
      "15\t1.9249245570140393e-5\t8.185950976471167e-5\n",
      "20\t1.7066576891443028e-5\t7.089598420492302e-5\n",
      "25\t1.2710589849244858e-5\t6.466429272635907e-5\n",
      "30\t1.0287541290041003e-5\t6.041337521272531e-5\n",
      "35"
     ]
    }
   ],
   "source": [
    "U,p = cavity_ns(ν, msh50);"
   ]
  },
  {
   "cell_type": "code",
   "execution_count": null,
   "metadata": {},
   "outputs": [],
   "source": [
    "plot_contourf(p; cmap=cmap); colorbar();\n",
    "plot_arrows(U);"
   ]
  },
  {
   "cell_type": "code",
   "execution_count": null,
   "metadata": {},
   "outputs": [],
   "source": [
    "component(f::VectorField, c) = [ v[c] for v in f.values ]\n",
    "\n",
    "n=50\n",
    "uu = reshape(component(U,1), (n,n));\n",
    "vv = reshape(component(U,2), (n,n));\n",
    "pp = reshape(p.values, (n,n));"
   ]
  },
  {
   "cell_type": "code",
   "execution_count": null,
   "metadata": {},
   "outputs": [],
   "source": [
    "# Ψ_x = v, Ψ_y = - u\n",
    "\n",
    "function streamfunction(u, v, Δx=1, Δy=1)\n",
    "    Ψ1 = zeros(u)\n",
    "\n",
    "    Ψ1[1,1] = 0.0\n",
    "    for i=2:size(u,1)\n",
    "        Ψ1[i,1] = Ψ1[i-1,1] + Δx * (v[i,1]+v[i-1,1])/2\n",
    "    end\n",
    "    for j=2:size(u,2)\n",
    "        Ψ1[:,j] = Ψ1[:,j-1] - Δy * (u[:,j]+u[:,j-1])/2\n",
    "    end\n",
    "\n",
    "    Ψ2 = zeros(Ψ1)\n",
    "    \n",
    "    Ψ2[1,1] = 0.0\n",
    "    for j=2:size(u,2)\n",
    "        Ψ2[1,j] = Ψ2[1,j-1] - Δy * (u[1,j,1]+u[1,j-1])/2\n",
    "    end\n",
    "    for i=2:size(u,1)\n",
    "        Ψ2[i,:] = Ψ2[i-1,:] + Δx * (v[i,:]+v[i-1,:])/2\n",
    "    end\n",
    "    \n",
    "    Ψ = (Ψ1 + Ψ2) / 2\n",
    "    \n",
    "    #Ψ[end,end] = (Ψ[end-1,end]+Ψ[end,end-1]) / 2\n",
    "    return Ψ\n",
    "end"
   ]
  },
  {
   "cell_type": "code",
   "execution_count": null,
   "metadata": {},
   "outputs": [],
   "source": [
    "Ψ = streamfunction(uu,vv,1./25,1./25);\n",
    "\n",
    "pos = linspace(0, maximum(Ψ), 10)\n",
    "contour(Ψ', pos, colors=\"black\");\n",
    "neg = linspace(minimum(Ψ), 0, 5)\n",
    "contourf(pp'; cmap=cmap); colorbar();\n",
    "contour(Ψ', neg, colors=\"red\");"
   ]
  },
  {
   "cell_type": "markdown",
   "metadata": {},
   "source": [
    "## Vypočet na nestrukturované síti"
   ]
  },
  {
   "cell_type": "code",
   "execution_count": null,
   "metadata": {},
   "outputs": [],
   "source": [
    "include(\"gmsh_mesh.jl\")"
   ]
  },
  {
   "cell_type": "code",
   "execution_count": null,
   "metadata": {},
   "outputs": [],
   "source": [
    "gmsh = gmsh_mesh(\"domain.msh\");"
   ]
  },
  {
   "cell_type": "code",
   "execution_count": null,
   "metadata": {},
   "outputs": [],
   "source": [
    "plot_mesh(gmsh);\n",
    "axis(\"equal\");"
   ]
  },
  {
   "cell_type": "code",
   "execution_count": null,
   "metadata": {},
   "outputs": [],
   "source": [
    "keys(gmsh.patches)"
   ]
  },
  {
   "cell_type": "code",
   "execution_count": null,
   "metadata": {},
   "outputs": [],
   "source": [
    "U = VectorField(gmsh)\n",
    "set_dirichlet_patch!(U, \"INLET\", Vec2d(1,0));\n",
    "set_dirichlet_patch!(U, \"TOP\", Vec2d(0,0));\n",
    "set_dirichlet_patch!(U, \"BOTTOM\", Vec2d(0,0));\n",
    "set_dirichlet_patch!(U, \"PROFILE\", Vec2d(0,0));\n",
    "set_neumann_patch!(U, \"OUTLET\", Vec2d(0,0));\n",
    "U.values = [Vec2d(1,0) for c in gmsh.cells]\n",
    "\n",
    "p = ScalarField(gmsh);\n",
    "for name ∈ [\"INLET\", \"PROFILE\", \"TOP\", \"BOTTOM\"]\n",
    "    set_neumann_patch!(p, name, 0.0)\n",
    "end\n",
    "set_dirichlet_patch!(p, \"OUTLET\", 0.0);"
   ]
  },
  {
   "cell_type": "code",
   "execution_count": null,
   "metadata": {},
   "outputs": [],
   "source": [
    "U,p = SIMPLE(U, p, 1.e-3, fix_pressure=false, iters=100);"
   ]
  },
  {
   "cell_type": "code",
   "execution_count": null,
   "metadata": {},
   "outputs": [],
   "source": [
    "plot_contourf(U; cmap=cmap); colorbar();\n",
    "plot_arrows(U);\n",
    "axis(\"equal\");"
   ]
  },
  {
   "cell_type": "markdown",
   "metadata": {},
   "source": [
    "## Výpočet na síti se zjemněním u stěny"
   ]
  },
  {
   "cell_type": "code",
   "execution_count": null,
   "metadata": {},
   "outputs": [],
   "source": [
    "gmf = gmsh_mesh(\"domain_bl.msh\");"
   ]
  },
  {
   "cell_type": "code",
   "execution_count": null,
   "metadata": {},
   "outputs": [],
   "source": [
    "#plot_mesh(gmf);\n",
    "#axis(\"equal\");\n",
    "#xlim(-1.5,1.5); ylim(-2.5,2.5);"
   ]
  },
  {
   "cell_type": "code",
   "execution_count": null,
   "metadata": {},
   "outputs": [],
   "source": [
    "length(gmf.cells)"
   ]
  },
  {
   "cell_type": "code",
   "execution_count": null,
   "metadata": {},
   "outputs": [],
   "source": [
    "keys(gmf.patches)"
   ]
  },
  {
   "cell_type": "code",
   "execution_count": null,
   "metadata": {},
   "outputs": [],
   "source": [
    "Uf = VectorField(gmf)\n",
    "set_dirichlet_patch!(Uf, \"INLET\", Vec2d(1,0));\n",
    "set_dirichlet_patch!(Uf, \"TOP\", Vec2d(0,0));\n",
    "set_dirichlet_patch!(Uf, \"BOTTOM\", Vec2d(0,0));\n",
    "set_dirichlet_patch!(Uf, \"PROFILE\", Vec2d(0,0));\n",
    "set_neumann_patch!(Uf, \"OUTLET\", Vec2d(0,0));\n",
    "Uf.values = [Vec2d(1,0) for c in gmf.cells]\n",
    "\n",
    "pf = ScalarField(gmf);\n",
    "for name ∈ [\"INLET\", \"PROFILE\", \"TOP\", \"BOTTOM\"]\n",
    "    set_neumann_patch!(pf, name, 0.0)\n",
    "end\n",
    "set_dirichlet_patch!(pf, \"OUTLET\", 0.0);"
   ]
  },
  {
   "cell_type": "code",
   "execution_count": null,
   "metadata": {},
   "outputs": [],
   "source": [
    "Uf,pf = SIMPLE(Uf, pf, 1.e-2, fix_pressure=false, iters=10);"
   ]
  },
  {
   "cell_type": "code",
   "execution_count": null,
   "metadata": {},
   "outputs": [],
   "source": [
    "Uf,pf = SIMPLE(Uf, pf, 1.e-3, fix_pressure=false, iters=50);"
   ]
  },
  {
   "cell_type": "code",
   "execution_count": null,
   "metadata": {},
   "outputs": [],
   "source": [
    "plot_contourf(Uf; cmap=cmap); colorbar();\n",
    "#plot_arrows(Uf);\n",
    "axis(\"equal\");"
   ]
  },
  {
   "cell_type": "code",
   "execution_count": null,
   "metadata": {},
   "outputs": [],
   "source": [
    "plot_contourf(Uf; cmap=cmap); colorbar();\n",
    "plot_arrows(Uf; units=\"xy\", scale=10);\n",
    "axis(\"equal\");\n",
    "xlim(-1.5,1.5); ylim(-2.5,2.5);"
   ]
  },
  {
   "cell_type": "code",
   "execution_count": null,
   "metadata": {},
   "outputs": [],
   "source": []
  }
 ],
 "metadata": {
  "kernelspec": {
   "display_name": "Julia 0.6.2",
   "language": "julia",
   "name": "julia-0.6"
  },
  "language_info": {
   "file_extension": ".jl",
   "mimetype": "application/julia",
   "name": "julia",
   "version": "0.6.2"
  }
 },
 "nbformat": 4,
 "nbformat_minor": 2
}
