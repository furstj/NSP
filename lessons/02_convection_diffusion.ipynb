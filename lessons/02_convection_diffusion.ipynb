{
 "cells": [
  {
   "cell_type": "markdown",
   "metadata": {},
   "source": [
    "# Numerické řešení konvekce s difusí pomocí MKO"
   ]
  },
  {
   "cell_type": "markdown",
   "metadata": {},
   "source": [
    "## Síť pro MKO"
   ]
  },
  {
   "cell_type": "code",
   "execution_count": 1,
   "metadata": {},
   "outputs": [
    {
     "name": "stderr",
     "output_type": "stream",
     "text": [
      "┌ Warning: `getindex(o::PyObject, s::AbstractString)` is deprecated in favor of dot overloading (`getproperty`) so elements should now be accessed as e.g. `o.\"s\"` instead of `o[\"s\"]`.\n",
      "│   caller = top-level scope at none:0\n",
      "└ @ Core none:0\n"
     ]
    }
   ],
   "source": [
    "using Plots\n",
    "using StaticArrays\n",
    "import Base.-, Base.+, Base.*, Base./\n",
    "using ForwardDiff\n",
    "using LinearAlgebra\n",
    "\n",
    "pyplot();"
   ]
  },
  {
   "cell_type": "code",
   "execution_count": 2,
   "metadata": {},
   "outputs": [],
   "source": [
    "const Scalar = Float64;\n",
    "const Vector = SVector{2,Float64};\n",
    "const Label  = Int;"
   ]
  },
  {
   "cell_type": "code",
   "execution_count": 3,
   "metadata": {},
   "outputs": [],
   "source": [
    "×(u::Vector, v::Vector) = u[1]*v[2] - u[2]*v[1];"
   ]
  },
  {
   "cell_type": "code",
   "execution_count": 4,
   "metadata": {},
   "outputs": [],
   "source": [
    "const ScalarList = Array{Scalar,1};\n",
    "const VectorList = Array{Vector,1};\n",
    "const LabelList  = Array{Label,1};\n",
    "const LabelListList = Array{LabelList,1};"
   ]
  },
  {
   "cell_type": "code",
   "execution_count": 5,
   "metadata": {},
   "outputs": [],
   "source": [
    "struct PatchInfo\n",
    "    name  :: String\n",
    "    range :: UnitRange{Label}\n",
    "end;\n",
    "\n",
    "const PatchInfoList = Array{PatchInfo,1};"
   ]
  },
  {
   "cell_type": "code",
   "execution_count": 6,
   "metadata": {},
   "outputs": [
    {
     "data": {
      "text/plain": [
       "Mesh"
      ]
     },
     "execution_count": 6,
     "metadata": {},
     "output_type": "execute_result"
    }
   ],
   "source": [
    "struct Mesh\n",
    "    point      :: VectorList     # Souradnice vrcholu site \n",
    "    centre     :: VectorList     # Souradnice stredu bunek \n",
    "    volume     :: ScalarList     # Velikosti (objemy) bunek\n",
    "    surface    :: VectorList     # Normalovy vektor na stenu \n",
    "    facecentre :: VectorList     # Souradnice stredu strany\n",
    "    owner      :: LabelList      # Vlastnik steny\n",
    "    neighbor   :: LabelList      # Soused steny\n",
    "    patch      :: PatchInfoList  # Seznam okrajovych podminek\n",
    "    \n",
    "    cell2point :: LabelListList  # Indexy vrcholu bunek\n",
    "    face2point :: LabelListList  # Indexy vrcholu sten\n",
    "end\n",
    "\n",
    "\"\"\"\n",
    "    Mesh(point, owner, neighbor, patch, cell2point, face2point)\n",
    "\n",
    "    Vytvori sit ze zadanych souradnic vrcholu a informaci o konektivite\n",
    "\"\"\"\n",
    "function Mesh(point::VectorList, owner::LabelList, neighbor::LabelList, patch::PatchInfoList, cell2point::LabelListList, face2point::LabelListList)\n",
    "    m = Mesh(point, VectorList(), ScalarList(), VectorList(), VectorList(), owner, neighbor, patch, cell2point, face2point)\n",
    "    update!(m)\n",
    "    return m\n",
    "end"
   ]
  },
  {
   "cell_type": "code",
   "execution_count": 7,
   "metadata": {},
   "outputs": [
    {
     "data": {
      "text/plain": [
       "update!"
      ]
     },
     "execution_count": 7,
     "metadata": {},
     "output_type": "execute_result"
    }
   ],
   "source": [
    "\"\"\"\n",
    "    update!(mesh::Mesh)\n",
    "\n",
    "    Vypocte objemy bunek, souradnice stredu bunek, normalove vektory na steny a stredy sten.\n",
    "\"\"\"\n",
    "function update!(mesh::Mesh)\n",
    "\n",
    "    # Recalculate cell centres & volumes\n",
    "    ncells = size(mesh.cell2point,1)\n",
    "    empty!(mesh.centre)\n",
    "    empty!(mesh.volume)\n",
    "    for c=1:ncells\n",
    "        pts = mesh.point[mesh.cell2point[c]]\n",
    "        \n",
    "        v = Scalar(0)\n",
    "        x = Vector(0,0)\n",
    "        p1 = pts[end]\n",
    "        for i=1:size(pts,1)-2\n",
    "            p2 = pts[i]\n",
    "            p3 = pts[i+1]\n",
    "            vv = (p2 - p1) × (p3 - p1) / 2\n",
    "            v += vv\n",
    "            x += vv*(p1 + p2 + p3)/3\n",
    "        end\n",
    "        push!(mesh.volume, v)\n",
    "        push!(mesh.centre, x/v)\n",
    "    end\n",
    "    \n",
    "    # Recalculate face sizes & positions\n",
    "    empty!(mesh.surface)\n",
    "    empty!(mesh.facecentre)\n",
    "    nfaces = size(mesh.face2point,1)\n",
    "    for f=1:nfaces\n",
    "        pts = mesh.point[mesh.face2point[f]]\n",
    "        push!(mesh.surface, Vector(pts[2][2]-pts[1][2], pts[1][1]-pts[2][1]))\n",
    "        push!(mesh.facecentre, (pts[1]+pts[2])/2)\n",
    "    end \n",
    "end"
   ]
  },
  {
   "cell_type": "code",
   "execution_count": 8,
   "metadata": {},
   "outputs": [
    {
     "data": {
      "text/plain": [
       "cartesian_mesh"
      ]
     },
     "execution_count": 8,
     "metadata": {},
     "output_type": "execute_result"
    }
   ],
   "source": [
    "\"\"\"\n",
    "    cartesian_mesh(nx, ny)\n",
    "\n",
    "    Vytvori kartezskou sit o nx*ny bunkach v jednotkovem ctverci. Okrajove podminky pojmenuje \"left\", \"right\", \"top\" a \"bottom\"\n",
    "\"\"\"\n",
    "function cartesian_mesh(nx, ny)\n",
    "    Δx, Δy = 1.0/nx, 1.0/ny\n",
    "    \n",
    "    pid(i,j) = i + j*(nx+1) + 1\n",
    "    cid(i,j) = i + (j-1)*nx\n",
    "\n",
    "\n",
    "    # Mesh points\n",
    "    point = VectorList() \n",
    "    for j=0:ny, i=0:nx\n",
    "        push!(point, Vector(i*Δx, j*Δy))\n",
    "    end\n",
    "    \n",
    "    # Mesh cells\n",
    "    cell2point = LabelListList()\n",
    "    for j=1:ny, i=1:nx\n",
    "        pts = [pid(i-1,j-1), pid(i,j-1), pid(i,j), pid(i-1,j)] |> LabelList\n",
    "        push!(cell2point, pts)\n",
    "    end\n",
    "    \n",
    "    # Mesh faces\n",
    "    owner = LabelList()\n",
    "    neighbor = LabelList()\n",
    "    face2point = LabelListList()\n",
    "    \n",
    "    # Internal faces\n",
    "    for j=1:ny, i=1:nx-1\n",
    "        push!(owner, cid(i,j))\n",
    "        push!(neighbor, cid(i+1,j))\n",
    "        push!(face2point, [pid(i,j-1), pid(i,j)])\n",
    "    end\n",
    "\n",
    "    for j=1:ny-1, i=1:nx\n",
    "        push!(owner, cid(i,j))\n",
    "        push!(neighbor, cid(i,j+1))\n",
    "        push!(face2point, [pid(i,j), pid(i-1,j)])\n",
    "    end\n",
    "    \n",
    "    # Boundary patches\n",
    "    # - bottom\n",
    "    patch = PatchInfoList()\n",
    "    j=0\n",
    "    start = size(owner,1)+1\n",
    "    for i=1:nx\n",
    "        push!(owner, cid(i,j+1))\n",
    "        push!(face2point, [pid(i-1,j), pid(i,j)])\n",
    "    end\n",
    "    push!(patch, PatchInfo(\"bottom\", UnitRange(start, size(owner,1))))\n",
    "\n",
    "    # - right\n",
    "    i=nx\n",
    "    start = size(owner,1)+1\n",
    "    for j=1:ny\n",
    "        push!(owner, cid(i,j))\n",
    "        push!(face2point, [pid(i,j-1), pid(i,j)])\n",
    "    end\n",
    "    push!(patch, PatchInfo(\"right\", UnitRange(start, size(owner,1))))\n",
    "    \n",
    "    # - top\n",
    "    j=ny\n",
    "    start = size(owner,1)+1\n",
    "    for i=1:nx\n",
    "        push!(owner, cid(i,j))\n",
    "        push!(face2point, [pid(i,j), pid(i-1,j)])\n",
    "    end\n",
    "    push!(patch, PatchInfo(\"top\", UnitRange(start, size(owner,1))))\n",
    "\n",
    "    # - left\n",
    "    i=0\n",
    "    start = size(owner,1)+1\n",
    "    for j=1:ny\n",
    "        push!(owner, cid(i+1,j))\n",
    "        push!(face2point, [pid(i,j), pid(i,j-1)])\n",
    "    end\n",
    "    push!(patch, PatchInfo(\"left\", UnitRange(start, size(owner,1))))\n",
    "    \n",
    "    return Mesh(point, owner, neighbor, patch, cell2point, face2point)\n",
    "end"
   ]
  },
  {
   "cell_type": "code",
   "execution_count": 9,
   "metadata": {},
   "outputs": [
    {
     "data": {
      "text/plain": [
       "patch_faces (generic function with 1 method)"
      ]
     },
     "execution_count": 9,
     "metadata": {},
     "output_type": "execute_result"
    }
   ],
   "source": [
    "cells(m::Mesh) = UnitRange(1,length(m.volume))\n",
    "\n",
    "internal_faces(m::Mesh) = UnitRange(1,length(m.neighbor))\n",
    "\n",
    "boundary_patches(m::Mesh) = UnitRange(1,length(m.patch))\n",
    "\n",
    "patch_names(m::Mesh) = [ m.patch[p].name for p in boundary_patches(m)]\n",
    "\n",
    "patch_by_name(m::Mesh, name::String) = findfirst(x->x==name, patch_names(m))\n",
    "\n",
    "patch_faces(m::Mesh, patch::Label) = m.patch[patch].range"
   ]
  },
  {
   "cell_type": "code",
   "execution_count": 10,
   "metadata": {},
   "outputs": [],
   "source": [
    "m2 = cartesian_mesh(2,2);"
   ]
  },
  {
   "cell_type": "code",
   "execution_count": 11,
   "metadata": {},
   "outputs": [
    {
     "name": "stdout",
     "output_type": "stream",
     "text": [
      "p = [0.0, 0.0]\n",
      "p = [0.5, 0.0]\n",
      "p = [1.0, 0.0]\n",
      "p = [0.0, 0.5]\n",
      "p = [0.5, 0.5]\n",
      "p = [1.0, 0.5]\n",
      "p = [0.0, 1.0]\n",
      "p = [0.5, 1.0]\n",
      "p = [1.0, 1.0]\n"
     ]
    }
   ],
   "source": [
    "for p in m2.point\n",
    "    println(\"p = \", p)\n",
    "end"
   ]
  },
  {
   "cell_type": "code",
   "execution_count": 12,
   "metadata": {},
   "outputs": [
    {
     "name": "stdout",
     "output_type": "stream",
     "text": [
      "c = [0.25, 0.25]\n",
      "c = [0.75, 0.25]\n",
      "c = [0.25, 0.75]\n",
      "c = [0.75, 0.75]\n",
      "volume[:] = [0.25, 0.25, 0.25, 0.25]"
     ]
    }
   ],
   "source": [
    "for c in m2.centre\n",
    "    println(\"c = \", c)\n",
    "end\n",
    "\n",
    "print(\"volume[:] = \", m2.volume)"
   ]
  },
  {
   "cell_type": "code",
   "execution_count": 13,
   "metadata": {},
   "outputs": [
    {
     "name": "stdout",
     "output_type": "stream",
     "text": [
      "S=[0.5, 0.0]\t o=1\t n=2\n",
      "S=[0.5, 0.0]\t o=3\t n=4\n",
      "S=[0.0, 0.5]\t o=1\t n=3\n",
      "S=[0.0, 0.5]\t o=2\t n=4\n"
     ]
    }
   ],
   "source": [
    "for f in internal_faces(m2)\n",
    "    println(\"S=\", m2.surface[f], \"\\t o=\", m2.owner[f], \"\\t n=\",m2.neighbor[f])\n",
    "end"
   ]
  },
  {
   "cell_type": "code",
   "execution_count": 14,
   "metadata": {},
   "outputs": [
    {
     "name": "stdout",
     "output_type": "stream",
     "text": [
      "PATCH bottom\n",
      "S=[0.0, -0.5]\t o=1\n",
      "S=[0.0, -0.5]\t o=2\n",
      "\n",
      "PATCH right\n",
      "S=[0.5, 0.0]\t o=2\n",
      "S=[0.5, 0.0]\t o=4\n",
      "\n",
      "PATCH top\n",
      "S=[0.0, 0.5]\t o=3\n",
      "S=[0.0, 0.5]\t o=4\n",
      "\n",
      "PATCH left\n",
      "S=[-0.5, 0.0]\t o=1\n",
      "S=[-0.5, 0.0]\t o=3\n",
      "\n"
     ]
    }
   ],
   "source": [
    "for p in boundary_patches(m2)\n",
    "    println(\"PATCH \", m2.patch[p].name)\n",
    "    for f in patch_faces(m2, p)\n",
    "        println(\"S=\", m2.surface[f], \"\\t o=\", m2.owner[f])\n",
    "    end\n",
    "    println()\n",
    "end"
   ]
  },
  {
   "cell_type": "markdown",
   "metadata": {},
   "source": [
    "## Uložení dat a okrajových podmínek\n",
    "\n",
    "K uložení dat použijeme speciální datovou strukturu `Field`, která zahrnuje jak hodnoty řešení ve středech buněk, tak odkaz (ukazatel) na síť a seznam okrajových podmínek."
   ]
  },
  {
   "cell_type": "code",
   "execution_count": 15,
   "metadata": {},
   "outputs": [],
   "source": [
    "mutable struct Field\n",
    "    values\n",
    "    mesh\n",
    "    boundaries\n",
    "end\n",
    "\n",
    "Field(m::Mesh) = Field( zeros(length(m.centre)), m, Dict{String,Any}());\n",
    "Field(values, m::Mesh) = Field(values, m, Dict{String,Any}());"
   ]
  },
  {
   "cell_type": "markdown",
   "metadata": {},
   "source": [
    "### Operace se strukturou `Field`\n",
    "\n",
    "Se strukturou `Field` budeme provádět aritmetické operace (sčítat, odčítat, násobit, dělit, ...) prvek po prvku"
   ]
  },
  {
   "cell_type": "code",
   "execution_count": 16,
   "metadata": {},
   "outputs": [],
   "source": [
    "for op ∈ [:+, :-, :*, :/]\n",
    "    @eval begin\n",
    "        function ($op)(a::Field, b::Field)\n",
    "            @assert a.mesh == b.mesh\n",
    "            Field(broadcast($op,a.values,b.values), a.mesh)\n",
    "        end\n",
    "    end\n",
    "end"
   ]
  },
  {
   "cell_type": "code",
   "execution_count": 17,
   "metadata": {},
   "outputs": [],
   "source": [
    "a2 = Field(m2); a2.values = ones(4);\n",
    "b2 = Field(m2); b2.values = 3*ones(4);"
   ]
  },
  {
   "cell_type": "code",
   "execution_count": 18,
   "metadata": {},
   "outputs": [
    {
     "data": {
      "text/plain": [
       "4-element Array{Float64,1}:\n",
       " 3.0\n",
       " 3.0\n",
       " 3.0\n",
       " 3.0"
      ]
     },
     "execution_count": 18,
     "metadata": {},
     "output_type": "execute_result"
    }
   ],
   "source": [
    "c2 = a2 * b2;\n",
    "c2.values"
   ]
  },
  {
   "cell_type": "markdown",
   "metadata": {},
   "source": [
    "Umíme k ní přičíst konstantu ke každému prvku, umíme přičíst pole správné velikosti a umíme jí vynásobit či vydělit konstantou. Dále umíme unární mínus."
   ]
  },
  {
   "cell_type": "code",
   "execution_count": 19,
   "metadata": {},
   "outputs": [],
   "source": [
    "for op ∈ [:+, :-, :*, :/]\n",
    "    @eval begin\n",
    "        function ($op)(a::Field, b::Number)\n",
    "            Field(broadcast($op,a.values,b), a.mesh)\n",
    "        end\n",
    "    end\n",
    "end      \n",
    "\n",
    "for op ∈ [:+, :-, :*, :/]\n",
    "    @eval begin\n",
    "        function ($op)(a::Field, b::Array{Float64,1})\n",
    "            @assert size(a.values) == size(b) \n",
    "            Field(broadcast($op,a.values,b), a.mesh)\n",
    "        end\n",
    "    end\n",
    "end      \n",
    "\n",
    "-(a::Field) = Field(-a.values, a.mesh);"
   ]
  },
  {
   "cell_type": "code",
   "execution_count": 20,
   "metadata": {},
   "outputs": [
    {
     "data": {
      "text/plain": [
       "4-element Array{Float64,1}:\n",
       " 0.3333333333333333\n",
       " 0.3333333333333333\n",
       " 0.3333333333333333\n",
       " 0.3333333333333333"
      ]
     },
     "execution_count": 20,
     "metadata": {},
     "output_type": "execute_result"
    }
   ],
   "source": [
    "c2 = a2 / 3;\n",
    "c2.values"
   ]
  },
  {
   "cell_type": "markdown",
   "metadata": {},
   "source": [
    "### Přiřazení do `Field` \n",
    "\n",
    "Zde je třeba trochu opatrnosti. Při prostém přiřazení dojde v jazyce Julia pouze k nastavení ukazatele na hodnotu na pravé straně. To ale mimo jiné vymaže odkaz na okrajové podmínky. Proto raději definujeme oprátor <- který pouze kopíruje položku values."
   ]
  },
  {
   "cell_type": "code",
   "execution_count": 21,
   "metadata": {},
   "outputs": [
    {
     "data": {
      "text/plain": [
       "← (generic function with 1 method)"
      ]
     },
     "execution_count": 21,
     "metadata": {},
     "output_type": "execute_result"
    }
   ],
   "source": [
    "function ←(a::Field, b::Field)\n",
    "    @assert a.mesh == b.mesh\n",
    "    a.values = copy(b.values)\n",
    "end"
   ]
  },
  {
   "cell_type": "code",
   "execution_count": 22,
   "metadata": {},
   "outputs": [
    {
     "name": "stdout",
     "output_type": "stream",
     "text": [
      "[3.0, 3.0, 3.0, 3.0]\n",
      "[5.0, 3.0, 3.0, 3.0]\n"
     ]
    }
   ],
   "source": [
    "b2.values = 3*ones(4)\n",
    "c2 ← b2;\n",
    "d2 = b2;\n",
    "b2.values[1] = 5;\n",
    "println(c2.values)\n",
    "println(d2.values)"
   ]
  },
  {
   "cell_type": "markdown",
   "metadata": {},
   "source": [
    "### Okrajová podmínka\n",
    "\n",
    "Pro metodu konečných objemů potřebujeme umět vyčíslit hodnotu řešení a případně gradientu řešení na hranici. Jednou z možností je implementovat podminku tak, že \n",
    "$$\n",
    "    u_b = c_1 + c_2 u_1,\n",
    "$$\n",
    "kde $u_b$ je hodnota na hranici, $u_1$ je hodnota ve středu první buňky a $c_1$ a $c_2$ jsou koeficienty."
   ]
  },
  {
   "cell_type": "code",
   "execution_count": 23,
   "metadata": {},
   "outputs": [],
   "source": [
    "struct BoundaryCondition\n",
    "    c1    :: ScalarList\n",
    "    c2    :: ScalarList\n",
    "    field :: Field\n",
    "    patch :: Label\n",
    "end"
   ]
  },
  {
   "cell_type": "markdown",
   "metadata": {},
   "source": [
    "Dirichletova podmínka je potom implementována tak, že $c_1$ je předepsaná hodnota a $c_2=0$."
   ]
  },
  {
   "cell_type": "code",
   "execution_count": 24,
   "metadata": {},
   "outputs": [
    {
     "data": {
      "text/plain": [
       "boundary_coeffs (generic function with 1 method)"
      ]
     },
     "execution_count": 24,
     "metadata": {},
     "output_type": "execute_result"
    }
   ],
   "source": [
    "function boundary_coeffs(bc::BoundaryCondition, f::Label)\n",
    "    field = bc.field\n",
    "    mesh = field.mesh\n",
    "    start = first(mesh.patch[bc.patch].range)\n",
    "    i = f + 1 - start\n",
    "    \n",
    "    c1 = bc.c1[i]\n",
    "    c2 = bc.c2[i]\n",
    "\n",
    "    return c1, c2\n",
    "end"
   ]
  },
  {
   "cell_type": "code",
   "execution_count": 25,
   "metadata": {},
   "outputs": [
    {
     "data": {
      "text/plain": [
       "boundary_value (generic function with 1 method)"
      ]
     },
     "execution_count": 25,
     "metadata": {},
     "output_type": "execute_result"
    }
   ],
   "source": [
    "function boundary_value(bc::BoundaryCondition, f::Label)\n",
    "    field = bc.field\n",
    "    mesh = field.mesh\n",
    "    u1 = field.values[mesh.owner[f]]\n",
    "    c1, c2 = boundary_coeffs(bc, f)\n",
    "    return c1 + c2*u1\n",
    "end"
   ]
  },
  {
   "cell_type": "code",
   "execution_count": 26,
   "metadata": {},
   "outputs": [],
   "source": [
    "function set_dirichlet_patch!(field::Field, name::String, val::Scalar)\n",
    "    mesh = field.mesh\n",
    "    p = patch_by_name(mesh, name)\n",
    "    c1 = [val for f in patch_faces(mesh, p)]\n",
    "    c2 = zero(c1)\n",
    "    field.boundaries[name] = BoundaryCondition(c1, c2, field, p)\n",
    "end;"
   ]
  },
  {
   "cell_type": "markdown",
   "metadata": {},
   "source": [
    "Neumannova podmínka je implementována jako $c_1=0$ a $c_2=1$. Pro případ zadané nenulové normálvé derivace je výpočet následující:\n",
    "$$\n",
    "\\frac{u_b-u_1}{\\delta} = \\frac{\\partial u}{\\partial n},\n",
    "$$\n",
    "kde\n",
    "$$\n",
    "    \\delta = (\\vec{x}_f - \\vec{x}_o)\\cdot \\vec{n}.\n",
    "$$\n",
    "$\\vec{x}_f$ je střed stěny, $\\vec{x}_o$ je střed buňky. Tzn.\n",
    "$$\n",
    "    u_b = \\delta \\frac{\\partial u}{\\partial n} + u_1.\n",
    "$$"
   ]
  },
  {
   "cell_type": "code",
   "execution_count": 27,
   "metadata": {},
   "outputs": [],
   "source": [
    "function set_neumann_patch!(field::Field, name::String)\n",
    "    mesh = field.mesh\n",
    "    p = patch_by_name(mesh, name)\n",
    "    c2 = [1.0 for f in patch_faces(mesh, p)]\n",
    "    c1 = zero(c2)\n",
    "    field.boundaries[name] = BoundaryCondition(c1, c2, field, p)\n",
    "end;"
   ]
  },
  {
   "cell_type": "code",
   "execution_count": 28,
   "metadata": {},
   "outputs": [],
   "source": [
    "m3 = cartesian_mesh(3,3);"
   ]
  },
  {
   "cell_type": "code",
   "execution_count": 29,
   "metadata": {},
   "outputs": [],
   "source": [
    "u3 = Field(m3);\n",
    "set_dirichlet_patch!(u3, \"left\", 1.0);\n",
    "set_dirichlet_patch!(u3, \"bottom\", 0.0);\n",
    "set_neumann_patch!(u3, \"right\");\n",
    "set_neumann_patch!(u3, \"top\");"
   ]
  },
  {
   "cell_type": "markdown",
   "metadata": {},
   "source": [
    "## Výpočet pomocí MKO\n",
    "\n",
    "Řešíme rovnici\n",
    "\n",
    "\\begin{equation}\n",
    "    \\frac{\\partial u}{\\partial t} + \\nabla\\cdot(\\vec{v} u) = 0\n",
    "\\end{equation}\n",
    "s $\\vec{v}=[1,0.5]$, počáteční podmínkou $u(0,\\vec{x}) = 0$ a s okrajovými podmínkami $u=0$ pro $x=0$ a $u=1$ pro $y=0$.\n",
    "\n",
    "Výpočet provedeme pomocí MKO v explicitním tvaru, toky přes hranice budeme aproximovat pomocí metody *upwind*. Tedy\n",
    "$$\n",
    "    u_i^{n+1} = u_i^n - \\frac{\\Delta t}{|\\Omega_i|} \\sum_{j} H_f(u_i^n, u_j^n, \\vec{S}_{ij}), \n",
    "$$\n",
    "kde $j$ probíhá přes sousedy buňky $i$. \n",
    "\n",
    "Sumy na pravé straně vyčíslíme dle následujícího algoritmu:\n",
    "1. Vynulujeme $r_i:=0$\n",
    "2. Pro všechny vnitřní stěny vypočteme tok z buňky *owner* do *neighbour*, ten pak přidáme k $r[owner]$ a odebereme od $r[neighbour]$ (pozn. pozor na znaménko!).\n",
    "3. Podobně projdeme všechny hraniční stěny, zde není buňka *neighbour* a výpočet toku musíme provést dle zadané okrajové podmíny.\n",
    "4. Nakonec celé pole dělíme objemy buněk."
   ]
  },
  {
   "cell_type": "code",
   "execution_count": 30,
   "metadata": {},
   "outputs": [
    {
     "data": {
      "text/plain": [
       "H (generic function with 1 method)"
      ]
     },
     "execution_count": 30,
     "metadata": {},
     "output_type": "execute_result"
    }
   ],
   "source": [
    "v = Vector(1, 0.5);\n",
    "\n",
    "# Tok typu upwind\n",
    "function H(ul, ur, s)\n",
    "    ϕ = dot(v,s)\n",
    "    if ϕ > 0\n",
    "        return ϕ*ul\n",
    "    else\n",
    "        return ϕ*ur\n",
    "    end\n",
    "end"
   ]
  },
  {
   "cell_type": "code",
   "execution_count": 31,
   "metadata": {},
   "outputs": [
    {
     "data": {
      "text/plain": [
       "R (generic function with 1 method)"
      ]
     },
     "execution_count": 31,
     "metadata": {},
     "output_type": "execute_result"
    }
   ],
   "source": [
    "function R(u::Field)\n",
    "    mesh = u.mesh\n",
    "    r = zero(u.values)    \n",
    "    \n",
    "    for f in internal_faces(mesh)\n",
    "        o, n = mesh.owner[f], mesh.neighbor[f]\n",
    "        S = mesh.surface[f]\n",
    "        flux = H(u.values[o], u.values[n], S)\n",
    "        r[o] += flux\n",
    "        r[n] -= flux\n",
    "    end\n",
    "    \n",
    "    for p in boundary_patches(mesh)\n",
    "        name = mesh.patch[p].name\n",
    "        bc = u.boundaries[name]\n",
    "        \n",
    "        for f in patch_faces(mesh, p)\n",
    "            o = mesh.owner[f]\n",
    "            S = mesh.surface[f]\n",
    "            ub = boundary_value(bc, f)\n",
    "            flux = H(u.values[o], ub, S)\n",
    "            r[o] += flux\n",
    "        end\n",
    "    end\n",
    "\n",
    "    r ./= mesh.volume\n",
    "    \n",
    "    return r\n",
    "end"
   ]
  },
  {
   "cell_type": "code",
   "execution_count": 32,
   "metadata": {},
   "outputs": [
    {
     "data": {
      "text/plain": [
       "9-element Array{Float64,1}:\n",
       " -3.0\n",
       "  0.0\n",
       "  0.0\n",
       " -3.0\n",
       "  0.0\n",
       "  0.0\n",
       " -3.0\n",
       "  0.0\n",
       "  0.0"
      ]
     },
     "execution_count": 32,
     "metadata": {},
     "output_type": "execute_result"
    }
   ],
   "source": [
    "R(u3)"
   ]
  },
  {
   "cell_type": "code",
   "execution_count": 33,
   "metadata": {},
   "outputs": [],
   "source": [
    "m = cartesian_mesh(50,50);\n",
    "\n",
    "u = Field(m)\n",
    "set_dirichlet_patch!(u, \"left\", 1.0);\n",
    "set_dirichlet_patch!(u, \"bottom\", 0.0);\n",
    "set_neumann_patch!(u, \"right\");\n",
    "set_neumann_patch!(u, \"top\");"
   ]
  },
  {
   "cell_type": "code",
   "execution_count": 34,
   "metadata": {},
   "outputs": [],
   "source": [
    "Δt = 0.01\n",
    "for t = 0 : Δt : 0.5\n",
    "    u ← u - Δt * R(u)\n",
    "end"
   ]
  },
  {
   "cell_type": "code",
   "execution_count": 35,
   "metadata": {},
   "outputs": [
    {
     "name": "stderr",
     "output_type": "stream",
     "text": [
      "┌ Warning: `getindex(f::Figure, x)` is deprecated, use `getproperty(f, x)` instead.\n",
      "│   caller = _before_layout_calcs(::Plots.Plot{Plots.PyPlotBackend}) at pyplot.jl:935\n",
      "└ @ Plots /home/furst/.julia/packages/Plots/QYETN/src/backends/pyplot.jl:935\n",
      "┌ Warning: `getindex(f::Figure, x)` is deprecated, use `getproperty(f, x)` instead.\n",
      "│   caller = _before_layout_calcs(::Plots.Plot{Plots.PyPlotBackend}) at pyplot.jl:937\n",
      "└ @ Plots /home/furst/.julia/packages/Plots/QYETN/src/backends/pyplot.jl:937\n",
      "┌ Warning: `getindex(f::Figure, x)` is deprecated, use `getproperty(f, x)` instead.\n",
      "│   caller = _before_layout_calcs(::Plots.Plot{Plots.PyPlotBackend}) at pyplot.jl:938\n",
      "└ @ Plots /home/furst/.julia/packages/Plots/QYETN/src/backends/pyplot.jl:938\n",
      "┌ Warning: `getindex(f::Figure, x)` is deprecated, use `getproperty(f, x)` instead.\n",
      "│   caller = _before_layout_calcs(::Plots.Plot{Plots.PyPlotBackend}) at pyplot.jl:939\n",
      "└ @ Plots /home/furst/.julia/packages/Plots/QYETN/src/backends/pyplot.jl:939\n",
      "┌ Warning: `getindex(o::PyObject, s::Symbol)` is deprecated in favor of dot overloading (`getproperty`) so elements should now be accessed as e.g. `o.s` instead of `o[:s]`.\n",
      "│   caller = _before_layout_calcs(::Plots.Plot{Plots.PyPlotBackend}) at pyplot.jl:942\n",
      "└ @ Plots /home/furst/.julia/packages/Plots/QYETN/src/backends/pyplot.jl:942\n",
      "┌ Warning: `getindex(o::PyObject, s::Symbol)` is deprecated in favor of dot overloading (`getproperty`) so elements should now be accessed as e.g. `o.s` instead of `o[:s]`.\n",
      "│   caller = _before_layout_calcs(::Plots.Plot{Plots.PyPlotBackend}) at pyplot.jl:942\n",
      "└ @ Plots /home/furst/.julia/packages/Plots/QYETN/src/backends/pyplot.jl:942\n",
      "┌ Warning: `getindex(f::Figure, x)` is deprecated, use `getproperty(f, x)` instead.\n",
      "│   caller = py_init_subplot(::Plots.Plot{Plots.PyPlotBackend}, ::Plots.Subplot{Plots.PyPlotBackend}) at pyplot.jl:342\n",
      "└ @ Plots /home/furst/.julia/packages/Plots/QYETN/src/backends/pyplot.jl:342\n",
      "┌ Warning: `getindex(o::PyObject, s::AbstractString)` is deprecated in favor of dot overloading (`getproperty`) so elements should now be accessed as e.g. `o.\"s\"` instead of `o[\"s\"]`.\n",
      "│   caller = py_colormap(::ColorGradient) at pyplot.jl:67\n",
      "└ @ Plots /home/furst/.julia/packages/Plots/QYETN/src/backends/pyplot.jl:67\n",
      "┌ Warning: `getindex(o::PyObject, s::Symbol)` is deprecated in favor of dot overloading (`getproperty`) so elements should now be accessed as e.g. `o.s` instead of `o[:s]`.\n",
      "│   caller = py_colormap(::ColorGradient) at pyplot.jl:67\n",
      "└ @ Plots /home/furst/.julia/packages/Plots/QYETN/src/backends/pyplot.jl:67\n",
      "┌ Warning: `getindex(c::ColorMap, x)` is deprecated, use `getproperty(c, x)` instead.\n",
      "│   caller = py_colormap(::ColorGradient) at pyplot.jl:68\n",
      "└ @ Plots /home/furst/.julia/packages/Plots/QYETN/src/backends/pyplot.jl:68\n",
      "┌ Warning: `getindex(o::PyObject, s::Symbol)` is deprecated in favor of dot overloading (`getproperty`) so elements should now be accessed as e.g. `o.s` instead of `o[:s]`.\n",
      "│   caller = py_add_series(::Plots.Plot{Plots.PyPlotBackend}, ::Plots.Series) at pyplot.jl:638\n",
      "└ @ Plots /home/furst/.julia/packages/Plots/QYETN/src/backends/pyplot.jl:638\n",
      "┌ Warning: `getindex(o::PyObject, s::Symbol)` is deprecated in favor of dot overloading (`getproperty`) so elements should now be accessed as e.g. `o.s` instead of `o[:s]`.\n",
      "│   caller = py_add_series(::Plots.Plot{Plots.PyPlotBackend}, ::Plots.Series) at pyplot.jl:652\n",
      "└ @ Plots /home/furst/.julia/packages/Plots/QYETN/src/backends/pyplot.jl:652\n",
      "┌ Warning: `getindex(f::Figure, x)` is deprecated, use `getproperty(f, x)` instead.\n",
      "│   caller = _before_layout_calcs(::Plots.Plot{Plots.PyPlotBackend}) at pyplot.jl:1015\n",
      "└ @ Plots /home/furst/.julia/packages/Plots/QYETN/src/backends/pyplot.jl:1015\n",
      "┌ Warning: `getindex(f::Figure, x)` is deprecated, use `getproperty(f, x)` instead.\n",
      "│   caller = _before_layout_calcs(::Plots.Plot{Plots.PyPlotBackend}) at pyplot.jl:1016\n",
      "└ @ Plots /home/furst/.julia/packages/Plots/QYETN/src/backends/pyplot.jl:1016\n",
      "┌ Warning: `getindex(o::PyObject, s::Symbol)` is deprecated in favor of dot overloading (`getproperty`) so elements should now be accessed as e.g. `o.s` instead of `o[:s]`.\n",
      "│   caller = _before_layout_calcs(::Plots.Plot{Plots.PyPlotBackend}) at pyplot.jl:1017\n",
      "└ @ Plots /home/furst/.julia/packages/Plots/QYETN/src/backends/pyplot.jl:1017\n",
      "┌ Warning: `getindex(o::PyObject, s::Symbol)` is deprecated in favor of dot overloading (`getproperty`) so elements should now be accessed as e.g. `o.s` instead of `o[:s]`.\n",
      "│   caller = _before_layout_calcs(::Plots.Plot{Plots.PyPlotBackend}) at pyplot.jl:1018\n",
      "└ @ Plots /home/furst/.julia/packages/Plots/QYETN/src/backends/pyplot.jl:1018\n",
      "┌ Warning: `getindex(o::PyObject, s::Symbol)` is deprecated in favor of dot overloading (`getproperty`) so elements should now be accessed as e.g. `o.s` instead of `o[:s]`.\n",
      "│   caller = _before_layout_calcs(::Plots.Plot{Plots.PyPlotBackend}) at pyplot.jl:1018\n",
      "└ @ Plots /home/furst/.julia/packages/Plots/QYETN/src/backends/pyplot.jl:1018\n",
      "┌ Warning: `getindex(o::PyObject, s::Symbol)` is deprecated in favor of dot overloading (`getproperty`) so elements should now be accessed as e.g. `o.s` instead of `o[:s]`.\n",
      "│   caller = _before_layout_calcs(::Plots.Plot{Plots.PyPlotBackend}) at pyplot.jl:1018\n",
      "└ @ Plots /home/furst/.julia/packages/Plots/QYETN/src/backends/pyplot.jl:1018\n",
      "┌ Warning: `getindex(o::PyObject, s::Symbol)` is deprecated in favor of dot overloading (`getproperty`) so elements should now be accessed as e.g. `o.s` instead of `o[:s]`.\n",
      "│   caller = _before_layout_calcs(::Plots.Plot{Plots.PyPlotBackend}) at pyplot.jl:1019\n",
      "└ @ Plots /home/furst/.julia/packages/Plots/QYETN/src/backends/pyplot.jl:1019\n",
      "┌ Warning: `getindex(o::PyObject, s::Symbol)` is deprecated in favor of dot overloading (`getproperty`) so elements should now be accessed as e.g. `o.s` instead of `o[:s]`.\n",
      "│   caller = _before_layout_calcs(::Plots.Plot{Plots.PyPlotBackend}) at pyplot.jl:1020\n",
      "└ @ Plots /home/furst/.julia/packages/Plots/QYETN/src/backends/pyplot.jl:1020\n",
      "┌ Warning: `getindex(o::PyObject, s::Symbol)` is deprecated in favor of dot overloading (`getproperty`) so elements should now be accessed as e.g. `o.s` instead of `o[:s]`.\n",
      "│   caller = _before_layout_calcs(::Plots.Plot{Plots.PyPlotBackend}) at pyplot.jl:1021\n",
      "└ @ Plots /home/furst/.julia/packages/Plots/QYETN/src/backends/pyplot.jl:1021\n",
      "┌ Warning: `getindex(o::PyObject, s::Symbol)` is deprecated in favor of dot overloading (`getproperty`) so elements should now be accessed as e.g. `o.s` instead of `o[:s]`.\n",
      "│   caller = _before_layout_calcs(::Plots.Plot{Plots.PyPlotBackend}) at pyplot.jl:1029\n",
      "└ @ Plots /home/furst/.julia/packages/Plots/QYETN/src/backends/pyplot.jl:1029\n",
      "┌ Warning: `getindex(o::PyObject, s::Symbol)` is deprecated in favor of dot overloading (`getproperty`) so elements should now be accessed as e.g. `o.s` instead of `o[:s]`.\n",
      "│   caller = _before_layout_calcs(::Plots.Plot{Plots.PyPlotBackend}) at pyplot.jl:1029\n",
      "└ @ Plots /home/furst/.julia/packages/Plots/QYETN/src/backends/pyplot.jl:1029\n",
      "┌ Warning: `getindex(o::PyObject, s::Symbol)` is deprecated in favor of dot overloading (`getproperty`) so elements should now be accessed as e.g. `o.s` instead of `o[:s]`.\n",
      "│   caller = _before_layout_calcs(::Plots.Plot{Plots.PyPlotBackend}) at pyplot.jl:1030\n",
      "└ @ Plots /home/furst/.julia/packages/Plots/QYETN/src/backends/pyplot.jl:1030\n",
      "┌ Warning: `getindex(o::PyObject, s::Symbol)` is deprecated in favor of dot overloading (`getproperty`) so elements should now be accessed as e.g. `o.s` instead of `o[:s]`.\n",
      "│   caller = _before_layout_calcs(::Plots.Plot{Plots.PyPlotBackend}) at pyplot.jl:1030\n",
      "└ @ Plots /home/furst/.julia/packages/Plots/QYETN/src/backends/pyplot.jl:1030\n",
      "┌ Warning: `getindex(o::PyObject, s::Symbol)` is deprecated in favor of dot overloading (`getproperty`) so elements should now be accessed as e.g. `o.s` instead of `o[:s]`.\n",
      "│   caller = _before_layout_calcs(::Plots.Plot{Plots.PyPlotBackend}) at pyplot.jl:1038\n",
      "└ @ Plots /home/furst/.julia/packages/Plots/QYETN/src/backends/pyplot.jl:1038\n",
      "┌ Warning: `getindex(o::PyObject, s::Symbol)` is deprecated in favor of dot overloading (`getproperty`) so elements should now be accessed as e.g. `o.s` instead of `o[:s]`.\n",
      "│   caller = _before_layout_calcs(::Plots.Plot{Plots.PyPlotBackend}) at pyplot.jl:1038\n",
      "└ @ Plots /home/furst/.julia/packages/Plots/QYETN/src/backends/pyplot.jl:1038\n",
      "┌ Warning: `getindex(o::PyObject, s::Symbol)` is deprecated in favor of dot overloading (`getproperty`) so elements should now be accessed as e.g. `o.s` instead of `o[:s]`.\n",
      "│   caller = _before_layout_calcs(::Plots.Plot{Plots.PyPlotBackend}) at pyplot.jl:1039\n",
      "└ @ Plots /home/furst/.julia/packages/Plots/QYETN/src/backends/pyplot.jl:1039\n",
      "┌ Warning: `getindex(o::PyObject, s::Symbol)` is deprecated in favor of dot overloading (`getproperty`) so elements should now be accessed as e.g. `o.s` instead of `o[:s]`.\n",
      "│   caller = _before_layout_calcs(::Plots.Plot{Plots.PyPlotBackend}) at pyplot.jl:1039\n",
      "└ @ Plots /home/furst/.julia/packages/Plots/QYETN/src/backends/pyplot.jl:1039\n",
      "┌ Warning: `haskey(o::PyObject, s::Union{Symbol, AbstractString})` is deprecated, use `hasproperty(o, s)` instead.\n",
      "│   caller = _before_layout_calcs(::Plots.Plot{Plots.PyPlotBackend}) at pyplot.jl:1058\n",
      "└ @ Plots /home/furst/.julia/packages/Plots/QYETN/src/backends/pyplot.jl:1058\n",
      "┌ Warning: `getindex(o::PyObject, s::Symbol)` is deprecated in favor of dot overloading (`getproperty`) so elements should now be accessed as e.g. `o.s` instead of `o[:s]`.\n",
      "│   caller = _before_layout_calcs(::Plots.Plot{Plots.PyPlotBackend}) at pyplot.jl:1060\n",
      "└ @ Plots /home/furst/.julia/packages/Plots/QYETN/src/backends/pyplot.jl:1060\n",
      "┌ Warning: `getindex(o::PyObject, s::Symbol)` is deprecated in favor of dot overloading (`getproperty`) so elements should now be accessed as e.g. `o.s` instead of `o[:s]`.\n",
      "│   caller = py_set_scale(::PyCall.PyObject, ::Plots.Axis) at pyplot.jl:894\n",
      "└ @ Plots /home/furst/.julia/packages/Plots/QYETN/src/backends/pyplot.jl:894\n",
      "┌ Warning: `getindex(o::PyObject, s::Symbol)` is deprecated in favor of dot overloading (`getproperty`) so elements should now be accessed as e.g. `o.s` instead of `o[:s]`.\n",
      "│   caller = py_set_lims(::PyCall.PyObject, ::Plots.Axis) at pyplot.jl:844\n",
      "└ @ Plots /home/furst/.julia/packages/Plots/QYETN/src/backends/pyplot.jl:844\n",
      "┌ Warning: `getindex(o::PyObject, s::Symbol)` is deprecated in favor of dot overloading (`getproperty`) so elements should now be accessed as e.g. `o.s` instead of `o[:s]`.\n",
      "│   caller = py_set_ticks(::PyCall.PyObject, ::Tuple{Array{Float64,1},Array{String,1}}, ::Symbol) at pyplot.jl:849\n",
      "└ @ Plots /home/furst/.julia/packages/Plots/QYETN/src/backends/pyplot.jl:849\n",
      "┌ Warning: `getindex(o::PyObject, s::Symbol)` is deprecated in favor of dot overloading (`getproperty`) so elements should now be accessed as e.g. `o.s` instead of `o[:s]`.\n",
      "│   caller = py_set_ticks(::PyCall.PyObject, ::Tuple{Array{Float64,1},Array{String,1}}, ::Symbol) at pyplot.jl:863\n",
      "└ @ Plots /home/furst/.julia/packages/Plots/QYETN/src/backends/pyplot.jl:863\n",
      "┌ Warning: `getindex(o::PyObject, s::Symbol)` is deprecated in favor of dot overloading (`getproperty`) so elements should now be accessed as e.g. `o.s` instead of `o[:s]`.\n",
      "│   caller = py_set_ticks(::PyCall.PyObject, ::Tuple{Array{Float64,1},Array{String,1}}, ::Symbol) at pyplot.jl:864\n",
      "└ @ Plots /home/furst/.julia/packages/Plots/QYETN/src/backends/pyplot.jl:864\n",
      "┌ Warning: `getindex(o::PyObject, s::Symbol)` is deprecated in favor of dot overloading (`getproperty`) so elements should now be accessed as e.g. `o.s` instead of `o[:s]`.\n",
      "│   caller = _before_layout_calcs(::Plots.Plot{Plots.PyPlotBackend}) at pyplot.jl:1081\n",
      "└ @ Plots /home/furst/.julia/packages/Plots/QYETN/src/backends/pyplot.jl:1081\n",
      "┌ Warning: `getindex(o::PyObject, s::Symbol)` is deprecated in favor of dot overloading (`getproperty`) so elements should now be accessed as e.g. `o.s` instead of `o[:s]`.\n",
      "│   caller = _before_layout_calcs(::Plots.Plot{Plots.PyPlotBackend}) at pyplot.jl:1082\n",
      "└ @ Plots /home/furst/.julia/packages/Plots/QYETN/src/backends/pyplot.jl:1082\n",
      "┌ Warning: `getindex(o::PyObject, s::Symbol)` is deprecated in favor of dot overloading (`getproperty`) so elements should now be accessed as e.g. `o.s` instead of `o[:s]`.\n",
      "│   caller = _before_layout_calcs(::Plots.Plot{Plots.PyPlotBackend}) at pyplot.jl:1086\n",
      "└ @ Plots /home/furst/.julia/packages/Plots/QYETN/src/backends/pyplot.jl:1086\n",
      "┌ Warning: `getindex(o::PyObject, s::Symbol)` is deprecated in favor of dot overloading (`getproperty`) so elements should now be accessed as e.g. `o.s` instead of `o[:s]`.\n",
      "│   caller = _before_layout_calcs(::Plots.Plot{Plots.PyPlotBackend}) at pyplot.jl:1086\n",
      "└ @ Plots /home/furst/.julia/packages/Plots/QYETN/src/backends/pyplot.jl:1086\n",
      "┌ Warning: `getindex(o::PyObject, s::Symbol)` is deprecated in favor of dot overloading (`getproperty`) so elements should now be accessed as e.g. `o.s` instead of `o[:s]`.\n",
      "│   caller = _before_layout_calcs(::Plots.Plot{Plots.PyPlotBackend}) at pyplot.jl:1087\n",
      "└ @ Plots /home/furst/.julia/packages/Plots/QYETN/src/backends/pyplot.jl:1087\n",
      "┌ Warning: `getindex(o::PyObject, s::Symbol)` is deprecated in favor of dot overloading (`getproperty`) so elements should now be accessed as e.g. `o.s` instead of `o[:s]`.\n",
      "│   caller = _before_layout_calcs(::Plots.Plot{Plots.PyPlotBackend}) at pyplot.jl:1087\n",
      "└ @ Plots /home/furst/.julia/packages/Plots/QYETN/src/backends/pyplot.jl:1087\n",
      "┌ Warning: `getindex(o::PyObject, s::Symbol)` is deprecated in favor of dot overloading (`getproperty`) so elements should now be accessed as e.g. `o.s` instead of `o[:s]`.\n",
      "│   caller = _before_layout_calcs(::Plots.Plot{Plots.PyPlotBackend}) at pyplot.jl:1088\n",
      "└ @ Plots /home/furst/.julia/packages/Plots/QYETN/src/backends/pyplot.jl:1088\n",
      "┌ Warning: `getindex(o::PyObject, s::Symbol)` is deprecated in favor of dot overloading (`getproperty`) so elements should now be accessed as e.g. `o.s` instead of `o[:s]`.\n",
      "│   caller = _before_layout_calcs(::Plots.Plot{Plots.PyPlotBackend}) at pyplot.jl:1089\n",
      "└ @ Plots /home/furst/.julia/packages/Plots/QYETN/src/backends/pyplot.jl:1089\n",
      "┌ Warning: `getindex(o::PyObject, s::Symbol)` is deprecated in favor of dot overloading (`getproperty`) so elements should now be accessed as e.g. `o.s` instead of `o[:s]`.\n",
      "│   caller = _before_layout_calcs(::Plots.Plot{Plots.PyPlotBackend}) at pyplot.jl:1090\n",
      "└ @ Plots /home/furst/.julia/packages/Plots/QYETN/src/backends/pyplot.jl:1090\n",
      "┌ Warning: `getindex(o::PyObject, s::Symbol)` is deprecated in favor of dot overloading (`getproperty`) so elements should now be accessed as e.g. `o.s` instead of `o[:s]`.\n",
      "│   caller = _before_layout_calcs(::Plots.Plot{Plots.PyPlotBackend}) at pyplot.jl:1091\n",
      "└ @ Plots /home/furst/.julia/packages/Plots/QYETN/src/backends/pyplot.jl:1091\n",
      "┌ Warning: `getindex(o::PyObject, s::Symbol)` is deprecated in favor of dot overloading (`getproperty`) so elements should now be accessed as e.g. `o.s` instead of `o[:s]`.\n",
      "│   caller = _before_layout_calcs(::Plots.Plot{Plots.PyPlotBackend}) at pyplot.jl:1095\n",
      "└ @ Plots /home/furst/.julia/packages/Plots/QYETN/src/backends/pyplot.jl:1095\n",
      "┌ Warning: `getindex(o::PyObject, s::Symbol)` is deprecated in favor of dot overloading (`getproperty`) so elements should now be accessed as e.g. `o.s` instead of `o[:s]`.\n",
      "│   caller = _before_layout_calcs(::Plots.Plot{Plots.PyPlotBackend}) at pyplot.jl:1100\n",
      "└ @ Plots /home/furst/.julia/packages/Plots/QYETN/src/backends/pyplot.jl:1100\n",
      "┌ Warning: `getindex(o::PyObject, s::Symbol)` is deprecated in favor of dot overloading (`getproperty`) so elements should now be accessed as e.g. `o.s` instead of `o[:s]`.\n",
      "│   caller = py_set_axis_colors(::Plots.Subplot{Plots.PyPlotBackend}, ::PyCall.PyObject, ::Plots.Axis) at pyplot.jl:914\n",
      "└ @ Plots /home/furst/.julia/packages/Plots/QYETN/src/backends/pyplot.jl:914\n",
      "┌ Warning: `getindex(o::PyObject, s::Symbol)` is deprecated in favor of dot overloading (`getproperty`) so elements should now be accessed as e.g. `o.s` instead of `o[:s]`.\n",
      "│   caller = py_set_axis_colors(::Plots.Subplot{Plots.PyPlotBackend}, ::PyCall.PyObject, ::Plots.Axis) at pyplot.jl:915\n",
      "└ @ Plots /home/furst/.julia/packages/Plots/QYETN/src/backends/pyplot.jl:915\n",
      "┌ Warning: `haskey(o::PyObject, s::Union{Symbol, AbstractString})` is deprecated, use `hasproperty(o, s)` instead.\n",
      "│   caller = py_set_axis_colors(::Plots.Subplot{Plots.PyPlotBackend}, ::PyCall.PyObject, ::Plots.Axis) at pyplot.jl:918\n",
      "└ @ Plots /home/furst/.julia/packages/Plots/QYETN/src/backends/pyplot.jl:918\n",
      "┌ Warning: `getindex(o::PyObject, s::Symbol)` is deprecated in favor of dot overloading (`getproperty`) so elements should now be accessed as e.g. `o.s` instead of `o[:s]`.\n",
      "│   caller = py_set_axis_colors(::Plots.Subplot{Plots.PyPlotBackend}, ::PyCall.PyObject, ::Plots.Axis) at pyplot.jl:920\n",
      "└ @ Plots /home/furst/.julia/packages/Plots/QYETN/src/backends/pyplot.jl:920\n",
      "┌ Warning: `getindex(o::PyObject, s::Symbol)` is deprecated in favor of dot overloading (`getproperty`) so elements should now be accessed as e.g. `o.s` instead of `o[:s]`.\n",
      "│   caller = py_set_axis_colors(::Plots.Subplot{Plots.PyPlotBackend}, ::PyCall.PyObject, ::Plots.Axis) at pyplot.jl:923\n",
      "└ @ Plots /home/furst/.julia/packages/Plots/QYETN/src/backends/pyplot.jl:923\n",
      "┌ Warning: `getindex(o::PyObject, s::Symbol)` is deprecated in favor of dot overloading (`getproperty`) so elements should now be accessed as e.g. `o.s` instead of `o[:s]`.\n",
      "│   caller = py_set_axis_colors(::Plots.Subplot{Plots.PyPlotBackend}, ::PyCall.PyObject, ::Plots.Axis) at pyplot.jl:923\n",
      "└ @ Plots /home/furst/.julia/packages/Plots/QYETN/src/backends/pyplot.jl:923\n",
      "┌ Warning: `getindex(o::PyObject, s::Symbol)` is deprecated in favor of dot overloading (`getproperty`) so elements should now be accessed as e.g. `o.s` instead of `o[:s]`.\n",
      "│   caller = py_set_axis_colors(::Plots.Subplot{Plots.PyPlotBackend}, ::PyCall.PyObject, ::Plots.Axis) at pyplot.jl:923\n",
      "└ @ Plots /home/furst/.julia/packages/Plots/QYETN/src/backends/pyplot.jl:923\n",
      "┌ Warning: `getindex(o::PyObject, s::Symbol)` is deprecated in favor of dot overloading (`getproperty`) so elements should now be accessed as e.g. `o.s` instead of `o[:s]`.\n",
      "│   caller = _before_layout_calcs(::Plots.Plot{Plots.PyPlotBackend}) at pyplot.jl:1134\n",
      "└ @ Plots /home/furst/.julia/packages/Plots/QYETN/src/backends/pyplot.jl:1134\n",
      "┌ Warning: `getindex(o::PyObject, s::Symbol)` is deprecated in favor of dot overloading (`getproperty`) so elements should now be accessed as e.g. `o.s` instead of `o[:s]`.\n",
      "│   caller = _before_layout_calcs(::Plots.Plot{Plots.PyPlotBackend}) at pyplot.jl:1148\n",
      "└ @ Plots /home/furst/.julia/packages/Plots/QYETN/src/backends/pyplot.jl:1148\n",
      "┌ Warning: `getindex(f::Figure, x)` is deprecated, use `getproperty(f, x)` instead.\n",
      "│   caller = py_drawfig(::PyPlot.Figure) at pyplot.jl:257\n",
      "└ @ Plots /home/furst/.julia/packages/Plots/QYETN/src/backends/pyplot.jl:257\n",
      "┌ Warning: `getindex(f::Figure, x)` is deprecated, use `getproperty(f, x)` instead.\n",
      "│   caller = py_canvas at pyplot.jl:251 [inlined]\n",
      "└ @ Core /home/furst/.julia/packages/Plots/QYETN/src/backends/pyplot.jl:251\n",
      "┌ Warning: `getindex(o::PyObject, s::Symbol)` is deprecated in favor of dot overloading (`getproperty`) so elements should now be accessed as e.g. `o.s` instead of `o[:s]`.\n",
      "│   caller = py_renderer(::PyPlot.Figure) at pyplot.jl:254\n",
      "└ @ Plots /home/furst/.julia/packages/Plots/QYETN/src/backends/pyplot.jl:254\n",
      "┌ Warning: `getindex(o::PyObject, s::Symbol)` is deprecated in favor of dot overloading (`getproperty`) so elements should now be accessed as e.g. `o.s` instead of `o[:s]`.\n",
      "│   caller = py_bbox(::PyCall.PyObject) at pyplot.jl:266\n",
      "└ @ Plots /home/furst/.julia/packages/Plots/QYETN/src/backends/pyplot.jl:266\n",
      "┌ Warning: `getindex(f::Figure, x)` is deprecated, use `getproperty(f, x)` instead.\n",
      "│   caller = py_extents(::PyPlot.Figure) at pyplot.jl:261\n",
      "└ @ Plots /home/furst/.julia/packages/Plots/QYETN/src/backends/pyplot.jl:261\n",
      "┌ Warning: `getindex(o::PyObject, s::Symbol)` is deprecated in favor of dot overloading (`getproperty`) so elements should now be accessed as e.g. `o.s` instead of `o[:s]`.\n",
      "│   caller = py_extents(::PyPlot.Figure) at pyplot.jl:261\n",
      "└ @ Plots /home/furst/.julia/packages/Plots/QYETN/src/backends/pyplot.jl:261\n",
      "┌ Warning: `getindex(o::PyObject, s::Symbol)` is deprecated in favor of dot overloading (`getproperty`) so elements should now be accessed as e.g. `o.s` instead of `o[:s]`.\n",
      "│   caller = py_extents(::PyCall.PyObject) at pyplot.jl:261\n",
      "└ @ Plots /home/furst/.julia/packages/Plots/QYETN/src/backends/pyplot.jl:261\n",
      "┌ Warning: `getindex(o::PyObject, s::Symbol)` is deprecated in favor of dot overloading (`getproperty`) so elements should now be accessed as e.g. `o.s` instead of `o[:s]`.\n",
      "│   caller = py_extents(::PyCall.PyObject) at pyplot.jl:261\n",
      "└ @ Plots /home/furst/.julia/packages/Plots/QYETN/src/backends/pyplot.jl:261\n",
      "┌ Warning: `getindex(o::PyObject, s::Symbol)` is deprecated in favor of dot overloading (`getproperty`) so elements should now be accessed as e.g. `o.s` instead of `o[:s]`.\n",
      "│   caller = py_bbox_ticks(::PyCall.PyObject, ::String) at pyplot.jl:282\n",
      "└ @ Plots /home/furst/.julia/packages/Plots/QYETN/src/backends/pyplot.jl:282\n",
      "┌ Warning: `getindex(o::PyObject, s::Symbol)` is deprecated in favor of dot overloading (`getproperty`) so elements should now be accessed as e.g. `o.s` instead of `o[:s]`.\n",
      "│   caller = py_bbox_axislabel(::PyCall.PyObject, ::String) at pyplot.jl:288\n",
      "└ @ Plots /home/furst/.julia/packages/Plots/QYETN/src/backends/pyplot.jl:288\n",
      "┌ Warning: `getindex(o::PyObject, s::Symbol)` is deprecated in favor of dot overloading (`getproperty`) so elements should now be accessed as e.g. `o.s` instead of `o[:s]`.\n",
      "│   caller = py_bbox_axislabel(::PyCall.PyObject, ::String) at pyplot.jl:288\n",
      "└ @ Plots /home/furst/.julia/packages/Plots/QYETN/src/backends/pyplot.jl:288\n",
      "┌ Warning: `getindex(o::PyObject, s::Symbol)` is deprecated in favor of dot overloading (`getproperty`) so elements should now be accessed as e.g. `o.s` instead of `o[:s]`.\n",
      "│   caller = py_bbox_title(::PyCall.PyObject) at pyplot.jl:304\n",
      "└ @ Plots /home/furst/.julia/packages/Plots/QYETN/src/backends/pyplot.jl:304\n",
      "┌ Warning: `getindex(o::PyObject, s::Symbol)` is deprecated in favor of dot overloading (`getproperty`) so elements should now be accessed as e.g. `o.s` instead of `o[:s]`.\n",
      "│   caller = py_bbox_title(::PyCall.PyObject) at pyplot.jl:304\n",
      "└ @ Plots /home/furst/.julia/packages/Plots/QYETN/src/backends/pyplot.jl:304\n",
      "┌ Warning: `getindex(o::PyObject, s::Symbol)` is deprecated in favor of dot overloading (`getproperty`) so elements should now be accessed as e.g. `o.s` instead of `o[:s]`.\n",
      "│   caller = py_bbox_title(::PyCall.PyObject) at pyplot.jl:304\n",
      "└ @ Plots /home/furst/.julia/packages/Plots/QYETN/src/backends/pyplot.jl:304\n",
      "┌ Warning: `getindex(o::PyObject, s::Symbol)` is deprecated in favor of dot overloading (`getproperty`) so elements should now be accessed as e.g. `o.s` instead of `o[:s]`.\n",
      "│   caller = _update_min_padding!(::Plots.Subplot{Plots.PyPlotBackend}) at pyplot.jl:1184\n",
      "└ @ Plots /home/furst/.julia/packages/Plots/QYETN/src/backends/pyplot.jl:1184\n",
      "┌ Warning: `getindex(o::PyObject, s::Symbol)` is deprecated in favor of dot overloading (`getproperty`) so elements should now be accessed as e.g. `o.s` instead of `o[:s]`.\n",
      "│   caller = _update_min_padding!(::Plots.Subplot{Plots.PyPlotBackend}) at pyplot.jl:1184\n",
      "└ @ Plots /home/furst/.julia/packages/Plots/QYETN/src/backends/pyplot.jl:1184\n",
      "┌ Warning: `getindex(o::PyObject, s::Symbol)` is deprecated in favor of dot overloading (`getproperty`) so elements should now be accessed as e.g. `o.s` instead of `o[:s]`.\n",
      "│   caller = _update_plot_object(::Plots.Plot{Plots.PyPlotBackend}) at pyplot.jl:1304\n",
      "└ @ Plots /home/furst/.julia/packages/Plots/QYETN/src/backends/pyplot.jl:1304\n",
      "┌ Warning: `getindex(o::PyObject, s::Symbol)` is deprecated in favor of dot overloading (`getproperty`) so elements should now be accessed as e.g. `o.s` instead of `o[:s]`.\n",
      "│   caller = _update_plot_object(::Plots.Plot{Plots.PyPlotBackend}) at pyplot.jl:1314\n",
      "└ @ Plots /home/furst/.julia/packages/Plots/QYETN/src/backends/pyplot.jl:1314\n",
      "┌ Warning: `getindex(f::Figure, x)` is deprecated, use `getproperty(f, x)` instead.\n",
      "│   caller = _show(::Base64.Base64EncodePipe, ::MIME{Symbol(\"image/png\")}, ::Plots.Plot{Plots.PyPlotBackend}) at pyplot.jl:1343\n",
      "└ @ Plots /home/furst/.julia/packages/Plots/QYETN/src/backends/pyplot.jl:1343\n"
     ]
    },
    {
     "data": {
      "image/png": "[encoded data removed]"
     },
     "execution_count": 35,
     "metadata": {},
     "output_type": "execute_result"
    },
    {
     "name": "stderr",
     "output_type": "stream",
     "text": [
      "┌ Warning: `getindex(o::PyObject, s::Symbol)` is deprecated in favor of dot overloading (`getproperty`) so elements should now be accessed as e.g. `o.s` instead of `o[:s]`.\n",
      "│   caller = _show(::Base64.Base64EncodePipe, ::MIME{Symbol(\"image/png\")}, ::Plots.Plot{Plots.PyPlotBackend}) at pyplot.jl:1343\n",
      "└ @ Plots /home/furst/.julia/packages/Plots/QYETN/src/backends/pyplot.jl:1343\n",
      "┌ Warning: `getindex(f::Figure, x)` is deprecated, use `getproperty(f, x)` instead.\n",
      "│   caller = _show(::Base64.Base64EncodePipe, ::MIME{Symbol(\"image/png\")}, ::Plots.Plot{Plots.PyPlotBackend}) at pyplot.jl:1343\n",
      "└ @ Plots /home/furst/.julia/packages/Plots/QYETN/src/backends/pyplot.jl:1343\n"
     ]
    }
   ],
   "source": [
    "plot(reshape(u.values, 50,50), st=:contour, color=:lightrainbow, fill=true, aspect_ratio=:equal)"
   ]
  },
  {
   "cell_type": "markdown",
   "metadata": {},
   "source": [
    "## Implicitní metoda\n",
    "\n",
    "Implicitní metoda je výpočetně náročnější (v každém kroku řešíme soustavu rovnic), nicméně často bývá efektivnější neboť umožňuje použití delšího časového kroku. Pokusíme se naprogramovat implicitní metodu pro řešení **lineární** parciální diferenciální rovnice tak, že budeme jednotlivé operátory (derivace) reprezentovat jako trojici matice, neznámá a absolutní člen, tj.\n",
    "$$\n",
    "    L(x) = A x + b.\n",
    "$$"
   ]
  },
  {
   "cell_type": "code",
   "execution_count": 36,
   "metadata": {},
   "outputs": [],
   "source": [
    "using SparseArrays;"
   ]
  },
  {
   "cell_type": "code",
   "execution_count": 37,
   "metadata": {},
   "outputs": [],
   "source": [
    "struct Equation\n",
    "    A\n",
    "    x\n",
    "    b\n",
    "end"
   ]
  },
  {
   "cell_type": "markdown",
   "metadata": {},
   "source": [
    "S rovnicemi umíme provádět běžné operace "
   ]
  },
  {
   "cell_type": "code",
   "execution_count": 38,
   "metadata": {},
   "outputs": [],
   "source": [
    "# Scitani a odcitani rovnic \n",
    "for op ∈ [:+, :-]\n",
    "    @eval begin\n",
    "        function ($op)(e1::Equation, e2::Equation)\n",
    "            @assert e1.x == e2.x\n",
    "            Equation(($op)(e1.A, e2.A), e1.x, $(op)(e1.b, e2.b))\n",
    "        end\n",
    "    end\n",
    "end\n",
    "\n",
    "# Pricteni/odecteni pole o spravne velikosti \n",
    "for op ∈ [:+, :-]\n",
    "    @eval begin\n",
    "        function ($op)(e1::Equation, f::Array{Float64,1})\n",
    "            @assert size(e1.x) == size(f)\n",
    "            Equation(copy(e1.A), e1.x, $(op)(e1.b, f))\n",
    "        end\n",
    "    end\n",
    "end\n",
    "\n",
    "# Vynasobeni rovnice konstantou\n",
    "*(a::Float64, eq::Equation) = Equation(a*eq.A, eq.x, a*eq.b);"
   ]
  },
  {
   "cell_type": "markdown",
   "metadata": {},
   "source": [
    "Rovnice umíme vyřešit"
   ]
  },
  {
   "cell_type": "code",
   "execution_count": 39,
   "metadata": {},
   "outputs": [],
   "source": [
    "function solve!(eqn::Equation)\n",
    "    x = eqn.A \\ eqn.b\n",
    "    for i in eachindex(eqn.x)\n",
    "        eqn.x[i] = -x[i]\n",
    "    end\n",
    "end;"
   ]
  },
  {
   "cell_type": "markdown",
   "metadata": {},
   "source": [
    "### Operátor $\\partial/\\partial t$\n",
    "\n",
    "Časovou derivaci aproximujeme jako\n",
    "$$\n",
    "    \\frac{\\partial u}{\\partial t} \\approx \\frac{u^{n+1}-u^{n}}{\\Delta t}\n",
    "$$\n",
    "tj. jako \n",
    "$$\n",
    "T u^{n+1} + b\n",
    "$$\n",
    "kde $T=diag({1/\\Delta t})$ a $b_i=- u_i^n/\\Delta t$."
   ]
  },
  {
   "cell_type": "code",
   "execution_count": 40,
   "metadata": {},
   "outputs": [],
   "source": [
    "function ddt(f::Field,Δt)\n",
    "    n = length(f.values)\n",
    "    Equation(I/Δt, f.values, -f.values/Δt)\n",
    "end;    "
   ]
  },
  {
   "cell_type": "code",
   "execution_count": 41,
   "metadata": {},
   "outputs": [
    {
     "data": {
      "text/plain": [
       "Equation(UniformScaling{Float64}\n",
       "10.0*I, [0.0, 0.0, 0.0, 0.0, 0.0, 0.0, 0.0, 0.0, 0.0], [-0.0, -0.0, -0.0, -0.0, -0.0, -0.0, -0.0, -0.0, -0.0])"
      ]
     },
     "execution_count": 41,
     "metadata": {},
     "output_type": "execute_result"
    }
   ],
   "source": [
    "ddt(u3,0.1)"
   ]
  },
  {
   "cell_type": "markdown",
   "metadata": {},
   "source": [
    "Zkusíme vyřešit soustavu ODE $\\dot{u} = 1$ s počáteční podmínkou $u(0)-0$. Uděláme 10 kroků s $\\Delta t=0.1$."
   ]
  },
  {
   "cell_type": "code",
   "execution_count": 42,
   "metadata": {},
   "outputs": [
    {
     "name": "stdout",
     "output_type": "stream",
     "text": [
      "0.1\t0.2\t0.3\t0.39999999999999997\t0.5\t0.6\t0.7\t0.7999999999999999\t0.9\t1.0\t"
     ]
    }
   ],
   "source": [
    "u3.values = zeros(9)\n",
    "for t=1:10\n",
    "    solve!(ddt(u3,0.1)-ones(9))\n",
    "    print(u3.values[1], \"\\t\")\n",
    "end"
   ]
  },
  {
   "cell_type": "markdown",
   "metadata": {},
   "source": [
    "## Operátor $div(\\vec{v}u)$\n",
    "\n",
    "Operátor je reprezentován řídkou maticí a absolutním členem $b$. Matici sestavíme stejným způsobem jako při výpočtu $r_i$ explicitní metodou."
   ]
  },
  {
   "cell_type": "code",
   "execution_count": 43,
   "metadata": {},
   "outputs": [
    {
     "data": {
      "text/plain": [
       "div (generic function with 1 method)"
      ]
     },
     "execution_count": 43,
     "metadata": {},
     "output_type": "execute_result"
    }
   ],
   "source": [
    "function div(v::Vector, u::Field)\n",
    "    A = spzeros(length(u.values),length(u.values))\n",
    "    b = zero(u.values)\n",
    "    \n",
    "    msh = u.mesh\n",
    "    \n",
    "    for f in internal_faces(msh)\n",
    "        o = msh.owner[f]\n",
    "        n = msh.neighbor[f]\n",
    "        S = msh.surface[f]\n",
    "        uo = u.values[o]\n",
    "        un = u.values[n]\n",
    "    \n",
    "        ϕ = dot(v,S)\n",
    "        α = max(ϕ, 0.0)\n",
    "        β = min(ϕ, 0.0)\n",
    "        \n",
    "        A[o,o] += α / msh.volume[o]\n",
    "        A[o,n] += β / msh.volume[o]\n",
    "            \n",
    "        A[n,o] -= α / msh.volume[n]\n",
    "        A[n,n] -= β / msh.volume[n]\n",
    "    end\n",
    "\n",
    "    for p in boundary_patches(msh)\n",
    "        name = msh.patch[p].name\n",
    "        bc = u.boundaries[name]\n",
    "        \n",
    "        for f in patch_faces(msh, p)\n",
    "            o = msh.owner[f]\n",
    "            S = msh.surface[f]\n",
    "            \n",
    "            ϕ = dot(v,S)\n",
    "            α = max(ϕ, 0.0)\n",
    "            β = min(ϕ, 0.0)\n",
    "            \n",
    "            # ub = c1 + c2*u[o], flux=alpha*u[o] + beta*ub\n",
    "            c1, c2 = boundary_coeffs(bc, f)\n",
    "\n",
    "            A[o,o] += (α + β*c2) / msh.volume[o]\n",
    "            b[o]   += β*c1 / msh.volume[o]\n",
    "        end\n",
    "    end\n",
    "    \n",
    "    return Equation(A, u.values, b)\n",
    "end     "
   ]
  },
  {
   "cell_type": "code",
   "execution_count": 44,
   "metadata": {},
   "outputs": [
    {
     "data": {
      "text/plain": [
       "9×9 Array{Float64,2}:\n",
       "  4.5   0.0   0.0   0.0   0.0   0.0   0.0   0.0  0.0\n",
       " -3.0   4.5   0.0   0.0   0.0   0.0   0.0   0.0  0.0\n",
       "  0.0  -3.0   4.5   0.0   0.0   0.0   0.0   0.0  0.0\n",
       " -1.5   0.0   0.0   4.5   0.0   0.0   0.0   0.0  0.0\n",
       "  0.0  -1.5   0.0  -3.0   4.5   0.0   0.0   0.0  0.0\n",
       "  0.0   0.0  -1.5   0.0  -3.0   4.5   0.0   0.0  0.0\n",
       "  0.0   0.0   0.0  -1.5   0.0   0.0   4.5   0.0  0.0\n",
       "  0.0   0.0   0.0   0.0  -1.5   0.0  -3.0   4.5  0.0\n",
       "  0.0   0.0   0.0   0.0   0.0  -1.5   0.0  -3.0  4.5"
      ]
     },
     "execution_count": 44,
     "metadata": {},
     "output_type": "execute_result"
    }
   ],
   "source": [
    "Matrix(div(v,u3).A)"
   ]
  },
  {
   "cell_type": "markdown",
   "metadata": {},
   "source": [
    "### Vlastnosti matice $C$ reprezentující operátor $div(\\vec{v}u)$\n",
    "\n",
    "Nechť C je matice získaná reprezentující lineární operátor $div(\\vec{v}u)$ získaná pomocí MKO a schématu **upwind**. Potom:\n",
    "1. C je (neostře) diagonálně dominantní,\n",
    "2. $C_{ii}>0$ a $C_{ij} \\le 0$ pro $i\\ne j$.\n",
    "3. V řádcích odpovídajících vnitřním buňkám sítě (tj. ty, které nesousedí s žádnou hranicí) je $\\sum_j C_{ij}=0$."
   ]
  },
  {
   "cell_type": "markdown",
   "metadata": {},
   "source": [
    "Vyřešíme rovnici konvekce do času $t=0.5s$ pomocí implicitní metody s krokem $\\Delta t=0.05$"
   ]
  },
  {
   "cell_type": "code",
   "execution_count": 45,
   "metadata": {},
   "outputs": [],
   "source": [
    "u.values = zero(u.values)\n",
    "\n",
    "Δt = 0.05\n",
    "for t=0:Δt:0.5\n",
    "    solve!( ddt(u,Δt) + div(v,u) ); \n",
    "end"
   ]
  },
  {
   "cell_type": "code",
   "execution_count": 46,
   "metadata": {},
   "outputs": [
    {
     "data": {
      "image/png": "[encoded data removed]"
     },
     "execution_count": 46,
     "metadata": {},
     "output_type": "execute_result"
    }
   ],
   "source": [
    "plot(reshape(u.values, 50,50), st=:contour, color=:lightrainbow, fill=true, aspect_ratio=:equal)"
   ]
  },
  {
   "cell_type": "markdown",
   "metadata": {},
   "source": [
    "### Operátor $\\Delta u$\n",
    "\n",
    "Operátor $\\Delta u$ je rozepsán jako $\\Delta u = \\nabla \\cdot (\\nabla u)$. Diskretizace se provede podobně jako u konvektivního členu. Tok $\\nabla u \\cdot \\vec{S}$ je aproximován centrálně, tj.\n",
    "$$\n",
    "    \\nabla u \\cdot \\vec{S} \\approx ||\\vec{S}|| \\frac{u_n - u_o}{||\\vec{x}_n-\\vec{x}_o||}\n",
    "$$\n",
    "Zde se dopouštíme zjednodušení kdy předpokládáme, že vektor $\\vec{S}$ je rovnoběžný s $\\vec{x}_n - \\vec{x}_o$ (ortogonalita sítě)."
   ]
  },
  {
   "cell_type": "code",
   "execution_count": 47,
   "metadata": {},
   "outputs": [
    {
     "data": {
      "text/plain": [
       "Δ (generic function with 1 method)"
      ]
     },
     "execution_count": 47,
     "metadata": {},
     "output_type": "execute_result"
    }
   ],
   "source": [
    "function Δ(μ::Float64, u::Field)\n",
    "    mesh = u.mesh\n",
    "    \n",
    "    A = spzeros(length(u.values),length(u.values))\n",
    "    b = zero(u.values)\n",
    "\n",
    "    \n",
    "    for f in internal_faces(mesh)\n",
    "        o, n = mesh.owner[f], mesh.neighbor[f]\n",
    "        xo, xn = mesh.centre[o], mesh.centre[n]\n",
    "        S = mesh.surface[f]\n",
    "        \n",
    "        g = μ * norm(S) / norm(xn - xo)\n",
    "\n",
    "        A[o,o] -= g / mesh.volume[o]\n",
    "        A[o,n] += g / mesh.volume[o]\n",
    "            \n",
    "        A[n,o] += g / mesh.volume[n]\n",
    "        A[n,n] -= g / mesh.volume[n]\n",
    "    end\n",
    "    \n",
    "    \n",
    "    for p in boundary_patches(mesh)\n",
    "        name = mesh.patch[p].name\n",
    "        bc = u.boundaries[name]\n",
    "        \n",
    "        for f in patch_faces(mesh, p)\n",
    "            o = mesh.owner[f]\n",
    "            S = mesh.surface[f]\n",
    "            xo, xf = mesh.centre[o], mesh.facecentre[f]\n",
    "            c1, c2 = boundary_coeffs(bc, f)\n",
    "            \n",
    "            # normal derivative at boundary dudn = (ub - uin) / delta\n",
    "            # with ub = c[1] + c[2]*uin, i.e.\n",
    "            # dudn = c[1]/delta + (c[2]-1)/delta*uin\n",
    "            \n",
    "            δ = dot(xf - xo, S)/norm(S)\n",
    "            A[o,o] += μ * (c2-1)/δ * norm(S) / mesh.volume[o]\n",
    "            b[o] += μ * c1/δ * norm(S) / mesh.volume[o]\n",
    "        end\n",
    "    end\n",
    "\n",
    "    Equation(A, u.values, b)\n",
    "end\n"
   ]
  },
  {
   "cell_type": "markdown",
   "metadata": {},
   "source": [
    "### Vlastnosti matice $D$ reprezentující operátor $\\Delta$\n",
    "\n",
    "1. Matice $D$ je symetrická\n",
    "2. Matice $D$ je neostře diagonálně dominantní\n",
    "3. $D_{ii}<0$, $D_{ij} \\ge 0$ pro $i\\ne j$\n",
    "4. Matice $-D$ je pozitivně definitní"
   ]
  },
  {
   "cell_type": "code",
   "execution_count": 48,
   "metadata": {},
   "outputs": [
    {
     "data": {
      "text/plain": [
       "9×9 Array{Float64,2}:\n",
       " -54.0    9.0    0.0    9.0    0.0    0.0    0.0    0.0    0.0\n",
       "   9.0  -45.0    9.0    0.0    9.0    0.0    0.0    0.0    0.0\n",
       "   0.0    9.0  -36.0    0.0    0.0    9.0    0.0    0.0    0.0\n",
       "   9.0    0.0    0.0  -45.0    9.0    0.0    9.0    0.0    0.0\n",
       "   0.0    9.0    0.0    9.0  -36.0    9.0    0.0    9.0    0.0\n",
       "   0.0    0.0    9.0    0.0    9.0  -27.0    0.0    0.0    9.0\n",
       "   0.0    0.0    0.0    9.0    0.0    0.0  -36.0    9.0    0.0\n",
       "   0.0    0.0    0.0    0.0    9.0    0.0    9.0  -27.0    9.0\n",
       "   0.0    0.0    0.0    0.0    0.0    9.0    0.0    9.0  -18.0"
      ]
     },
     "execution_count": 48,
     "metadata": {},
     "output_type": "execute_result"
    }
   ],
   "source": [
    "D=Matrix(Δ(1.0,u3).A)"
   ]
  },
  {
   "cell_type": "markdown",
   "metadata": {},
   "source": [
    "## Řešení rovnice konvekce s difuzí pomocí MKO\n",
    "\n",
    "V každém kroku se řeší soustava rovnic s maticí\n",
    "$A = T + C - D$. Tato matice je:\n",
    "1. nesymetrická,\n",
    "2. ODD,\n",
    "3. $A_{ii}>0$, $A_{ij} \\le 0$ pro $i \\ne j$,\n",
    "4. $\\sum_j A_{ij} \\le 1/\\Delta t$."
   ]
  },
  {
   "cell_type": "code",
   "execution_count": 49,
   "metadata": {},
   "outputs": [
    {
     "data": {
      "text/plain": [
       "9×9 Array{Float64,2}:\n",
       " 29.9  -0.9   0.0  -0.9   0.0   0.0   0.0   0.0   0.0\n",
       " -3.9  29.0  -0.9   0.0  -0.9   0.0   0.0   0.0   0.0\n",
       "  0.0  -3.9  28.1   0.0   0.0  -0.9   0.0   0.0   0.0\n",
       " -2.4   0.0   0.0  29.0  -0.9   0.0  -0.9   0.0   0.0\n",
       "  0.0  -2.4   0.0  -3.9  28.1  -0.9   0.0  -0.9   0.0\n",
       "  0.0   0.0  -2.4   0.0  -3.9  27.2   0.0   0.0  -0.9\n",
       "  0.0   0.0   0.0  -2.4   0.0   0.0  28.1  -0.9   0.0\n",
       "  0.0   0.0   0.0   0.0  -2.4   0.0  -3.9  27.2  -0.9\n",
       "  0.0   0.0   0.0   0.0   0.0  -2.4   0.0  -3.9  26.3"
      ]
     },
     "execution_count": 49,
     "metadata": {},
     "output_type": "execute_result"
    }
   ],
   "source": [
    "A = Matrix((ddt(u3,Δt) + div(v,u3) - Δ(1.e-1,u3)).A)"
   ]
  },
  {
   "cell_type": "markdown",
   "metadata": {},
   "source": [
    "Řešení dané úlohy pro čas $t=0.5s$ pomocí implicitní metody s krokem $\\Delta t = 0.1s$ s nulovou počáteční podmínkou."
   ]
  },
  {
   "cell_type": "code",
   "execution_count": 50,
   "metadata": {},
   "outputs": [],
   "source": [
    "u.values = zero(u.values)\n",
    "\n",
    "Δt = 0.1\n",
    "for t=0:Δt:0.5\n",
    "    solve!( ddt(u,Δt) + div(v,u) - Δ(1.e-2,u) ); \n",
    "end"
   ]
  },
  {
   "cell_type": "code",
   "execution_count": 51,
   "metadata": {},
   "outputs": [
    {
     "data": {
      "image/png": "[encoded data removed]"
     },
     "execution_count": 51,
     "metadata": {},
     "output_type": "execute_result"
    }
   ],
   "source": [
    "plot(reshape(u.values, 50,50), st=:contour, color=:lightrainbow, fill=true, aspect_ratio=:equal)"
   ]
  },
  {
   "cell_type": "code",
   "execution_count": null,
   "metadata": {},
   "outputs": [],
   "source": []
  }
 ],
 "metadata": {
  "@webio": {
   "lastCommId": "7da016739f9f417ba7cfa7143825acc0",
   "lastKernelId": "04cfc403-d38c-4fdf-872e-0a567efe8f00"
  },
  "kernelspec": {
   "display_name": "Julia 1.0.3",
   "language": "julia",
   "name": "julia-1.0"
  },
  "language_info": {
   "file_extension": ".jl",
   "mimetype": "application/julia",
   "name": "julia",
   "version": "1.0.3"
  }
 },
 "nbformat": 4,
 "nbformat_minor": 2
}
