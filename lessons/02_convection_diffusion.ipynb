{
 "cells": [
  {
   "cell_type": "markdown",
   "metadata": {},
   "source": [
    "# Numerické řešení konvekce s difusí pomocí MKO"
   ]
  },
  {
   "cell_type": "markdown",
   "metadata": {},
   "source": [
    "## Síť pro MKO"
   ]
  },
  {
   "cell_type": "code",
   "execution_count": 1,
   "metadata": {},
   "outputs": [],
   "source": [
    "using PyPlot\n",
    "using StaticArrays\n",
    "import Base.-, Base.+, Base.*, Base./\n",
    "using ForwardDiff\n",
    "\n",
    "const Vec2d = SVector{2,Float64};\n",
    "const VecList = Array{Vec2d,1};"
   ]
  },
  {
   "cell_type": "code",
   "execution_count": 2,
   "metadata": {},
   "outputs": [],
   "source": [
    "immutable Cell\n",
    "    id  :: Int\n",
    "    x   :: Vec2d\n",
    "    vol :: Float64\n",
    "end\n",
    "\n",
    "const CellList = Array{Cell,1};"
   ]
  },
  {
   "cell_type": "code",
   "execution_count": 3,
   "metadata": {},
   "outputs": [],
   "source": [
    "immutable Face\n",
    "    id    :: Int\n",
    "    x     :: Vec2d\n",
    "    s     :: Vec2d\n",
    "    owner :: Int\n",
    "    neigh :: Int\n",
    "end;\n",
    "\n",
    "const FaceList = Array{Face,1};"
   ]
  },
  {
   "cell_type": "code",
   "execution_count": 4,
   "metadata": {},
   "outputs": [],
   "source": [
    "const PatchDict = Dict{String,FaceList};"
   ]
  },
  {
   "cell_type": "code",
   "execution_count": 5,
   "metadata": {},
   "outputs": [],
   "source": [
    "type Mesh\n",
    "    points  :: VecList\n",
    "    faces   :: FaceList\n",
    "    cells   :: CellList\n",
    "    patches :: PatchDict\n",
    "end"
   ]
  },
  {
   "cell_type": "code",
   "execution_count": 6,
   "metadata": {},
   "outputs": [
    {
     "data": {
      "text/plain": [
       "cartesian_mesh (generic function with 1 method)"
      ]
     },
     "execution_count": 6,
     "metadata": {},
     "output_type": "execute_result"
    }
   ],
   "source": [
    "function cartesian_mesh(nx, ny)\n",
    "    Δx, Δy = 1.0/nx, 1.0/ny\n",
    "    \n",
    "    pid(i,j) = i + j*(nx+1) + 1\n",
    "    cid(i,j) = i + (j-1)*nx\n",
    "\n",
    "    fid_  = 0 \n",
    "    function fid() \n",
    "        fid_+=1\n",
    "        return fid_\n",
    "    end\n",
    "    \n",
    "    # mesh points\n",
    "    points = VecList()\n",
    "    for j=0:ny,i=0:nx\n",
    "        push!(points, Vec2d(i*Δx, j*Δy))\n",
    "    end\n",
    "    \n",
    "    faces = FaceList()\n",
    "    for j=1:ny, i=1:nx\n",
    "        if i<nx\n",
    "            x = Vec2d(i*Δx,(j-0.5)*Δy)\n",
    "            s = Vec2d(Δy,0)\n",
    "            push!(faces, Face(fid(), x, s, cid(i,j), cid(i+1,j)))\n",
    "        end\n",
    "        \n",
    "        if j<ny\n",
    "            x = Vec2d((i-0.5)*Δx,j*Δy)\n",
    "            s = Vec2d(0,Δx)\n",
    "            push!(faces, Face(fid(), x, s, cid(i,j), cid(i,j+1)))\n",
    "        end\n",
    "            \n",
    "    end\n",
    "    \n",
    "    # mesh cells\n",
    "    cells = CellList()\n",
    "    for j=1:ny,i=1:nx\n",
    "        push!(cells, Cell(cid(i,j), Vec2d((i-0.5)*Δx,(j-0.5)*Δy), Δx*Δy))\n",
    "    end\n",
    "    \n",
    "    # boundary patches\n",
    "    patches = PatchDict(\n",
    "        \"bottom\" => [ Face( fid(), Vec2d((i-0.5)*Δx,0), Vec2d(0,-Δy), cid(i,1), 0) for i=1:nx],\n",
    "        \"top\"    => [ Face( fid(), Vec2d((i-0.5)*Δx,1), Vec2d(0,Δy), cid(i,ny), 0) for i=1:nx],\n",
    "        \"left\"   => [ Face( fid(), Vec2d(0,(j-0.5)*Δy), Vec2d(-Δx,0), cid(1,j), 0) for j=1:ny],\n",
    "        \"right\"  => [ Face( fid(), Vec2d(1,(j-0.5)*Δy), Vec2d(Δx,0),  cid(nx,j), 0) for j=1:ny],\n",
    "    )\n",
    "    \n",
    "    return Mesh(points, faces, cells, patches)\n",
    "end"
   ]
  },
  {
   "cell_type": "code",
   "execution_count": 7,
   "metadata": {},
   "outputs": [],
   "source": [
    "m2 = cartesian_mesh(2,2);"
   ]
  },
  {
   "cell_type": "code",
   "execution_count": 8,
   "metadata": {},
   "outputs": [
    {
     "name": "stdout",
     "output_type": "stream",
     "text": [
      "[0.0, 0.0]\n",
      "[0.5, 0.0]\n",
      "[1.0, 0.0]\n",
      "[0.0, 0.5]\n",
      "[0.5, 0.5]\n",
      "[1.0, 0.5]\n",
      "[0.0, 1.0]\n",
      "[0.5, 1.0]\n",
      "[1.0, 1.0]\n"
     ]
    }
   ],
   "source": [
    "for p in m2.points\n",
    "    println(p)\n",
    "end"
   ]
  },
  {
   "cell_type": "code",
   "execution_count": 9,
   "metadata": {},
   "outputs": [
    {
     "name": "stdout",
     "output_type": "stream",
     "text": [
      "Face(1, [0.5, 0.25], [0.5, 0.0], 1, 2)\n",
      "Face(2, [0.25, 0.5], [0.0, 0.5], 1, 3)\n",
      "Face(3, [0.75, 0.5], [0.0, 0.5], 2, 4)\n",
      "Face(4, [0.5, 0.75], [0.5, 0.0], 3, 4)\n"
     ]
    }
   ],
   "source": [
    "for f in m2.faces\n",
    "    println(f)\n",
    "end"
   ]
  },
  {
   "cell_type": "code",
   "execution_count": 10,
   "metadata": {},
   "outputs": [
    {
     "name": "stdout",
     "output_type": "stream",
     "text": [
      "Cell(1, [0.25, 0.25], 0.25)\n",
      "Cell(2, [0.75, 0.25], 0.25)\n",
      "Cell(3, [0.25, 0.75], 0.25)\n",
      "Cell(4, [0.75, 0.75], 0.25)\n"
     ]
    }
   ],
   "source": [
    "for c in m2.cells\n",
    "    println(c)\n",
    "end"
   ]
  },
  {
   "cell_type": "code",
   "execution_count": 11,
   "metadata": {},
   "outputs": [
    {
     "name": "stdout",
     "output_type": "stream",
     "text": [
      "PATCH left\n",
      "Face(9, [0.0, 0.25], [-0.5, 0.0], 1, 0)\n",
      "Face(10, [0.0, 0.75], [-0.5, 0.0], 3, 0)\n",
      "\n",
      "PATCH bottom\n",
      "Face(5, [0.25, 0.0], [0.0, -0.5], 1, 0)\n",
      "Face(6, [0.75, 0.0], [0.0, -0.5], 2, 0)\n",
      "\n",
      "PATCH right\n",
      "Face(11, [1.0, 0.25], [0.5, 0.0], 2, 0)\n",
      "Face(12, [1.0, 0.75], [0.5, 0.0], 4, 0)\n",
      "\n",
      "PATCH top\n",
      "Face(7, [0.25, 1.0], [0.0, 0.5], 3, 0)\n",
      "Face(8, [0.75, 1.0], [0.0, 0.5], 4, 0)\n",
      "\n"
     ]
    }
   ],
   "source": [
    "for (name,faces) in m2.patches\n",
    "    println(\"PATCH \", name)\n",
    "    for f in faces\n",
    "        println(f)\n",
    "    end\n",
    "    println()\n",
    "end"
   ]
  },
  {
   "cell_type": "markdown",
   "metadata": {},
   "source": [
    "## Uložení dat a okrajových podmínek\n",
    "\n",
    "K uložení dat použijeme speciální datovou strukturu `Field`, která zahrnuje jak hodnoty řešení ve středech buněk, tak odkaz (ukazatel) na síť a seznam okrajových podmínek."
   ]
  },
  {
   "cell_type": "code",
   "execution_count": 12,
   "metadata": {},
   "outputs": [],
   "source": [
    "type Field\n",
    "    values\n",
    "    mesh\n",
    "    boundaries\n",
    "end\n",
    "\n",
    "Field(m::Mesh) = Field( zeros(length(m.cells)), m, Dict{String,Any}());\n",
    "Field(values, m::Mesh) = Field(values, m, Dict{String,Any}());"
   ]
  },
  {
   "cell_type": "markdown",
   "metadata": {},
   "source": [
    "### Operace se strukturou `Field`\n",
    "\n",
    "Se strukturou `Field` budeme provádět aritmetické operace (sčítat, odčítat, násobit, dělit, ...) prvek po prvku"
   ]
  },
  {
   "cell_type": "code",
   "execution_count": 13,
   "metadata": {},
   "outputs": [],
   "source": [
    "for op ∈ [:+, :-, :*, :/]\n",
    "    @eval begin\n",
    "        function ($op)(a::Field, b::Field)\n",
    "            assert(a.mesh == b.mesh)\n",
    "            Field(broadcast($op,a.values,b.values), a.mesh)\n",
    "        end\n",
    "    end\n",
    "end"
   ]
  },
  {
   "cell_type": "code",
   "execution_count": 14,
   "metadata": {},
   "outputs": [],
   "source": [
    "a2 = Field(m2); a2.values = ones(4);\n",
    "b2 = Field(m2); b2.values = 3*ones(4);"
   ]
  },
  {
   "cell_type": "code",
   "execution_count": 15,
   "metadata": {},
   "outputs": [
    {
     "data": {
      "text/plain": [
       "4-element Array{Float64,1}:\n",
       " 3.0\n",
       " 3.0\n",
       " 3.0\n",
       " 3.0"
      ]
     },
     "execution_count": 15,
     "metadata": {},
     "output_type": "execute_result"
    }
   ],
   "source": [
    "c2 = a2 * b2;\n",
    "c2.values"
   ]
  },
  {
   "cell_type": "markdown",
   "metadata": {},
   "source": [
    "Umíme k ní přičíst konstantu ke každému prvku, umíme přičíst pole správné velikosti a umíme jí vynásobit či vydělit konstantou. Dále umíme unární mínus."
   ]
  },
  {
   "cell_type": "code",
   "execution_count": 16,
   "metadata": {},
   "outputs": [],
   "source": [
    "for op ∈ [:+, :-, :*, :/]\n",
    "    @eval begin\n",
    "        function ($op)(a::Field, b::Number)\n",
    "            Field(broadcast($op,a.values,b), a.mesh)\n",
    "        end\n",
    "    end\n",
    "end      \n",
    "\n",
    "for op ∈ [:+, :-, :*, :/]\n",
    "    @eval begin\n",
    "        function ($op)(a::Field, b::Array{Float64,1})\n",
    "            assert( size(a.values) == size(b) )\n",
    "            Field(broadcast($op,a.values,b), a.mesh)\n",
    "        end\n",
    "    end\n",
    "end      \n",
    "\n",
    "-(a::Field) = Field(-a.values, a.mesh);"
   ]
  },
  {
   "cell_type": "code",
   "execution_count": 17,
   "metadata": {},
   "outputs": [
    {
     "data": {
      "text/plain": [
       "4-element Array{Float64,1}:\n",
       " 0.333333\n",
       " 0.333333\n",
       " 0.333333\n",
       " 0.333333"
      ]
     },
     "execution_count": 17,
     "metadata": {},
     "output_type": "execute_result"
    }
   ],
   "source": [
    "c2 = a2 / 3;\n",
    "c2.values"
   ]
  },
  {
   "cell_type": "markdown",
   "metadata": {},
   "source": [
    "### Přiřazení do `Field` \n",
    "\n",
    "Zde je třeba trochu opatrnosti. Při prostém přiřazení dojde v jazyce Julia pouze k nastavení ukazatele na hodnotu na pravé straně. To ale mimo jiné vymaže odkaz na okrajové podmínky. Proto raději definujeme oprátor <- který pouze kopíruje položku values."
   ]
  },
  {
   "cell_type": "code",
   "execution_count": 18,
   "metadata": {},
   "outputs": [
    {
     "data": {
      "text/plain": [
       "← (generic function with 1 method)"
      ]
     },
     "execution_count": 18,
     "metadata": {},
     "output_type": "execute_result"
    }
   ],
   "source": [
    "function ←(a::Field, b::Field)\n",
    "    assert(a.mesh == b.mesh)\n",
    "    a.values = copy(b.values)\n",
    "end"
   ]
  },
  {
   "cell_type": "code",
   "execution_count": 19,
   "metadata": {},
   "outputs": [
    {
     "name": "stdout",
     "output_type": "stream",
     "text": [
      "[3.0, 3.0, 3.0, 3.0]\n",
      "[5.0, 3.0, 3.0, 3.0]\n"
     ]
    }
   ],
   "source": [
    "b2.values = 3*ones(4)\n",
    "c2 ← b2;\n",
    "d2 = b2;\n",
    "b2.values[1] = 5;\n",
    "println(c2.values)\n",
    "println(d2.values)"
   ]
  },
  {
   "cell_type": "markdown",
   "metadata": {},
   "source": [
    "### Okrajová podmínka\n",
    "\n",
    "Pro metodu konečných objemů potřebujeme umět vyčíslit hodnotu řešení a případně gradientu řešení na hranici. Jednou z možností je implementovat podminku tak, že \n",
    "$$\n",
    "    u_b = c_1 + c_2 u_1,\n",
    "$$\n",
    "kde $u_b$ je hodnota na hranici, $u_1$ je hodnota ve středu první buňky a $c_1$ a $c_2$ jsou koeficienty."
   ]
  },
  {
   "cell_type": "code",
   "execution_count": 20,
   "metadata": {},
   "outputs": [],
   "source": [
    "function boundary_value(patch, i::Int)\n",
    "    c = boundary_coeffs(patch,i)\n",
    "    u1 = patch.field.values[patch.faces[i].owner]\n",
    "    return c[1] + c[2]*u1\n",
    "end;"
   ]
  },
  {
   "cell_type": "markdown",
   "metadata": {},
   "source": [
    "Dirichletova podmínka je potom implementována tak, že $c_1$ je předepsaná hodnota a $c_2=0$."
   ]
  },
  {
   "cell_type": "code",
   "execution_count": 21,
   "metadata": {},
   "outputs": [],
   "source": [
    "type DirichletPatch\n",
    "    value :: Array{Float64,1}\n",
    "    field :: Field\n",
    "    faces :: FaceList\n",
    "end\n",
    "\n",
    "boundary_coeffs(p::DirichletPatch, i::Int) = (p.value[i], 0.0)\n",
    "\n",
    "# Pomocna funkce pro nastaveni Dirichletovy okrajove podminky s jednou zadanou hodnotou\n",
    "function set_dirichlet_patch!(u::Field, name::String, val::Float64)\n",
    "    value = [val for i=1:length(u.mesh.patches[name])]\n",
    "    u.boundaries[name] = DirichletPatch(value, u, u.mesh.patches[name])\n",
    "end;"
   ]
  },
  {
   "cell_type": "markdown",
   "metadata": {},
   "source": [
    "Neumannova podmínka je implementována jako $c_1=0$ a $c_2=1$. Pro případ zadané nenulové normálvé derivace je výpočet následující:\n",
    "$$\n",
    "\\frac{u_b-u_1}{\\delta} = \\frac{\\partial u}{\\partial n},\n",
    "$$\n",
    "kde\n",
    "$$\n",
    "    \\delta = (\\vec{x}_f - \\vec{x}_o)\\cdot \\vec{n}.\n",
    "$$\n",
    "$\\vec{x}_f$ je střed stěny, $\\vec{x}_o$ je střed buňky. Tzn.\n",
    "$$\n",
    "    u_b = \\delta \\frac{\\partial u}{\\partial n} + u_1.\n",
    "$$"
   ]
  },
  {
   "cell_type": "code",
   "execution_count": 22,
   "metadata": {},
   "outputs": [],
   "source": [
    "type NeumannPatch\n",
    "    deriv :: Array{Float64,1}\n",
    "    field :: Field\n",
    "    faces :: FaceList\n",
    "end\n",
    "\n",
    "\n",
    "function boundary_coeffs(p::NeumannPatch, i::Int)\n",
    "    u = p.field\n",
    "    m = u.mesh\n",
    "    f = p.faces[i]\n",
    "    δ = dot(f.x - m.cells[f.owner].x, f.s) / norm(f.s)\n",
    "    return (p.deriv[i] * δ, 1.0)\n",
    "end\n",
    "\n",
    "function set_neumann_patch!(u::Field, name::String, der::Float64)\n",
    "    u.boundaries[name] = NeumannPatch([der for i=1:length(u.mesh.patches[name])], u, u.mesh.patches[name])\n",
    "end;\n"
   ]
  },
  {
   "cell_type": "code",
   "execution_count": 23,
   "metadata": {},
   "outputs": [],
   "source": [
    "m3 = cartesian_mesh(3,3);"
   ]
  },
  {
   "cell_type": "code",
   "execution_count": 24,
   "metadata": {},
   "outputs": [],
   "source": [
    "u3 = Field(m3);\n",
    "set_dirichlet_patch!(u3, \"left\", 1.0);\n",
    "set_dirichlet_patch!(u3, \"bottom\", 0.0);\n",
    "set_neumann_patch!(u3, \"right\", 0.0);\n",
    "set_neumann_patch!(u3, \"top\", 0.0);"
   ]
  },
  {
   "cell_type": "markdown",
   "metadata": {},
   "source": [
    "## Výpočet pomocí MKO\n",
    "\n",
    "Řešíme rovnici\n",
    "\n",
    "\\begin{equation}\n",
    "    \\frac{\\partial u}{\\partial t} + \\nabla\\cdot(\\vec{v} u) = 0\n",
    "\\end{equation}\n",
    "s $\\vec{v}=[1,0.5]$, počáteční podmínkou $u(0,\\vec{x}) = 0$ a s okrajovými podmínkami $u=0$ pro $x=0$ a $u=1$ pro $y=0$.\n",
    "\n",
    "Výpočet provedeme pomocí MKO v explicitním tvaru, toky přes hranice budeme aproximovat pomocí metody *upwind*. Tedy\n",
    "$$\n",
    "    u_i^{n+1} = u_i^n - \\frac{\\Delta t}{|\\Omega_i|} \\sum_{j} H_f(u_i^n, u_j^n, \\vec{S}_{ij}), \n",
    "$$\n",
    "kde $j$ probíhá přes sousedy buňky $i$. \n",
    "\n",
    "Sumy na pravé straně vyčíslíme dle následujícího algoritmu:\n",
    "1. Vynulujeme $r_i:=0$\n",
    "2. Pro všechny vnitřní stěny vypočteme tok z buňky *owner* do *neighbour*, ten pak přidáme k $r[owner]$ a odebereme od $r[neighbour]$ (pozn. pozor na znaménko!).\n",
    "3. Podobně projdeme všechny hraniční stěny, zde není buňka *neighbour* a výpočet toku musíme provést dle zadané okrajové podmíny.\n",
    "4. Nakonec celé pole dělíme objemy buněk."
   ]
  },
  {
   "cell_type": "code",
   "execution_count": 25,
   "metadata": {},
   "outputs": [
    {
     "data": {
      "text/plain": [
       "H (generic function with 1 method)"
      ]
     },
     "execution_count": 25,
     "metadata": {},
     "output_type": "execute_result"
    }
   ],
   "source": [
    "v = Vec2d(1, 0.5);\n",
    "\n",
    "# Tok typu upwind\n",
    "H(ul, ur, s) = dot(v,s)>0 ? dot(v,s)*ul : dot(v,s)*ur"
   ]
  },
  {
   "cell_type": "code",
   "execution_count": 26,
   "metadata": {},
   "outputs": [
    {
     "data": {
      "text/plain": [
       "R (generic function with 1 method)"
      ]
     },
     "execution_count": 26,
     "metadata": {},
     "output_type": "execute_result"
    }
   ],
   "source": [
    "function R(u::Field)\n",
    "    m = u.mesh\n",
    "    r = zeros(u.values)    \n",
    "    \n",
    "    for f ∈ m.faces\n",
    "        flux = H( u.values[f.owner], u.values[f.neigh], f.s)\n",
    "        r[f.owner] += flux\n",
    "        r[f.neigh] -= flux\n",
    "    end\n",
    "    \n",
    "    for (name,faces) ∈ m.patches\n",
    "        bc = u.boundaries[name]\n",
    "        for (i,f) ∈ enumerate(bc.faces)\n",
    "            ub = boundary_value(bc, i)\n",
    "            flux = H( u.values[f.owner], ub, f.s)\n",
    "            r[f.owner] += flux\n",
    "        end\n",
    "    end\n",
    "    \n",
    "    for c in m.cells\n",
    "        r[c.id] /= c.vol\n",
    "    end\n",
    "    \n",
    "    return r\n",
    "end"
   ]
  },
  {
   "cell_type": "code",
   "execution_count": 27,
   "metadata": {},
   "outputs": [
    {
     "data": {
      "text/plain": [
       "9-element Array{Float64,1}:\n",
       " -3.0\n",
       "  0.0\n",
       "  0.0\n",
       " -3.0\n",
       "  0.0\n",
       "  0.0\n",
       " -3.0\n",
       "  0.0\n",
       "  0.0"
      ]
     },
     "execution_count": 27,
     "metadata": {},
     "output_type": "execute_result"
    }
   ],
   "source": [
    "R(u3)"
   ]
  },
  {
   "cell_type": "code",
   "execution_count": 28,
   "metadata": {},
   "outputs": [],
   "source": [
    "m = cartesian_mesh(50,50);\n",
    "\n",
    "u = Field(m)\n",
    "set_dirichlet_patch!(u, \"left\", 1.0);\n",
    "set_dirichlet_patch!(u, \"bottom\", 0.0);\n",
    "set_neumann_patch!(u, \"right\", 0.0);\n",
    "set_neumann_patch!(u, \"top\", 0.0);"
   ]
  },
  {
   "cell_type": "code",
   "execution_count": 29,
   "metadata": {},
   "outputs": [],
   "source": [
    "Δt = 0.01\n",
    "for t = 0 : Δt : 2\n",
    "    u ← u - Δt * R(u)\n",
    "end"
   ]
  },
  {
   "cell_type": "code",
   "execution_count": 30,
   "metadata": {},
   "outputs": [
    {
     "data": {
      "image/png": "[encoded data removed]",
      "text/plain": [
       "PyPlot.Figure(PyObject <matplotlib.figure.Figure object at 0x7f30ef699908>)"
      ]
     },
     "metadata": {},
     "output_type": "display_data"
    }
   ],
   "source": [
    "contourf(reshape(u.values,50,50)'); \n",
    "colorbar(); axis(\"equal\");"
   ]
  },
  {
   "cell_type": "markdown",
   "metadata": {},
   "source": [
    "## Implicitní metoda\n",
    "\n",
    "Implicitní metoda je výpočetně náročnější (v každém kroku řešíme soustavu rovnic), nicméně často bývá efektivnější neboť umožňuje použití delšího časového kroku. Pokusíme se naprogramovat implicitní metodu pro řešení **lineární** parciální diferenciální rovnice tak, že budeme jednotlivé operátory (derivace) reprezentovat jako trojici matice, neznámá a absolutní člen, tj.\n",
    "$$\n",
    "    L(x) = A x + b.\n",
    "$$"
   ]
  },
  {
   "cell_type": "code",
   "execution_count": 31,
   "metadata": {},
   "outputs": [],
   "source": [
    "type Equation\n",
    "    A\n",
    "    x\n",
    "    b\n",
    "end"
   ]
  },
  {
   "cell_type": "markdown",
   "metadata": {},
   "source": [
    "S rovnicemi umíme provádět běžné operace "
   ]
  },
  {
   "cell_type": "code",
   "execution_count": 32,
   "metadata": {},
   "outputs": [],
   "source": [
    "# Scitani a odcitani rovnic \n",
    "for op ∈ [:+, :-]\n",
    "    @eval begin\n",
    "        function ($op)(e1::Equation, e2::Equation)\n",
    "            assert(e1.x == e2.x)\n",
    "            Equation(($op)(e1.A, e2.A), e1.x, $(op)(e1.b, e2.b))\n",
    "        end\n",
    "    end\n",
    "end\n",
    "\n",
    "# Pricteni/odecteni pole o spravne velikosti \n",
    "for op ∈ [:+, :-]\n",
    "    @eval begin\n",
    "        function ($op)(e1::Equation, f::Array{Float64,1})\n",
    "            assert(size(e1.x) == size(f))\n",
    "            Equation(copy(e1.A), e1.x, $(op)(e1.b, f))\n",
    "        end\n",
    "    end\n",
    "end\n",
    "\n",
    "# Vynasobeni rovnice konstantou\n",
    "*(a::Float64, eq::Equation) = Equation(a*eq.A, eq.x, a*eq.b);"
   ]
  },
  {
   "cell_type": "markdown",
   "metadata": {},
   "source": [
    "Rovnice umíme vyřešit"
   ]
  },
  {
   "cell_type": "code",
   "execution_count": 33,
   "metadata": {},
   "outputs": [],
   "source": [
    "function solve!(eqn::Equation)\n",
    "    x = eqn.A \\ eqn.b\n",
    "    for i in eachindex(eqn.x)\n",
    "        eqn.x[i] = -x[i]\n",
    "    end\n",
    "end;"
   ]
  },
  {
   "cell_type": "markdown",
   "metadata": {},
   "source": [
    "### Operátor $\\partial/\\partial t$\n",
    "\n",
    "Časovou derivaci aproximujeme jako\n",
    "$$\n",
    "    \\frac{\\partial u}{\\partial t} \\approx \\frac{u^{n+1}-u^{n}}{\\Delta t}\n",
    "$$\n",
    "tj. jako \n",
    "$$\n",
    "T u^{n+1} + b\n",
    "$$\n",
    "kde $T=diag({1/\\Delta t})$ a $b_i=- u_i^n/\\Delta t$."
   ]
  },
  {
   "cell_type": "code",
   "execution_count": 34,
   "metadata": {},
   "outputs": [],
   "source": [
    "function ddt(f::Field,Δt)\n",
    "    n = length(f.values)\n",
    "    Equation(speye(n)/Δt, f.values, -f.values/Δt)\n",
    "end;    "
   ]
  },
  {
   "cell_type": "code",
   "execution_count": 35,
   "metadata": {},
   "outputs": [
    {
     "data": {
      "text/plain": [
       "Equation(\n",
       "  [1, 1]  =  10.0\n",
       "  [2, 2]  =  10.0\n",
       "  [3, 3]  =  10.0\n",
       "  [4, 4]  =  10.0\n",
       "  [5, 5]  =  10.0\n",
       "  [6, 6]  =  10.0\n",
       "  [7, 7]  =  10.0\n",
       "  [8, 8]  =  10.0\n",
       "  [9, 9]  =  10.0, [0.0, 0.0, 0.0, 0.0, 0.0, 0.0, 0.0, 0.0, 0.0], [-0.0, -0.0, -0.0, -0.0, -0.0, -0.0, -0.0, -0.0, -0.0])"
      ]
     },
     "execution_count": 35,
     "metadata": {},
     "output_type": "execute_result"
    }
   ],
   "source": [
    "ddt(u3,0.1)"
   ]
  },
  {
   "cell_type": "markdown",
   "metadata": {},
   "source": [
    "Zkusíme vyřešit soustavu ODE $\\dot{u} = 1$ s počáteční podmínkou $u(0)-0$. Uděláme 10 kroků s $\\Delta t=0.1$."
   ]
  },
  {
   "cell_type": "code",
   "execution_count": 36,
   "metadata": {},
   "outputs": [
    {
     "name": "stdout",
     "output_type": "stream",
     "text": [
      "0.1\t0.2\t0.3\t0.39999999999999997\t0.5\t0.6\t0.7\t0.7999999999999999\t0.9\t1.0\t"
     ]
    }
   ],
   "source": [
    "u3.values = zeros(9)\n",
    "for t=1:10\n",
    "    solve!(ddt(u3,0.1)-ones(9))\n",
    "    print(u3.values[1], \"\\t\")\n",
    "end"
   ]
  },
  {
   "cell_type": "markdown",
   "metadata": {},
   "source": [
    "## Operátor $\\nabla\\cdot(\\vec{v}u)$\n",
    "\n",
    "Operátor je reprezentován řídkou maticí a absolutním členem $b$. Matici sestavíme stejným způsobem jako při výpočtu $r_i$ explicitní metodou."
   ]
  },
  {
   "cell_type": "code",
   "execution_count": 37,
   "metadata": {},
   "outputs": [
    {
     "data": {
      "text/plain": [
       "∇ (generic function with 1 method)"
      ]
     },
     "execution_count": 37,
     "metadata": {},
     "output_type": "execute_result"
    }
   ],
   "source": [
    "function ∇(v::Vec2d, u::Field)\n",
    "    A = spzeros(length(u.values),length(u.values))\n",
    "    b = zeros(length(u.values))\n",
    "    \n",
    "    msh = u.mesh\n",
    "    \n",
    "    for f ∈ msh.faces\n",
    "        o = f.owner\n",
    "        n = f.neigh\n",
    "        uo = u.values[o]\n",
    "        un = u.values[n]\n",
    "    \n",
    "        ϕ = dot(v,f.s)\n",
    "        α = max(ϕ, 0.0)\n",
    "        β = min(ϕ, 0.0)\n",
    "        \n",
    "        A[o,o] += α / msh.cells[o].vol\n",
    "        A[o,n] += β / msh.cells[o].vol\n",
    "            \n",
    "        A[n,o] -= α / msh.cells[n].vol\n",
    "        A[n,n] -= β / msh.cells[n].vol\n",
    "    end\n",
    "\n",
    "    for (name,faces) ∈ msh.patches\n",
    "        bc = u.boundaries[name]\n",
    "        for (i,f) ∈ enumerate(bc.faces)\n",
    "            o = f.owner\n",
    "            coeff = boundary_coeffs(bc, i)  # tj. ub = coef[1] + coef[2]*uin\n",
    "            ϕ = dot(v,f.s)\n",
    "            α = max(ϕ, 0.0)\n",
    "            β = min(ϕ, 0.0)\n",
    "\n",
    "            c = boundary_coeffs(bc, i)  # tj. ub = c[1] + c[2]*uin\n",
    "            A[o,o] += (α + β*c[2]) / msh.cells[o].vol\n",
    "            b[o]   += β*c[1] / msh.cells[o].vol\n",
    "        end\n",
    "    end\n",
    "\n",
    "    \n",
    "    return Equation(A, u.values, b)\n",
    "end     "
   ]
  },
  {
   "cell_type": "code",
   "execution_count": 38,
   "metadata": {},
   "outputs": [
    {
     "data": {
      "text/plain": [
       "9×9 Array{Float64,2}:\n",
       "  4.5   0.0   0.0   0.0   0.0   0.0   0.0   0.0  0.0\n",
       " -3.0   4.5   0.0   0.0   0.0   0.0   0.0   0.0  0.0\n",
       "  0.0  -3.0   4.5   0.0   0.0   0.0   0.0   0.0  0.0\n",
       " -1.5   0.0   0.0   4.5   0.0   0.0   0.0   0.0  0.0\n",
       "  0.0  -1.5   0.0  -3.0   4.5   0.0   0.0   0.0  0.0\n",
       "  0.0   0.0  -1.5   0.0  -3.0   4.5   0.0   0.0  0.0\n",
       "  0.0   0.0   0.0  -1.5   0.0   0.0   4.5   0.0  0.0\n",
       "  0.0   0.0   0.0   0.0  -1.5   0.0  -3.0   4.5  0.0\n",
       "  0.0   0.0   0.0   0.0   0.0  -1.5   0.0  -3.0  4.5"
      ]
     },
     "execution_count": 38,
     "metadata": {},
     "output_type": "execute_result"
    }
   ],
   "source": [
    "full(∇(v,u3).A)"
   ]
  },
  {
   "cell_type": "markdown",
   "metadata": {},
   "source": [
    "### Vlastnosti matice $C$ reprezentující operátor $\\nabla\\cdot(\\vec{v}u)$\n",
    "\n",
    "Nechť C je matice získaná reprezentující lineární operátor $\\nabla\\cdot(\\vec{v}u)$ získaná pomocí MKO a schématu **upwind**. Potom:\n",
    "1. C je (neostře) diagonálně dominantní,\n",
    "2. $C_{ii}>0$ a $C_{ij} \\le 0$ pro $i\\ne j$.\n",
    "3. V řádcích odpovídajících vnitřním buňkám sítě (tj. ty, které nesousedí s žádnou hranicí) je $\\sum_j C_{ij}=0$."
   ]
  },
  {
   "cell_type": "markdown",
   "metadata": {},
   "source": [
    "Vyřešíme rovnici konvekce do času $t=0.5s$ pomocí implicitní metody s krokem $\\Delta t=0.05$"
   ]
  },
  {
   "cell_type": "code",
   "execution_count": 39,
   "metadata": {},
   "outputs": [],
   "source": [
    "u.values = zeros(u.values)\n",
    "\n",
    "Δt = 0.05\n",
    "for t=0:Δt:0.5\n",
    "    solve!( ddt(u,Δt) + ∇(v,u) ); \n",
    "end"
   ]
  },
  {
   "cell_type": "code",
   "execution_count": 40,
   "metadata": {},
   "outputs": [
    {
     "data": {
      "image/png": "[encoded data removed]",
      "text/plain": [
       "PyPlot.Figure(PyObject <matplotlib.figure.Figure object at 0x7f30e18d96a0>)"
      ]
     },
     "metadata": {},
     "output_type": "display_data"
    }
   ],
   "source": [
    "contourf(reshape(u.values,50,50)'); \n",
    "colorbar(); axis(\"equal\");"
   ]
  },
  {
   "cell_type": "markdown",
   "metadata": {},
   "source": [
    "### Operátor $\\Delta u$\n",
    "\n",
    "Operátor $\\Delta u$ je rozepsán jako $\\Delta u = \\nabla \\cdot (\\nabla u)$. Diskretizace se provede podobně jako u konvektivního členu. Tok $\\nabla u \\cdot \\vec{S}$ je aproximován centrálně, tj.\n",
    "$$\n",
    "    \\nabla u \\cdot \\vec{S} \\approx ||\\vec{S}|| \\frac{u_n - u_o}{||\\vec{x}_n-\\vec{x}_o||}\n",
    "$$\n",
    "Zde se dopouštíme zjednodušení kdy předpokládáme, že vektor $\\vec{S}$ je rovnoběžný s $\\vec{x}_n - \\vec{x}_o$ (ortogonalita sítě)."
   ]
  },
  {
   "cell_type": "code",
   "execution_count": 41,
   "metadata": {},
   "outputs": [
    {
     "data": {
      "text/plain": [
       "Δ (generic function with 1 method)"
      ]
     },
     "execution_count": 41,
     "metadata": {},
     "output_type": "execute_result"
    }
   ],
   "source": [
    "function Δ(μ::Float64, u::Field)\n",
    "    mesh = u.mesh\n",
    "    \n",
    "    A = spzeros(length(u.values),length(u.values))\n",
    "    b = zeros(length(u.values))\n",
    "\n",
    "    \n",
    "    for f in mesh.faces\n",
    "        o, n = f.owner, f.neigh\n",
    "        co, cn = mesh.cells[o], mesh.cells[n]\n",
    "        \n",
    "        g = μ * norm(f.s) / norm(cn.x-co.x)\n",
    "\n",
    "        A[o,o] -= g / co.vol\n",
    "        A[o,n] += g / co.vol\n",
    "            \n",
    "        A[n,o] += g / cn.vol\n",
    "        A[n,n] -= g / cn.vol\n",
    "    end\n",
    "    \n",
    "    for (name,faces) ∈ mesh.patches\n",
    "        bc = u.boundaries[name]\n",
    "        for (i,f) ∈ enumerate(bc.faces)\n",
    "            o = f.owner\n",
    "            co = mesh.cells[o]\n",
    "    \n",
    "            # normal derivative at boundary dudn = (ub - uin) / delta\n",
    "            # with ub = c[1] + c[2]*uin, i.e.\n",
    "            # dudn = c[1]/delta + (c[2]-1)/delta*uin\n",
    "            \n",
    "            c = boundary_coeffs(bc, i)  # tj. ub = c[1] + c[2]*uin            \n",
    "            δ = dot(f.x - co.x, f.s) / norm(f.s)\n",
    "\n",
    "            A[o,o] += μ * (c[2]-1)/δ * norm(f.s) / co.vol\n",
    "            b[o] += μ * c[1]/δ * norm(f.s) / co.vol\n",
    "        end\n",
    "    end\n",
    "    \n",
    "    Equation(A, u.values, b)\n",
    "end\n"
   ]
  },
  {
   "cell_type": "markdown",
   "metadata": {},
   "source": [
    "### Vlastnosti matice $D$ reprezentující operátor $\\Delta$\n",
    "\n",
    "1. Matice $D$ je symetrická\n",
    "2. Matice $D$ je neostře diagonálně dominantní\n",
    "3. $D_{ii}<0$, $D_{ij} \\ge 0$ pro $i\\ne j\n",
    "4. Matice $-D$ je pozitivně definitní"
   ]
  },
  {
   "cell_type": "code",
   "execution_count": 42,
   "metadata": {},
   "outputs": [
    {
     "data": {
      "text/plain": [
       "9×9 Array{Float64,2}:\n",
       " -54.0    9.0    0.0    9.0    0.0    0.0    0.0    0.0    0.0\n",
       "   9.0  -45.0    9.0    0.0    9.0    0.0    0.0    0.0    0.0\n",
       "   0.0    9.0  -36.0    0.0    0.0    9.0    0.0    0.0    0.0\n",
       "   9.0    0.0    0.0  -45.0    9.0    0.0    9.0    0.0    0.0\n",
       "   0.0    9.0    0.0    9.0  -36.0    9.0    0.0    9.0    0.0\n",
       "   0.0    0.0    9.0    0.0    9.0  -27.0    0.0    0.0    9.0\n",
       "   0.0    0.0    0.0    9.0    0.0    0.0  -36.0    9.0    0.0\n",
       "   0.0    0.0    0.0    0.0    9.0    0.0    9.0  -27.0    9.0\n",
       "   0.0    0.0    0.0    0.0    0.0    9.0    0.0    9.0  -18.0"
      ]
     },
     "execution_count": 42,
     "metadata": {},
     "output_type": "execute_result"
    }
   ],
   "source": [
    "D=full(Δ(1.0,u3).A)"
   ]
  },
  {
   "cell_type": "markdown",
   "metadata": {},
   "source": [
    "## Řešení rovnice konvekce s difuzí pomocí MKO\n",
    "\n",
    "V každém kroku se řeší soustava rovnic s maticí\n",
    "$A = T + C - D$. Tato matice je:\n",
    "1. nesymetrická,\n",
    "2. ODD,\n",
    "3. $A_{ii}>0$, $A_{ij} \\le 0$ pro $i \\ne j$,\n",
    "4. $\\sum_j A_{ij} \\le 1/\\Delta t$."
   ]
  },
  {
   "cell_type": "code",
   "execution_count": 43,
   "metadata": {},
   "outputs": [
    {
     "data": {
      "text/plain": [
       "9×9 Array{Float64,2}:\n",
       " 29.9  -0.9   0.0  -0.9   0.0   0.0   0.0   0.0   0.0\n",
       " -3.9  29.0  -0.9   0.0  -0.9   0.0   0.0   0.0   0.0\n",
       "  0.0  -3.9  28.1   0.0   0.0  -0.9   0.0   0.0   0.0\n",
       " -2.4   0.0   0.0  29.0  -0.9   0.0  -0.9   0.0   0.0\n",
       "  0.0  -2.4   0.0  -3.9  28.1  -0.9   0.0  -0.9   0.0\n",
       "  0.0   0.0  -2.4   0.0  -3.9  27.2   0.0   0.0  -0.9\n",
       "  0.0   0.0   0.0  -2.4   0.0   0.0  28.1  -0.9   0.0\n",
       "  0.0   0.0   0.0   0.0  -2.4   0.0  -3.9  27.2  -0.9\n",
       "  0.0   0.0   0.0   0.0   0.0  -2.4   0.0  -3.9  26.3"
      ]
     },
     "execution_count": 43,
     "metadata": {},
     "output_type": "execute_result"
    }
   ],
   "source": [
    "A = full((ddt(u3,Δt) + ∇(v,u3) - Δ(1.e-1,u3)).A)"
   ]
  },
  {
   "cell_type": "code",
   "execution_count": 44,
   "metadata": {},
   "outputs": [
    {
     "data": {
      "text/plain": [
       "1×9 Array{Float64,2}:\n",
       " 28.1  23.3  23.3  24.8  20.0  20.0  24.8  20.0  20.0"
      ]
     },
     "execution_count": 44,
     "metadata": {},
     "output_type": "execute_result"
    }
   ],
   "source": [
    "sum(A,2)'"
   ]
  },
  {
   "cell_type": "markdown",
   "metadata": {},
   "source": [
    "Řešení dané úlohy pro čas $t=0.5s$ pomocí implicitní metody s krokem $\\Delta t = 0.1s$ s nulovou počáteční podmínkou."
   ]
  },
  {
   "cell_type": "code",
   "execution_count": 45,
   "metadata": {},
   "outputs": [],
   "source": [
    "u.values = zeros(u.values)\n",
    "\n",
    "Δt = 0.1\n",
    "for t=0:Δt:0.5\n",
    "    solve!( ddt(u,Δt) + ∇(v,u) - Δ(1.e-1,u) ); \n",
    "end"
   ]
  },
  {
   "cell_type": "code",
   "execution_count": 46,
   "metadata": {},
   "outputs": [
    {
     "data": {
      "image/png": "[encoded data removed]",
      "text/plain": [
       "PyPlot.Figure(PyObject <matplotlib.figure.Figure object at 0x7f310f7cf518>)"
      ]
     },
     "metadata": {},
     "output_type": "display_data"
    }
   ],
   "source": [
    "contourf(reshape(u.values,50,50)'); \n",
    "colorbar(); axis(\"equal\");"
   ]
  },
  {
   "cell_type": "code",
   "execution_count": null,
   "metadata": {},
   "outputs": [],
   "source": []
  }
 ],
 "metadata": {
  "kernelspec": {
   "display_name": "Julia 0.6.2",
   "language": "julia",
   "name": "julia-0.6"
  },
  "language_info": {
   "file_extension": ".jl",
   "mimetype": "application/julia",
   "name": "julia",
   "version": "0.6.2"
  }
 },
 "nbformat": 4,
 "nbformat_minor": 2
}
