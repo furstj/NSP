{
 "cells": [
  {
   "cell_type": "markdown",
   "metadata": {},
   "source": [
    "# Algoritmus PISO\n",
    "\n",
    "ISSA, R.I. Solution of the implicitly discretised fluid flow equations by operator-splitting. Journal of Computational Physics [online]. 1986, 62(1), 40–65 [vid. 2016-08-24]. ISSN 00219991. Dostupné z: doi:10.1016/0021-9991(86)90099-9\n",
    "\n",
    "Pressure Implicit with Operator Splitting"
   ]
  },
  {
   "cell_type": "markdown",
   "metadata": {},
   "source": [
    "## Odvození pro nestlačitelné proudění\n",
    "\n",
    "\\begin{align*}\n",
    " \\frac{\\rho}{\\tau}(u_i^{n+1}-u_i^n) &= G(u^{n+1})_i - \\nabla_i p^{n+1}, \\\\\n",
    " \\nabla\\cdot u^{n+1} &= 0.\n",
    "\\end{align*}\n",
    "\n",
    "- $u_i$ - $i$-tá složka vektoru rychlosti\n",
    "- $\\nabla_i p$ $i$-tá složka gradientu tlaku\n",
    "\n",
    "\n",
    "### Prediktor\n",
    "\\begin{align*}\n",
    " \\frac{\\rho}{\\tau}(u_i^*-u_i^n) &= G(u^*)_i - \\nabla_i p^n\n",
    "\\end{align*}\n",
    "\n",
    "- $u^*$ nesplňuje rovnici kontinuity\n",
    "\n",
    "### První korektor\n",
    "\\begin{align*}\n",
    " \\frac{\\rho}{\\tau}(u_i^{**}-u_i^n) &= G(u^*)_i - \\nabla_i p^*, \\\\\n",
    " \\nabla u^{**} &= 0.\n",
    "\\end{align*}\n",
    "\n",
    "=>\n",
    "\n",
    "\\begin{align*}\n",
    " -\\frac{\\rho}{\\tau}\\nabla\\cdot u^{n} &= \\nabla \\cdot G(u^*) - \\Delta p^*\n",
    "\\end{align*}\n",
    "\n",
    "\\begin{align*}\n",
    " \\Delta p^* &= \\nabla \\cdot G(u^*) + \\frac{\\rho}{\\tau}\\nabla\\cdot u^{n}\n",
    "\\end{align*}\n",
    "\n",
    "- $u^{**}$ splňuje rovnici kontinuity\n",
    "- v rovnici pro hybnost je ale $G(u^*)$ místo $G(u^{**})$\n",
    "\n",
    "\n",
    "### Druhý korektor\n",
    "\\begin{align*}\n",
    " \\frac{\\rho}{\\tau}(u_i^{***}-u_i^n) &= G(u^{**})_i - \\nabla_i p^{**}, \\\\\n",
    " \\nabla u^{***} &= 0.\n",
    "\\end{align*}\n",
    "\n",
    "=>\n",
    "\n",
    "\\begin{align*}\n",
    " \\Delta p^{**} &= \\nabla \\cdot G(u^{**}) + \\frac{\\rho}{\\tau}\\nabla\\cdot u^{n}\n",
    "\\end{align*}\n",
    "\n",
    "### Třetí korektor, čtvrtý korektor, ...."
   ]
  },
  {
   "cell_type": "markdown",
   "metadata": {},
   "source": [
    "## Analýza přesnosti pro lineární problém \n",
    "\n",
    "- $\\epsilon^k = u^{n+1}-u^{k}$ kde $k=*,**,***,...$, tj. $\\epsilon^* = u^{n+1}-u^*$\n",
    "- $\\eta^l = p^{n+1}-p^{l}$ kde $l=n,*,***,...$, tj. $\\eta^* = p^{n+1}-p^*$\n",
    "- $G$ lineární\n",
    "- $u^n$ splňuje rovnici kontinuity\n",
    "\n",
    "Odečtením diskretizované NS rovnice od prediktoru dostáváme\n",
    "\\begin{align*}\n",
    "  \\frac{\\rho}{\\tau} \\epsilon^*_i &= G(\\epsilon^*)_i -\\nabla_i \\eta^n\n",
    "\\end{align*}\n",
    "\n",
    "ale\n",
    "$$\n",
    "    \\eta^n = p^{n+1} - p^n = O(\\tau)\n",
    "$$\n",
    "a tedy\n",
    "$$\n",
    "    \\epsilon^* = O(\\tau^2).\n",
    "$$\n",
    "\n",
    "Z prvního korektoru\n",
    "$$\n",
    "    \\Delta \\eta^* = \\nabla \\cdot G(\\epsilon^*)\n",
    "$$\n",
    "a tedy $\\eta^* = O(\\tau^2)$ a $\\epsilon^{**} = O(\\tau^3)$\n",
    "\n",
    "Z druhého a korektoru analogicky $\\eta^{**} = O(\\tau^3)$ a $\\epsilon^{***} = O(\\tau^4)$ ...\n"
   ]
  },
  {
   "cell_type": "code",
   "execution_count": null,
   "metadata": {
    "collapsed": true
   },
   "outputs": [],
   "source": []
  }
 ],
 "metadata": {
  "kernelspec": {
   "display_name": "Julia 0.5.0",
   "language": "julia",
   "name": "julia-0.5"
  },
  "language_info": {
   "file_extension": ".jl",
   "mimetype": "application/julia",
   "name": "julia",
   "version": "0.5.1"
  }
 },
 "nbformat": 4,
 "nbformat_minor": 2
}
