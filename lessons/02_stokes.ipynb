{
 "cells": [
  {
   "cell_type": "markdown",
   "metadata": {},
   "source": [
    "# Numerické řešení Stokesova problému pomocí MKO"
   ]
  },
  {
   "cell_type": "code",
   "execution_count": 1,
   "metadata": {
    "collapsed": false
   },
   "outputs": [],
   "source": [
    "using PyPlot\n",
    "using StaticArrays\n",
    "import Base.-, Base.+, Base.*\n",
    "\n",
    "typealias Vec2d SVector{2,Float64};"
   ]
  },
  {
   "cell_type": "code",
   "execution_count": 2,
   "metadata": {
    "collapsed": false
   },
   "outputs": [],
   "source": [
    "type CartesianMesh\n",
    "    nx \n",
    "    ny \n",
    "    Δx\n",
    "    Δy\n",
    "end\n",
    "\n",
    "CartesianMesh(nx, ny) = CartesianMesh(nx, ny, 1.0/nx, 1.0/ny);"
   ]
  },
  {
   "cell_type": "code",
   "execution_count": 3,
   "metadata": {
    "collapsed": true
   },
   "outputs": [],
   "source": [
    "immutable Cell\n",
    "    id  :: Int\n",
    "    x   :: Vec2d\n",
    "    vol :: Float64\n",
    "end"
   ]
  },
  {
   "cell_type": "code",
   "execution_count": 4,
   "metadata": {
    "collapsed": false
   },
   "outputs": [],
   "source": [
    "immutable Face\n",
    "    x     :: Vec2d\n",
    "    s     :: Vec2d\n",
    "    owner :: Int\n",
    "    neigh :: Int\n",
    "end;"
   ]
  },
  {
   "cell_type": "code",
   "execution_count": 5,
   "metadata": {
    "collapsed": false
   },
   "outputs": [],
   "source": [
    "function cell(msh::CartesianMesh, id) \n",
    "    i,j = rem(id-1, msh.nx)+1, div(id-1, msh.nx)+1\n",
    "    return Cell(id, Vec2d( (i-1/2)*msh.Δx, (j-1/2)*msh.Δy ), msh.Δx*msh.Δy )\n",
    "end;\n",
    "\n",
    "cells(msh::CartesianMesh) = @task begin\n",
    "    id = 1\n",
    "    vol = msh.Δx * msh.Δy\n",
    "    for y in range(msh.Δy/2, msh.Δy, msh.ny)\n",
    "        for x in range(msh.Δx/2, msh.Δx, msh.nx)\n",
    "            produce( Cell(id, Vec2d(x,y), vol) )\n",
    "            id += 1\n",
    "        end\n",
    "    end\n",
    "end;"
   ]
  },
  {
   "cell_type": "code",
   "execution_count": 6,
   "metadata": {
    "collapsed": false
   },
   "outputs": [
    {
     "name": "stdout",
     "output_type": "stream",
     "text": [
      "Cell(1,[0.25,0.25],0.25)\n",
      "Cell(2,[0.75,0.25],0.25)\n",
      "Cell(3,[0.25,0.75],0.25)\n",
      "Cell(4,[0.75,0.75],0.25)\n",
      "\n",
      "Cell(3,[0.25,0.75],0.25)\n"
     ]
    }
   ],
   "source": [
    "m2 = CartesianMesh(2,2)\n",
    "\n",
    "for c in cells(m2)\n",
    "    println(c)\n",
    "end\n",
    "println()\n",
    "println(cell(m2,3))"
   ]
  },
  {
   "cell_type": "code",
   "execution_count": 7,
   "metadata": {
    "collapsed": false
   },
   "outputs": [],
   "source": [
    "internalfaces(msh::CartesianMesh) = @task begin\n",
    "    id(i,j) = i + (j-1)*msh.nx\n",
    "    Δx, Δy = msh.Δx, msh.Δy\n",
    "    \n",
    "    s = Vec2d(Δy, 0.0)\n",
    "    for j=1:msh.ny\n",
    "        for i=1:msh.nx-1\n",
    "            owner, neigh = id(i,j), id(i+1,j)\n",
    "            x = Vec2d( i*Δx, (j-1/2)*Δy )\n",
    "            produce( Face(x, s, owner, neigh) )\n",
    "        end\n",
    "    end\n",
    "    \n",
    "    s = Vec2d(0.0, Δx)\n",
    "    for j=1:msh.ny-1\n",
    "        for i=1:msh.nx\n",
    "            owner, neigh = id(i,j), id(i,j+1)\n",
    "            x = Vec2d( (i-1/2)*Δx, j*Δy )\n",
    "            produce( Face(x, s, owner, neigh) )\n",
    "        end\n",
    "    end\n",
    "\n",
    "end;"
   ]
  },
  {
   "cell_type": "code",
   "execution_count": 8,
   "metadata": {
    "collapsed": false
   },
   "outputs": [
    {
     "name": "stdout",
     "output_type": "stream",
     "text": [
      "Face([0.5,0.25],[0.5,0.0],1,2)\n",
      "Face([0.5,0.75],[0.5,0.0],3,4)\n",
      "Face([0.25,0.5],[0.0,0.5],1,3)\n",
      "Face([0.75,0.5],[0.0,0.5],2,4)\n"
     ]
    }
   ],
   "source": [
    "for f in internalfaces(m2)\n",
    "    println(f)\n",
    "end"
   ]
  },
  {
   "cell_type": "code",
   "execution_count": 9,
   "metadata": {
    "collapsed": false
   },
   "outputs": [],
   "source": [
    "immutable Patch\n",
    "    name\n",
    "    faces\n",
    "end"
   ]
  },
  {
   "cell_type": "code",
   "execution_count": 10,
   "metadata": {
    "collapsed": false
   },
   "outputs": [
    {
     "data": {
      "text/plain": [
       "boundaryfaces (generic function with 1 method)"
      ]
     },
     "execution_count": 10,
     "metadata": {},
     "output_type": "execute_result"
    }
   ],
   "source": [
    "function patches(msh::CartesianMesh) \n",
    "    id(i,j) = i + (j-1)*msh.nx\n",
    "    Δx, Δy = msh.Δx, msh.Δy\n",
    "    \n",
    "    leftfaces() = @task begin\n",
    "        s = Vec2d(-Δy, 0.0)\n",
    "        for j=1:msh.ny\n",
    "            produce( Face(Vec2d(0.0, (j-1/2)*Δy), s, id(1,j), 0) )\n",
    "        end\n",
    "    end\n",
    "\n",
    "    rightfaces() = @task begin\n",
    "        s = Vec2d(Δy, 0.0)\n",
    "        for j=1:msh.ny\n",
    "            produce( Face(Vec2d(msh.nx*Δx, (j-1/2)*Δy), s, id(msh.nx,j), 0) )\n",
    "        end\n",
    "    end\n",
    "\n",
    "    bottomfaces() = @task begin\n",
    "        s = Vec2d(0.0,-Δx)\n",
    "        for i=1:msh.nx\n",
    "            produce( Face(Vec2d((i-1/2)*Δx, 0.0), s, id(i,1), 0) )\n",
    "        end\n",
    "    end\n",
    "\n",
    "    topfaces() = @task begin\n",
    "        s = Vec2d(0.0,Δx)\n",
    "        for i=1:msh.nx\n",
    "            produce( Face(Vec2d((i-1/2)*Δx, msh.ny*Δy), s, id(i,msh.ny), 0) )\n",
    "        end\n",
    "    end\n",
    "\n",
    "    return [ Patch(\"left\", leftfaces), Patch(\"right\", rightfaces), \n",
    "        Patch(\"bottom\", bottomfaces), Patch(\"top\", topfaces) ]\n",
    "end;\n",
    "\n",
    "name(p::Patch) = p.name\n",
    "boundaryfaces(p::Patch) = p.faces()"
   ]
  },
  {
   "cell_type": "code",
   "execution_count": 11,
   "metadata": {
    "collapsed": false
   },
   "outputs": [
    {
     "name": "stdout",
     "output_type": "stream",
     "text": [
      "PATCH left\n",
      "Face([0.0,0.25],[-0.5,0.0],1,0)\n",
      "Face([0.0,0.75],[-0.5,0.0],3,0)\n",
      "\n",
      "PATCH right\n",
      "Face([1.0,0.25],[0.5,0.0],2,0)\n",
      "Face([1.0,0.75],[0.5,0.0],4,0)\n",
      "\n",
      "PATCH bottom\n",
      "Face([0.25,0.0],[0.0,-0.5],1,0)\n",
      "Face([0.75,0.0],[0.0,-0.5],2,0)\n",
      "\n",
      "PATCH top\n",
      "Face([0.25,1.0],[0.0,0.5],3,0)\n",
      "Face([0.75,1.0],[0.0,0.5],4,0)\n",
      "\n"
     ]
    }
   ],
   "source": [
    "for p in patches(m2)\n",
    "    println(\"PATCH \", p.name)\n",
    "    for f in boundaryfaces(p)\n",
    "        println(f)\n",
    "    end\n",
    "    println()\n",
    "end"
   ]
  },
  {
   "cell_type": "code",
   "execution_count": 12,
   "metadata": {
    "collapsed": false
   },
   "outputs": [],
   "source": [
    "type Equation\n",
    "    A\n",
    "    x\n",
    "    b\n",
    "end\n",
    "\n",
    "-(eq::Equation) = Equation(-eq.A, eq.x, -eq.b);\n",
    "-(eq::Equation, b::Array{Float64,1}) = Equation(eq.A, eq.x, eq.b + b);\n",
    "+(eq::Equation, b::Array{Float64,1}) = Equation(eq.A, eq.x, eq.b - b);\n",
    "*(a::Float64, eq::Equation) = Equation(a*eq.A, eq.x, a*eq.b);"
   ]
  },
  {
   "cell_type": "code",
   "execution_count": 13,
   "metadata": {
    "collapsed": false
   },
   "outputs": [],
   "source": [
    "function relax!(eqn::Equation, α)\n",
    "    D = diag(eqn.A)\n",
    "    for i=1:length(D) \n",
    "        eqn.A[i,i] /= α\n",
    "    end\n",
    "    eqn.b += (1-α)/α * D .* eqn.x\n",
    "end;"
   ]
  },
  {
   "cell_type": "code",
   "execution_count": 14,
   "metadata": {
    "collapsed": false
   },
   "outputs": [],
   "source": [
    "function solve!(eqn::Equation)\n",
    "    x = eqn.A \\ eqn.b\n",
    "    for i in eachindex(eqn.x)\n",
    "        eqn.x[i] = x[i]\n",
    "    end\n",
    "end;"
   ]
  },
  {
   "cell_type": "code",
   "execution_count": 15,
   "metadata": {
    "collapsed": false
   },
   "outputs": [],
   "source": [
    "type Field\n",
    "    value\n",
    "    mesh\n",
    "    boundarycondition\n",
    "end\n",
    "\n",
    "Field(m :: CartesianMesh, bc) = Field( zeros(m.nx*m.ny), m, bc);\n",
    "\n",
    "asmatrix(f::Field) = reshape(f.value, (f.mesh.nx,f.mesh.ny) );"
   ]
  },
  {
   "cell_type": "code",
   "execution_count": 16,
   "metadata": {
    "collapsed": false
   },
   "outputs": [],
   "source": [
    "type Dirichlet\n",
    "    value\n",
    "end\n",
    "\n",
    "type Neumann\n",
    "    value\n",
    "end\n",
    "\n",
    "bndvalue(uin, Δ, bc::Dirichlet) = bc.value;\n",
    "bndvalue(uin, Δ, bc::Neumann) = uin + Δ * bc.value;\n",
    "\n",
    "ddncoeffs(Δ, bc::Dirichlet) = (-1/Δ, bc.value/Δ);\n",
    "ddncoeffs(Δ, bc::Neumann) = (0, bc.value);\n"
   ]
  },
  {
   "cell_type": "code",
   "execution_count": 17,
   "metadata": {
    "collapsed": false
   },
   "outputs": [
    {
     "data": {
      "text/plain": [
       "CartesianMesh(3,3,0.3333333333333333,0.3333333333333333)"
      ]
     },
     "execution_count": 17,
     "metadata": {},
     "output_type": "execute_result"
    }
   ],
   "source": [
    "msh3 = CartesianMesh(3,3)"
   ]
  },
  {
   "cell_type": "code",
   "execution_count": 18,
   "metadata": {
    "collapsed": false
   },
   "outputs": [
    {
     "data": {
      "text/plain": [
       "createfields (generic function with 1 method)"
      ]
     },
     "execution_count": 18,
     "metadata": {},
     "output_type": "execute_result"
    }
   ],
   "source": [
    "function createfields(msh)\n",
    "    u = Field(msh, Dict( \"top\"=>Dirichlet(1), \"left\"=>Dirichlet(0), \"right\"=>Dirichlet(0), \"bottom\"=>Dirichlet(0)) );\n",
    "    v = Field(msh, Dict( \"top\"=>Dirichlet(0), \"left\"=>Dirichlet(0), \"right\"=>Dirichlet(0), \"bottom\"=>Dirichlet(0)) );\n",
    "    p = Field(msh, Dict( \"top\"=>Neumann(0), \"left\"=>Neumann(0), \"right\"=>Neumann(0), \"bottom\"=>Neumann(0)) );\n",
    "    return (u,v,p)\n",
    "end"
   ]
  },
  {
   "cell_type": "code",
   "execution_count": 19,
   "metadata": {
    "collapsed": false
   },
   "outputs": [
    {
     "data": {
      "text/plain": [
       "laplace (generic function with 2 methods)"
      ]
     },
     "execution_count": 19,
     "metadata": {},
     "output_type": "execute_result"
    }
   ],
   "source": [
    "function laplace(ν, u)\n",
    "    mesh = u.mesh\n",
    "    dims = (mesh.nx, mesh.ny)\n",
    "    n  = prod(dims)\n",
    "    A = spzeros(n,n)\n",
    "    b = zeros(n)\n",
    "    \n",
    "    for f in internalfaces(mesh)\n",
    "        owner, neigh = f.owner, f.neigh\n",
    "        \n",
    "        νf = (ν[owner]+ν[neigh]) / 2.0\n",
    "        \n",
    "        co = cell(mesh, owner)\n",
    "        cn = cell(mesh, neigh)\n",
    "        \n",
    "        g = νf * norm(f.s) / norm(cn.x-co.x)\n",
    "\n",
    "        A[owner, owner] -= g / co.vol\n",
    "        A[owner, neigh] += g / co.vol\n",
    "            \n",
    "        A[neigh, owner] += g / cn.vol\n",
    "        A[neigh, neigh] -= g / cn.vol\n",
    "    end\n",
    "    \n",
    "    for patch in patches(mesh)\n",
    "\n",
    "        bc = u.boundarycondition[ name(patch) ]\n",
    "        for f in boundaryfaces(patch)\n",
    "            owner = f.owner\n",
    "            co = cell(mesh, owner)\n",
    "            \n",
    "            Δ = norm(f.x - co.x)\n",
    "            νf = ν[owner]\n",
    "            \n",
    "            a,val = ddncoeffs(Δ, bc)\n",
    "            A[owner,owner] += νf * a * norm(f.s) / co.vol\n",
    "            b[owner] -= νf * val * norm(f.s) / co.vol\n",
    "        end\n",
    "    end\n",
    "    \n",
    "    Equation(A, u.value, b)\n",
    "end\n",
    "\n",
    "laplace(u) = laplace(ones(u.value), u)"
   ]
  },
  {
   "cell_type": "code",
   "execution_count": 20,
   "metadata": {
    "collapsed": false
   },
   "outputs": [],
   "source": [
    "function ddxi(p, dir)\n",
    "    mesh = p.mesh\n",
    "    dp = zeros(p.value)\n",
    "    \n",
    "    for f in internalfaces(mesh)\n",
    "        owner = f.owner\n",
    "        neigh = f.neigh\n",
    "        \n",
    "        pf = (p.value[owner] + p.value[neigh]) / 2.0\n",
    "        \n",
    "        dp[owner] += pf * f.s[dir]\n",
    "        dp[neigh] -= pf * f.s[dir]\n",
    "    end\n",
    "\n",
    "    for patch in patches(mesh)\n",
    "        bc = p.boundarycondition[ name(patch) ]\n",
    "        for f in boundaryfaces(patch)\n",
    "            owner = f.owner\n",
    "            co = cell(mesh, owner)\n",
    "            Δ = norm(f.x - co.x)\n",
    "            pf = bndvalue(p.value[owner], Δ, bc)\n",
    "            dp[owner] += pf * f.s[dir]\n",
    "        end\n",
    "    end\n",
    "    \n",
    "    for c in cells(mesh)\n",
    "        dp[c.id] /= c.vol\n",
    "    end\n",
    "    \n",
    "    return dp\n",
    "end;\n",
    "\n",
    "ddx(p) = ddxi(p,1);\n",
    "ddy(p) = ddxi(p,2);"
   ]
  },
  {
   "cell_type": "code",
   "execution_count": 21,
   "metadata": {
    "collapsed": false
   },
   "outputs": [],
   "source": [
    "uu,_,_ = createfields(msh3);"
   ]
  },
  {
   "cell_type": "code",
   "execution_count": 22,
   "metadata": {
    "collapsed": false
   },
   "outputs": [
    {
     "data": {
      "text/plain": [
       "9×9 Array{Float64,2}:\n",
       " -54.0    9.0    0.0    9.0    0.0    0.0    0.0    0.0    0.0\n",
       "   9.0  -45.0    9.0    0.0    9.0    0.0    0.0    0.0    0.0\n",
       "   0.0    9.0  -54.0    0.0    0.0    9.0    0.0    0.0    0.0\n",
       "   9.0    0.0    0.0  -45.0    9.0    0.0    9.0    0.0    0.0\n",
       "   0.0    9.0    0.0    9.0  -36.0    9.0    0.0    9.0    0.0\n",
       "   0.0    0.0    9.0    0.0    9.0  -45.0    0.0    0.0    9.0\n",
       "   0.0    0.0    0.0    9.0    0.0    0.0  -54.0    9.0    0.0\n",
       "   0.0    0.0    0.0    0.0    9.0    0.0    9.0  -45.0    9.0\n",
       "   0.0    0.0    0.0    0.0    0.0    9.0    0.0    9.0  -54.0"
      ]
     },
     "execution_count": 22,
     "metadata": {},
     "output_type": "execute_result"
    }
   ],
   "source": [
    "uuEqn = laplace(uu)\n",
    "full(uuEqn.A)"
   ]
  },
  {
   "cell_type": "code",
   "execution_count": 23,
   "metadata": {
    "collapsed": false
   },
   "outputs": [
    {
     "data": {
      "text/plain": [
       "9-element Array{Float64,1}:\n",
       " 0.0\n",
       " 0.0\n",
       " 0.0\n",
       " 0.0\n",
       " 0.0\n",
       " 0.0\n",
       " 0.0\n",
       " 0.0\n",
       " 0.0"
      ]
     },
     "execution_count": 23,
     "metadata": {},
     "output_type": "execute_result"
    }
   ],
   "source": [
    "uuEqn.x"
   ]
  },
  {
   "cell_type": "code",
   "execution_count": 24,
   "metadata": {
    "collapsed": false
   },
   "outputs": [
    {
     "data": {
      "text/plain": [
       "9-element Array{Float64,1}:\n",
       "   0.0\n",
       "   0.0\n",
       "   0.0\n",
       "   0.0\n",
       "   0.0\n",
       "   0.0\n",
       " -18.0\n",
       " -18.0\n",
       " -18.0"
      ]
     },
     "execution_count": 24,
     "metadata": {},
     "output_type": "execute_result"
    }
   ],
   "source": [
    "uuEqn.b"
   ]
  },
  {
   "cell_type": "code",
   "execution_count": 25,
   "metadata": {
    "collapsed": false
   },
   "outputs": [
    {
     "data": {
      "text/plain": [
       "9-element Array{Float64,1}:\n",
       " 0.0357143\n",
       " 0.0642857\n",
       " 0.0357143\n",
       " 0.15     \n",
       " 0.25     \n",
       " 0.15     \n",
       " 0.464286 \n",
       " 0.635714 \n",
       " 0.464286 "
      ]
     },
     "execution_count": 25,
     "metadata": {},
     "output_type": "execute_result"
    }
   ],
   "source": [
    "solve!(uuEqn);\n",
    "uu.value"
   ]
  },
  {
   "cell_type": "markdown",
   "metadata": {},
   "source": [
    "## Testovaci uloha\n",
    "\n",
    "Reseni Poissonovy rovnice na ctverci"
   ]
  },
  {
   "cell_type": "code",
   "execution_count": 26,
   "metadata": {
    "collapsed": false
   },
   "outputs": [],
   "source": [
    "msh100 = CartesianMesh(100,100);\n",
    "\n",
    "u100,_,_ = createfields(msh100);\n",
    "\n",
    "solve!( laplace(u100) - ones(100*100));"
   ]
  },
  {
   "cell_type": "code",
   "execution_count": 27,
   "metadata": {
    "collapsed": false
   },
   "outputs": [
    {
     "data": {
      "image/png": "[encoded data removed]",
      "text/plain": [
       "PyPlot.Figure(PyObject <matplotlib.figure.Figure object at 0x7f8b3ad7b9b0>)"
      ]
     },
     "metadata": {},
     "output_type": "display_data"
    }
   ],
   "source": [
    "contourf(asmatrix(u100)'); colorbar();"
   ]
  },
  {
   "cell_type": "code",
   "execution_count": 28,
   "metadata": {
    "collapsed": false
   },
   "outputs": [
    {
     "data": {
      "text/plain": [
       "(-0.0023046046662605706,0.988234566832359)"
      ]
     },
     "execution_count": 28,
     "metadata": {},
     "output_type": "execute_result"
    }
   ],
   "source": [
    "minimum(u100.value), maximum(u100.value)"
   ]
  },
  {
   "cell_type": "markdown",
   "metadata": {},
   "source": [
    "## Algoritmus SIMPLE pro Stokesuv problem\n",
    "\n",
    "Na jednotkovém čtevrci [0,1]x[0,1] řešme soustavu rovnic\n",
    "\\begin{align*}\n",
    "- \\Delta U &= - \\nabla p, \\\\\n",
    "\\nabla U &= 0.\n",
    "\\end{align*}\n",
    "\n",
    "s okrajovými podmínkami\n",
    "$$\n",
    "    U(x,y) = \\left\\{\n",
    "    \\begin{array}{ll}\n",
    "        [0,0] & \\text{pro } x \\in [0,1] \\land y=1,\\\\\n",
    "        [0,0] & \\text{pro } x=0 \\lor x=1 \\lor y=0.\n",
    "    \\end{array}\n",
    "    \\right.\n",
    "$$\n",
    "a\n",
    "$$\n",
    "    \\frac{\\partial p}{\\partial n} = 0 \\,\\text{pro } x=0 \\lor x=1 \\lor y=0 \\lor y=1.\n",
    "$$\n",
    "\n",
    "\n",
    "Diskretizace:\n",
    "$$\n",
    "    a_C U_C = \\sum_{f} a_F U_F + Q_C - \\nabla p_C = H(U) - \\nabla p_C,\n",
    "$$\n",
    "\n",
    "a tedy\n",
    "\n",
    "$$\n",
    "    U_C = \\frac{1}{a_C} H(U) - \\frac{1}{a_C} \\nabla p_C.\n",
    "$$\n",
    "\n",
    "Definujme\n",
    "$$\n",
    "    \\hat{U}_C = \\frac{1}{a_C} H(U).\n",
    "$$\n",
    "\n",
    "Rovnice kontinuity\n",
    "\n",
    "$$\n",
    "    0 = \\nabla U_C = \\nabla(\\hat{U}_C - \\frac{1}{a_C} \\nabla p_C)\n",
    "$$\n",
    "\n",
    "a tedy\n",
    "\n",
    "$$\n",
    "    \\nabla(\\frac{1}{a_C} \\nabla p_C) = \\nabla(\\hat{U}_C).\n",
    "$$"
   ]
  },
  {
   "cell_type": "code",
   "execution_count": 29,
   "metadata": {
    "collapsed": false
   },
   "outputs": [
    {
     "data": {
      "text/plain": [
       "0.01"
      ]
     },
     "execution_count": 29,
     "metadata": {},
     "output_type": "execute_result"
    }
   ],
   "source": [
    "ν = 0.01"
   ]
  },
  {
   "cell_type": "code",
   "execution_count": 30,
   "metadata": {
    "collapsed": false
   },
   "outputs": [],
   "source": [
    "msh10 = CartesianMesh(10,10);\n",
    "u,v,p = createfields(msh10);"
   ]
  },
  {
   "cell_type": "code",
   "execution_count": 31,
   "metadata": {
    "collapsed": false
   },
   "outputs": [],
   "source": [
    "uEqn = (-ν) * laplace(u);\n",
    "vEqn = (-ν) * laplace(v);"
   ]
  },
  {
   "cell_type": "code",
   "execution_count": 32,
   "metadata": {
    "collapsed": false
   },
   "outputs": [],
   "source": [
    "solve!(uEqn + ddx(p));\n",
    "solve!(vEqn + ddy(p));"
   ]
  },
  {
   "cell_type": "code",
   "execution_count": 33,
   "metadata": {
    "collapsed": false
   },
   "outputs": [],
   "source": [
    "Ac(eq::Equation) = diag(eq.A);\n",
    "H(eq::Equation) =  eq.b + Ac(eq) .* eq.x -  eq.A * eq.x;"
   ]
  },
  {
   "cell_type": "code",
   "execution_count": 34,
   "metadata": {
    "collapsed": false
   },
   "outputs": [],
   "source": [
    "ra = 1 ./ Ac(uEqn);"
   ]
  },
  {
   "cell_type": "code",
   "execution_count": 35,
   "metadata": {
    "collapsed": false
   },
   "outputs": [],
   "source": [
    "uBar = Field(ra .* H(uEqn), u.mesh, u.boundarycondition);\n",
    "vBar = Field(ra .* H(vEqn), v.mesh, v.boundarycondition);"
   ]
  },
  {
   "cell_type": "code",
   "execution_count": 36,
   "metadata": {
    "collapsed": false
   },
   "outputs": [
    {
     "data": {
      "text/plain": [
       "Field([0.00277159,0.0080243,0.0124511,0.0156316,0.017289,0.017289,0.0156316,0.0124511,0.0080243,0.00277159  …  0.497228,0.764745,0.851397,0.884319,0.896392,0.896392,0.884319,0.851397,0.764745,0.497228],CartesianMesh(10,10,0.1,0.1),Dict(\"left\"=>Dirichlet(0),\"bottom\"=>Dirichlet(0),\"right\"=>Dirichlet(0),\"top\"=>Dirichlet(1)))"
      ]
     },
     "execution_count": 36,
     "metadata": {},
     "output_type": "execute_result"
    }
   ],
   "source": [
    "uBar"
   ]
  },
  {
   "cell_type": "code",
   "execution_count": 37,
   "metadata": {
    "collapsed": false
   },
   "outputs": [
    {
     "data": {
      "text/plain": [
       "100-element Array{Float64,1}:\n",
       " 0.00277159\n",
       " 0.0080243 \n",
       " 0.0124511 \n",
       " 0.0156316 \n",
       " 0.017289  \n",
       " 0.017289  \n",
       " 0.0156316 \n",
       " 0.0124511 \n",
       " 0.0080243 \n",
       " 0.00277159\n",
       " 0.00860526\n",
       " 0.0248988 \n",
       " 0.0385996 \n",
       " ⋮         \n",
       " 0.475101  \n",
       " 0.218625  \n",
       " 0.497228  \n",
       " 0.764745  \n",
       " 0.851397  \n",
       " 0.884319  \n",
       " 0.896392  \n",
       " 0.896392  \n",
       " 0.884319  \n",
       " 0.851397  \n",
       " 0.764745  \n",
       " 0.497228  "
      ]
     },
     "execution_count": 37,
     "metadata": {},
     "output_type": "execute_result"
    }
   ],
   "source": [
    "ra .* H(uEqn)"
   ]
  },
  {
   "cell_type": "code",
   "execution_count": 38,
   "metadata": {
    "collapsed": false
   },
   "outputs": [],
   "source": [
    "pEqn = laplace(ra, p) - (ddx(uBar) + ddy(vBar));\n",
    "pEqn.A[1,1] += 1;"
   ]
  },
  {
   "cell_type": "code",
   "execution_count": 39,
   "metadata": {
    "collapsed": false
   },
   "outputs": [],
   "source": [
    "solve!(pEqn)"
   ]
  },
  {
   "cell_type": "code",
   "execution_count": 40,
   "metadata": {
    "collapsed": false
   },
   "outputs": [
    {
     "data": {
      "image/png": "[encoded data removed]",
      "text/plain": [
       "PyPlot.Figure(PyObject <matplotlib.figure.Figure object at 0x7f8b231f5da0>)"
      ]
     },
     "metadata": {},
     "output_type": "display_data"
    }
   ],
   "source": [
    "contourf(asmatrix(p)'); colorbar();"
   ]
  },
  {
   "cell_type": "code",
   "execution_count": 41,
   "metadata": {
    "collapsed": true
   },
   "outputs": [],
   "source": [
    "u.value = uBar.value - ra .* ddx(p);\n",
    "v.value = vBar.value - ra .* ddy(p);"
   ]
  },
  {
   "cell_type": "code",
   "execution_count": 42,
   "metadata": {
    "collapsed": false
   },
   "outputs": [
    {
     "data": {
      "image/png": "[encoded data removed]",
      "text/plain": [
       "PyPlot.Figure(PyObject <matplotlib.figure.Figure object at 0x7f8b230ad128>)"
      ]
     },
     "metadata": {},
     "output_type": "display_data"
    }
   ],
   "source": [
    "quiver(asmatrix(u)', asmatrix(v)');"
   ]
  },
  {
   "cell_type": "code",
   "execution_count": 43,
   "metadata": {
    "collapsed": false
   },
   "outputs": [
    {
     "data": {
      "text/plain": [
       "10×10 Array{Float64,2}:\n",
       "  0.00262511  -0.0141141    -0.0038247    …  -0.00989964   1.44096    \n",
       "  0.030829     0.0109485     0.0122017       -0.475592    -0.698952   \n",
       "  0.0253652    0.0150509     0.0205853       -0.0023772    0.000958589\n",
       "  0.00942416  -0.0009386    -0.000620932     -0.0059441   -0.0297914  \n",
       "  0.00306911  -0.000522103  -0.000619134      0.00358826  -0.00908613 \n",
       " -0.00306911   0.000522103   0.000619134  …  -0.00358826   0.00908613 \n",
       " -0.00942416   0.0009386     0.000620932      0.0059441    0.0297914  \n",
       " -0.0253652   -0.0150509    -0.0205853        0.0023772   -0.000958589\n",
       " -0.030829    -0.0109485    -0.0122017        0.475592     0.698952   \n",
       " -0.00262511   0.0141141     0.0038247        0.00989964  -1.44096    "
      ]
     },
     "execution_count": 43,
     "metadata": {},
     "output_type": "execute_result"
    }
   ],
   "source": [
    "reshape(ddx(u) + ddy(v), (u.mesh.nx,u.mesh.ny))"
   ]
  },
  {
   "cell_type": "code",
   "execution_count": 44,
   "metadata": {
    "collapsed": false
   },
   "outputs": [
    {
     "name": "stdout",
     "output_type": "stream",
     "text": [
      "0\t0.39543866501724556\t0.0031493929847149138\t0.00029631095294618484\n",
      "5\t0.08056242457411686\t0.0006385342356502685\t8.52329488167183e-5\n",
      "10\t0.017451214787951218\t0.0002449137137054503\t0.00011008027375126936\n",
      "15\t0.016278778503932115\t0.00011883936949158114\t0.00010053694538326882\n",
      "20\t0.00778991484907992\t7.781650644726385e-5\t7.240647622789544e-5\n",
      "25\t0.0026636364098652616\t5.659210803793785e-5\t5.0936061433148575e-5\n",
      "30\t0.0006477468568560974\t4.199417033631587e-5\t3.72834347805185e-5\n",
      "35\t0.0001240300797819526\t3.137569482157285e-5\t2.829685545761494e-5\n",
      "40\t6.282254802265474e-5\t2.3647093310448448e-5\t2.187073529481791e-5\n",
      "45\t6.019827881721217e-5\t1.800959992166534e-5\t1.70243086334454e-5\n",
      "50\t6.034119432166751e-5\t1.3845798251672355e-5\t1.3294768627149504e-5\n"
     ]
    }
   ],
   "source": [
    "msh25 = CartesianMesh(25,25)\n",
    "\n",
    "u,v,p = createfields(msh25)\n",
    "\n",
    "α = 0.7\n",
    "β = 0.3\n",
    "ν = 1.0\n",
    "\n",
    "for iter = 0:50\n",
    "    \n",
    "    uOld, vOld, pOld = copy(u.value), copy(v.value), copy(p.value)\n",
    "    \n",
    "    uEqn = (-ν)*laplace(u)\n",
    "    vEqn = (-ν)*laplace(v)\n",
    "\n",
    "    relax!(uEqn, α)\n",
    "    relax!(vEqn, α)\n",
    "    \n",
    "    solve!(uEqn + ddx(p))\n",
    "    solve!(vEqn + ddy(p))\n",
    "    \n",
    "    ra = 1 ./ Ac(uEqn);\n",
    "    \n",
    "    uBar = Field(ra .* H(uEqn), u.mesh, u.boundarycondition);\n",
    "    vBar = Field(ra .* H(vEqn), v.mesh, v.boundarycondition);\n",
    "    \n",
    "    pEqn = laplace(ra, p) - (ddx(uBar) + ddy(vBar));\n",
    "    pEqn.A[1,1] -= 1/(p.mesh.Δx*p.mesh.Δy)\n",
    "    #pEqn.A[1,1] *= 2\n",
    "    solve!(pEqn)\n",
    "    \n",
    "    p.value = (1-β) * pOld + β * p.value\n",
    "    u.value = uBar.value - ra .* ddx(p)\n",
    "    v.value = vBar.value - ra .* ddy(p)\n",
    "    \n",
    "    if rem(iter,5)==0\n",
    "        nxny = u.mesh.nx*u.mesh.ny\n",
    "        pRez = norm(pOld - p.value) / nxny\n",
    "        uRez = norm(uOld - u.value) / nxny\n",
    "        vRez = norm(vOld - v.value) / nxny\n",
    "        println(iter, \"\\t\", pRez, \"\\t\", uRez, \"\\t\", vRez)\n",
    "    end\n",
    "end"
   ]
  },
  {
   "cell_type": "code",
   "execution_count": 45,
   "metadata": {
    "collapsed": false
   },
   "outputs": [
    {
     "data": {
      "image/png": "[encoded data removed]",
      "text/plain": [
       "PyPlot.Figure(PyObject <matplotlib.figure.Figure object at 0x7f8b231099e8>)"
      ]
     },
     "metadata": {},
     "output_type": "display_data"
    }
   ],
   "source": [
    "quiver(asmatrix(u)', asmatrix(v)');"
   ]
  },
  {
   "cell_type": "code",
   "execution_count": 46,
   "metadata": {
    "collapsed": false
   },
   "outputs": [
    {
     "data": {
      "image/png": "[encoded data removed]",
      "text/plain": [
       "PyPlot.Figure(PyObject <matplotlib.figure.Figure object at 0x7f8b22edebe0>)"
      ]
     },
     "metadata": {},
     "output_type": "display_data"
    }
   ],
   "source": [
    "contourf(asmatrix(p)'); colorbar();"
   ]
  },
  {
   "cell_type": "code",
   "execution_count": 47,
   "metadata": {
    "collapsed": false
   },
   "outputs": [
    {
     "data": {
      "image/png": "[encoded data removed]",
      "text/plain": [
       "PyPlot.Figure(PyObject <matplotlib.figure.Figure object at 0x7f8b232fb7b8>)"
      ]
     },
     "metadata": {},
     "output_type": "display_data"
    }
   ],
   "source": [
    "contourf(√(asmatrix(u).^2 + asmatrix(v).^2)'); colorbar();"
   ]
  },
  {
   "cell_type": "code",
   "execution_count": null,
   "metadata": {
    "collapsed": true
   },
   "outputs": [],
   "source": []
  },
  {
   "cell_type": "code",
   "execution_count": null,
   "metadata": {
    "collapsed": true
   },
   "outputs": [],
   "source": []
  }
 ],
 "metadata": {
  "kernelspec": {
   "display_name": "Julia 0.5.0",
   "language": "julia",
   "name": "julia-0.5"
  },
  "language_info": {
   "file_extension": ".jl",
   "mimetype": "application/julia",
   "name": "julia",
   "version": "0.5.1"
  }
 },
 "nbformat": 4,
 "nbformat_minor": 2
}
